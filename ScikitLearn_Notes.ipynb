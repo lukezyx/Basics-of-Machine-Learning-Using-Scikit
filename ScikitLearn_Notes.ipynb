{
  "nbformat": 4,
  "nbformat_minor": 0,
  "metadata": {
    "colab": {
      "name": "ScikitLearn Notes.ipynb",
      "provenance": [],
      "collapsed_sections": [
        "q9bFehDyNYhn"
      ],
      "authorship_tag": "ABX9TyNE8Y6YBTbY8IUzBHHGlIkI"
    },
    "kernelspec": {
      "name": "python3",
      "display_name": "Python 3"
    },
    "language_info": {
      "name": "python"
    }
  },
  "cells": [
    {
      "cell_type": "markdown",
      "metadata": {
        "id": "q9bFehDyNYhn"
      },
      "source": [
        "# Topic 1 Overview of Machine Learning and scikit-learn"
      ]
    },
    {
      "cell_type": "markdown",
      "metadata": {
        "id": "mYef1mZzSx9P"
      },
      "source": [
        "## 023 What Dog?\n",
        "\n",
        "[What breed is that dog?](https://www.what-dog.net)\n",
        "\n",
        "What Dog is considered as supervised learning as the data set is provided as part of the learning process of the machine\n"
      ]
    },
    {
      "cell_type": "markdown",
      "metadata": {
        "id": "swu0fYQDNvdT"
      },
      "source": [
        "## 043 Checking your installation"
      ]
    },
    {
      "cell_type": "code",
      "metadata": {
        "id": "C75IuaYNNl36"
      },
      "source": [
        "import sklearn"
      ],
      "execution_count": 1,
      "outputs": []
    },
    {
      "cell_type": "markdown",
      "metadata": {
        "id": "ylQPs-ZnYMTn"
      },
      "source": [
        "# Topic 2 Classification"
      ]
    },
    {
      "cell_type": "markdown",
      "metadata": {
        "id": "vHds56s9YhEd"
      },
      "source": [
        "Classification - line of best boundary\n",
        "\n",
        "Regression - line of best fit"
      ]
    },
    {
      "cell_type": "code",
      "metadata": {
        "id": "rtdL58DFMHNr"
      },
      "source": [
        ""
      ],
      "execution_count": 1,
      "outputs": []
    },
    {
      "cell_type": "markdown",
      "metadata": {
        "id": "Iau8-nawauo9"
      },
      "source": [
        "## 049 KNN Classifier"
      ]
    },
    {
      "cell_type": "code",
      "metadata": {
        "id": "tWKn2h3LNhod"
      },
      "source": [
        "from sklearn.neighbors import KNeighborsClassifier\n",
        "\n",
        "clf = KNeighborsClassifier() # instantiate object from KNC\n"
      ],
      "execution_count": 2,
      "outputs": []
    },
    {
      "cell_type": "code",
      "metadata": {
        "id": "oiuFGRcVNi-y"
      },
      "source": [
        "?KNeighborsClassifier\n",
        "\n",
        "# ? asks for help, similar to Jupyter notebook\n",
        "# always check online docs first using this before asking for help"
      ],
      "execution_count": 3,
      "outputs": []
    },
    {
      "cell_type": "code",
      "metadata": {
        "id": "0dxhATbhcI22"
      },
      "source": [
        ""
      ],
      "execution_count": 3,
      "outputs": []
    },
    {
      "cell_type": "markdown",
      "metadata": {
        "id": "9DDKCBiIdT17"
      },
      "source": [
        "## 051 Logistic Regression Classification"
      ]
    },
    {
      "cell_type": "code",
      "metadata": {
        "id": "4wgiI6Yab-qL"
      },
      "source": [
        "from sklearn.linear_model import LogisticRegression\n",
        "\n",
        "clf = LogisticRegression()"
      ],
      "execution_count": 4,
      "outputs": []
    },
    {
      "cell_type": "markdown",
      "metadata": {
        "id": "Ojd2bwkwfpTi"
      },
      "source": [
        "## 055 SVM Classifier"
      ]
    },
    {
      "cell_type": "code",
      "metadata": {
        "id": "z3b9X3dtb_3T"
      },
      "source": [
        "from sklearn.svm import SVC\n",
        "\n",
        "clf = SVC()"
      ],
      "execution_count": 5,
      "outputs": []
    },
    {
      "cell_type": "code",
      "metadata": {
        "id": "ssIKhg1Ff3dC"
      },
      "source": [
        ""
      ],
      "execution_count": 5,
      "outputs": []
    },
    {
      "cell_type": "markdown",
      "metadata": {
        "id": "0naqG88_iPOT"
      },
      "source": [
        "## 057 GNB explanation"
      ]
    },
    {
      "cell_type": "code",
      "metadata": {
        "colab": {
          "base_uri": "https://localhost:8080/",
          "height": 238
        },
        "id": "H8lerNgbiT6n",
        "outputId": "b3be37b2-c58b-4247-fb85-0a8d5014ec87"
      },
      "source": [
        "import pandas as pd\n",
        "\n",
        "X = pd.DataFrame({\n",
        "    'Person': ['male'] * 4 + ['female'] * 4,\n",
        "    'Height': [6, 5.92, 5.58, 5.92, 5, 5.5, 5.42, 5.75],\n",
        "    'Weight': [180,190,170,165,100,150,130,150],\n",
        "    'Foot size': [12,11,12,10,6,8,7,9]\n",
        "\n",
        "})\n",
        "\n",
        "y = X.pop('Person') # extract the Height Weight and Foot size, assigning it to y\n",
        "\n",
        "from sklearn.naive_bayes import GaussianNB\n",
        "\n",
        "?GaussianNB\n",
        "\n",
        "clf = GaussianNB()\n",
        "\n",
        "clf.fit(X,y)  # supervised becasue we're providing y\n",
        "\n",
        "display(clf.theta_) # return mean\n",
        "display(clf.sigma_) # variance\n",
        "\n",
        "display(y)\n",
        "\n"
      ],
      "execution_count": 6,
      "outputs": [
        {
          "output_type": "display_data",
          "data": {
            "text/plain": [
              "array([[  5.4175, 132.5   ,   7.5   ],\n",
              "       [  5.855 , 176.25  ,  11.25  ]])"
            ]
          },
          "metadata": {}
        },
        {
          "output_type": "display_data",
          "data": {
            "text/plain": [
              "array([[7.29194840e-02, 4.18750001e+02, 1.25000073e+00],\n",
              "       [2.62757340e-02, 9.21875007e+01, 6.87500734e-01]])"
            ]
          },
          "metadata": {}
        },
        {
          "output_type": "display_data",
          "data": {
            "text/plain": [
              "0      male\n",
              "1      male\n",
              "2      male\n",
              "3      male\n",
              "4    female\n",
              "5    female\n",
              "6    female\n",
              "7    female\n",
              "Name: Person, dtype: object"
            ]
          },
          "metadata": {}
        }
      ]
    },
    {
      "cell_type": "markdown",
      "metadata": {
        "id": "sYfETiRBkqJN"
      },
      "source": [
        "## 058 Example of GNB"
      ]
    },
    {
      "cell_type": "code",
      "metadata": {
        "colab": {
          "base_uri": "https://localhost:8080/",
          "height": 51
        },
        "id": "YZhsycvmksqx",
        "outputId": "f94c3f5d-f13f-4713-c250-bac0ba7b6c4a"
      },
      "source": [
        "sample = pd.DataFrame({\n",
        "    'Height': [6],\n",
        "    'Weight': [130],\n",
        "    'Foot size': [8]\n",
        "})\n",
        "\n",
        "probabilities = clf.predict_proba(sample)\n",
        "display(probabilities)\n",
        "\n",
        "# output: array([[9.99999846e-01, 1.54426632e-07]])\n",
        "# this means that it is overwhelmingly female\n",
        "\n",
        "prediction = clf.predict(sample)\n",
        "display(prediction)\n",
        "\n",
        "# output: array(['female'], dtype='<U6')"
      ],
      "execution_count": 7,
      "outputs": [
        {
          "output_type": "display_data",
          "data": {
            "text/plain": [
              "array([[9.99999846e-01, 1.54426632e-07]])"
            ]
          },
          "metadata": {}
        },
        {
          "output_type": "display_data",
          "data": {
            "text/plain": [
              "array(['female'], dtype='<U6')"
            ]
          },
          "metadata": {}
        }
      ]
    },
    {
      "cell_type": "markdown",
      "metadata": {
        "id": "npsplagElthl"
      },
      "source": [
        "## 059 GNB classifier"
      ]
    },
    {
      "cell_type": "code",
      "metadata": {
        "id": "LbHAmxEplwRL"
      },
      "source": [
        "from sklearn.naive_bayes import GaussianNB\n",
        "\n",
        "clf = GaussianNB()"
      ],
      "execution_count": 8,
      "outputs": []
    },
    {
      "cell_type": "markdown",
      "metadata": {
        "id": "VoLXjcE5oWFc"
      },
      "source": [
        "## 061 SGD classifier"
      ]
    },
    {
      "cell_type": "code",
      "metadata": {
        "id": "kTXoQUXwobQD"
      },
      "source": [
        "from sklearn.linear_model import SGDClassifier\n",
        "\n",
        "clf = SGDClassifier()"
      ],
      "execution_count": 9,
      "outputs": []
    },
    {
      "cell_type": "markdown",
      "metadata": {
        "id": "TsDESRjGqbkz"
      },
      "source": [
        "## 063 Decision Tree Classifier"
      ]
    },
    {
      "cell_type": "code",
      "metadata": {
        "id": "_26DoBZ3qgha"
      },
      "source": [
        "from sklearn.tree import DecisionTreeClassifier\n",
        "\n",
        "clf = DecisionTreeClassifier()"
      ],
      "execution_count": 10,
      "outputs": []
    },
    {
      "cell_type": "markdown",
      "metadata": {
        "id": "HJQ4tf7rrSkD"
      },
      "source": [
        "## Step 1 Prepare the Data"
      ]
    },
    {
      "cell_type": "code",
      "metadata": {
        "colab": {
          "base_uri": "https://localhost:8080/",
          "height": 419
        },
        "id": "heFn2ktmrSwu",
        "outputId": "814864d6-35ff-4cb1-c934-b039942aca93"
      },
      "source": [
        "import pandas as pd\n",
        "\n",
        "dataset_path = 'https://raw.githubusercontent.com/tertiarycourses/datasets/master/iris.csv'\n",
        "\n",
        "x = pd.read_csv(dataset_path)\n",
        "\n",
        "display(x)"
      ],
      "execution_count": 11,
      "outputs": [
        {
          "output_type": "display_data",
          "data": {
            "text/html": [
              "<div>\n",
              "<style scoped>\n",
              "    .dataframe tbody tr th:only-of-type {\n",
              "        vertical-align: middle;\n",
              "    }\n",
              "\n",
              "    .dataframe tbody tr th {\n",
              "        vertical-align: top;\n",
              "    }\n",
              "\n",
              "    .dataframe thead th {\n",
              "        text-align: right;\n",
              "    }\n",
              "</style>\n",
              "<table border=\"1\" class=\"dataframe\">\n",
              "  <thead>\n",
              "    <tr style=\"text-align: right;\">\n",
              "      <th></th>\n",
              "      <th>sepal_length</th>\n",
              "      <th>sepal_width</th>\n",
              "      <th>petal_length</th>\n",
              "      <th>petal_width</th>\n",
              "      <th>species</th>\n",
              "    </tr>\n",
              "  </thead>\n",
              "  <tbody>\n",
              "    <tr>\n",
              "      <th>0</th>\n",
              "      <td>5.1</td>\n",
              "      <td>3.5</td>\n",
              "      <td>1.4</td>\n",
              "      <td>0.2</td>\n",
              "      <td>setosa</td>\n",
              "    </tr>\n",
              "    <tr>\n",
              "      <th>1</th>\n",
              "      <td>4.9</td>\n",
              "      <td>3.0</td>\n",
              "      <td>1.4</td>\n",
              "      <td>0.2</td>\n",
              "      <td>setosa</td>\n",
              "    </tr>\n",
              "    <tr>\n",
              "      <th>2</th>\n",
              "      <td>4.7</td>\n",
              "      <td>3.2</td>\n",
              "      <td>1.3</td>\n",
              "      <td>0.2</td>\n",
              "      <td>setosa</td>\n",
              "    </tr>\n",
              "    <tr>\n",
              "      <th>3</th>\n",
              "      <td>4.6</td>\n",
              "      <td>3.1</td>\n",
              "      <td>1.5</td>\n",
              "      <td>0.2</td>\n",
              "      <td>setosa</td>\n",
              "    </tr>\n",
              "    <tr>\n",
              "      <th>4</th>\n",
              "      <td>5.0</td>\n",
              "      <td>3.6</td>\n",
              "      <td>1.4</td>\n",
              "      <td>0.2</td>\n",
              "      <td>setosa</td>\n",
              "    </tr>\n",
              "    <tr>\n",
              "      <th>...</th>\n",
              "      <td>...</td>\n",
              "      <td>...</td>\n",
              "      <td>...</td>\n",
              "      <td>...</td>\n",
              "      <td>...</td>\n",
              "    </tr>\n",
              "    <tr>\n",
              "      <th>145</th>\n",
              "      <td>6.7</td>\n",
              "      <td>3.0</td>\n",
              "      <td>5.2</td>\n",
              "      <td>2.3</td>\n",
              "      <td>virginica</td>\n",
              "    </tr>\n",
              "    <tr>\n",
              "      <th>146</th>\n",
              "      <td>6.3</td>\n",
              "      <td>2.5</td>\n",
              "      <td>5.0</td>\n",
              "      <td>1.9</td>\n",
              "      <td>virginica</td>\n",
              "    </tr>\n",
              "    <tr>\n",
              "      <th>147</th>\n",
              "      <td>6.5</td>\n",
              "      <td>3.0</td>\n",
              "      <td>5.2</td>\n",
              "      <td>2.0</td>\n",
              "      <td>virginica</td>\n",
              "    </tr>\n",
              "    <tr>\n",
              "      <th>148</th>\n",
              "      <td>6.2</td>\n",
              "      <td>3.4</td>\n",
              "      <td>5.4</td>\n",
              "      <td>2.3</td>\n",
              "      <td>virginica</td>\n",
              "    </tr>\n",
              "    <tr>\n",
              "      <th>149</th>\n",
              "      <td>5.9</td>\n",
              "      <td>3.0</td>\n",
              "      <td>5.1</td>\n",
              "      <td>1.8</td>\n",
              "      <td>virginica</td>\n",
              "    </tr>\n",
              "  </tbody>\n",
              "</table>\n",
              "<p>150 rows × 5 columns</p>\n",
              "</div>"
            ],
            "text/plain": [
              "     sepal_length  sepal_width  petal_length  petal_width    species\n",
              "0             5.1          3.5           1.4          0.2     setosa\n",
              "1             4.9          3.0           1.4          0.2     setosa\n",
              "2             4.7          3.2           1.3          0.2     setosa\n",
              "3             4.6          3.1           1.5          0.2     setosa\n",
              "4             5.0          3.6           1.4          0.2     setosa\n",
              "..            ...          ...           ...          ...        ...\n",
              "145           6.7          3.0           5.2          2.3  virginica\n",
              "146           6.3          2.5           5.0          1.9  virginica\n",
              "147           6.5          3.0           5.2          2.0  virginica\n",
              "148           6.2          3.4           5.4          2.3  virginica\n",
              "149           5.9          3.0           5.1          1.8  virginica\n",
              "\n",
              "[150 rows x 5 columns]"
            ]
          },
          "metadata": {}
        }
      ]
    },
    {
      "cell_type": "markdown",
      "metadata": {
        "id": "CYdlfG--sd_m"
      },
      "source": [
        "## 067 Extract Features and Target"
      ]
    },
    {
      "cell_type": "code",
      "metadata": {
        "colab": {
          "base_uri": "https://localhost:8080/",
          "height": 340
        },
        "id": "YVVzKDozsYB3",
        "outputId": "9e5fba67-5710-4521-895a-af047153b9b4"
      },
      "source": [
        "y = x.pop('species')\n",
        "\n",
        "# encode the labels\n",
        "from sklearn.preprocessing import LabelEncoder\n",
        "\n",
        "le = LabelEncoder() # LabelEncoder converts the class into numbers\n",
        "\n",
        "display(y)\n",
        "\n",
        "y = le.fit_transform(y) # short for .fit(y).transform(y)\n",
        "\n",
        "display(y)"
      ],
      "execution_count": 12,
      "outputs": [
        {
          "output_type": "display_data",
          "data": {
            "text/plain": [
              "0         setosa\n",
              "1         setosa\n",
              "2         setosa\n",
              "3         setosa\n",
              "4         setosa\n",
              "         ...    \n",
              "145    virginica\n",
              "146    virginica\n",
              "147    virginica\n",
              "148    virginica\n",
              "149    virginica\n",
              "Name: species, Length: 150, dtype: object"
            ]
          },
          "metadata": {}
        },
        {
          "output_type": "display_data",
          "data": {
            "text/plain": [
              "array([0, 0, 0, 0, 0, 0, 0, 0, 0, 0, 0, 0, 0, 0, 0, 0, 0, 0, 0, 0, 0, 0,\n",
              "       0, 0, 0, 0, 0, 0, 0, 0, 0, 0, 0, 0, 0, 0, 0, 0, 0, 0, 0, 0, 0, 0,\n",
              "       0, 0, 0, 0, 0, 0, 1, 1, 1, 1, 1, 1, 1, 1, 1, 1, 1, 1, 1, 1, 1, 1,\n",
              "       1, 1, 1, 1, 1, 1, 1, 1, 1, 1, 1, 1, 1, 1, 1, 1, 1, 1, 1, 1, 1, 1,\n",
              "       1, 1, 1, 1, 1, 1, 1, 1, 1, 1, 1, 1, 2, 2, 2, 2, 2, 2, 2, 2, 2, 2,\n",
              "       2, 2, 2, 2, 2, 2, 2, 2, 2, 2, 2, 2, 2, 2, 2, 2, 2, 2, 2, 2, 2, 2,\n",
              "       2, 2, 2, 2, 2, 2, 2, 2, 2, 2, 2, 2, 2, 2, 2, 2, 2, 2])"
            ]
          },
          "metadata": {}
        }
      ]
    },
    {
      "cell_type": "markdown",
      "metadata": {
        "id": "ZV_q_XuwtpV-"
      },
      "source": [
        "## 068 Normalise/Scale the Features"
      ]
    },
    {
      "cell_type": "code",
      "metadata": {
        "colab": {
          "base_uri": "https://localhost:8080/",
          "height": 419
        },
        "id": "anMAybMhtphC",
        "outputId": "1064307e-52b3-4fb7-c3c0-9eca38b66ca9"
      },
      "source": [
        "from sklearn.preprocessing import MinMaxScaler\n",
        "\n",
        "scaler = MinMaxScaler()\n",
        "\n",
        "x_scaled = pd.DataFrame(\n",
        "    scaler.fit_transform(x), #np.array\n",
        "    columns = x.columns\n",
        "\n",
        ")\n",
        "display(x_scaled)"
      ],
      "execution_count": 13,
      "outputs": [
        {
          "output_type": "display_data",
          "data": {
            "text/html": [
              "<div>\n",
              "<style scoped>\n",
              "    .dataframe tbody tr th:only-of-type {\n",
              "        vertical-align: middle;\n",
              "    }\n",
              "\n",
              "    .dataframe tbody tr th {\n",
              "        vertical-align: top;\n",
              "    }\n",
              "\n",
              "    .dataframe thead th {\n",
              "        text-align: right;\n",
              "    }\n",
              "</style>\n",
              "<table border=\"1\" class=\"dataframe\">\n",
              "  <thead>\n",
              "    <tr style=\"text-align: right;\">\n",
              "      <th></th>\n",
              "      <th>sepal_length</th>\n",
              "      <th>sepal_width</th>\n",
              "      <th>petal_length</th>\n",
              "      <th>petal_width</th>\n",
              "    </tr>\n",
              "  </thead>\n",
              "  <tbody>\n",
              "    <tr>\n",
              "      <th>0</th>\n",
              "      <td>0.222222</td>\n",
              "      <td>0.625000</td>\n",
              "      <td>0.067797</td>\n",
              "      <td>0.041667</td>\n",
              "    </tr>\n",
              "    <tr>\n",
              "      <th>1</th>\n",
              "      <td>0.166667</td>\n",
              "      <td>0.416667</td>\n",
              "      <td>0.067797</td>\n",
              "      <td>0.041667</td>\n",
              "    </tr>\n",
              "    <tr>\n",
              "      <th>2</th>\n",
              "      <td>0.111111</td>\n",
              "      <td>0.500000</td>\n",
              "      <td>0.050847</td>\n",
              "      <td>0.041667</td>\n",
              "    </tr>\n",
              "    <tr>\n",
              "      <th>3</th>\n",
              "      <td>0.083333</td>\n",
              "      <td>0.458333</td>\n",
              "      <td>0.084746</td>\n",
              "      <td>0.041667</td>\n",
              "    </tr>\n",
              "    <tr>\n",
              "      <th>4</th>\n",
              "      <td>0.194444</td>\n",
              "      <td>0.666667</td>\n",
              "      <td>0.067797</td>\n",
              "      <td>0.041667</td>\n",
              "    </tr>\n",
              "    <tr>\n",
              "      <th>...</th>\n",
              "      <td>...</td>\n",
              "      <td>...</td>\n",
              "      <td>...</td>\n",
              "      <td>...</td>\n",
              "    </tr>\n",
              "    <tr>\n",
              "      <th>145</th>\n",
              "      <td>0.666667</td>\n",
              "      <td>0.416667</td>\n",
              "      <td>0.711864</td>\n",
              "      <td>0.916667</td>\n",
              "    </tr>\n",
              "    <tr>\n",
              "      <th>146</th>\n",
              "      <td>0.555556</td>\n",
              "      <td>0.208333</td>\n",
              "      <td>0.677966</td>\n",
              "      <td>0.750000</td>\n",
              "    </tr>\n",
              "    <tr>\n",
              "      <th>147</th>\n",
              "      <td>0.611111</td>\n",
              "      <td>0.416667</td>\n",
              "      <td>0.711864</td>\n",
              "      <td>0.791667</td>\n",
              "    </tr>\n",
              "    <tr>\n",
              "      <th>148</th>\n",
              "      <td>0.527778</td>\n",
              "      <td>0.583333</td>\n",
              "      <td>0.745763</td>\n",
              "      <td>0.916667</td>\n",
              "    </tr>\n",
              "    <tr>\n",
              "      <th>149</th>\n",
              "      <td>0.444444</td>\n",
              "      <td>0.416667</td>\n",
              "      <td>0.694915</td>\n",
              "      <td>0.708333</td>\n",
              "    </tr>\n",
              "  </tbody>\n",
              "</table>\n",
              "<p>150 rows × 4 columns</p>\n",
              "</div>"
            ],
            "text/plain": [
              "     sepal_length  sepal_width  petal_length  petal_width\n",
              "0        0.222222     0.625000      0.067797     0.041667\n",
              "1        0.166667     0.416667      0.067797     0.041667\n",
              "2        0.111111     0.500000      0.050847     0.041667\n",
              "3        0.083333     0.458333      0.084746     0.041667\n",
              "4        0.194444     0.666667      0.067797     0.041667\n",
              "..            ...          ...           ...          ...\n",
              "145      0.666667     0.416667      0.711864     0.916667\n",
              "146      0.555556     0.208333      0.677966     0.750000\n",
              "147      0.611111     0.416667      0.711864     0.791667\n",
              "148      0.527778     0.583333      0.745763     0.916667\n",
              "149      0.444444     0.416667      0.694915     0.708333\n",
              "\n",
              "[150 rows x 4 columns]"
            ]
          },
          "metadata": {}
        }
      ]
    },
    {
      "cell_type": "markdown",
      "metadata": {
        "id": "SzlmC9SuvBt0"
      },
      "source": [
        "## Split and Randomize Data\n"
      ]
    },
    {
      "cell_type": "code",
      "metadata": {
        "id": "m1YARBjqu_Ri"
      },
      "source": [
        "from sklearn.model_selection import train_test_split\n",
        "\n",
        "\n",
        "# split into training set and testing set.\n",
        "# can only be done if there's enough data points\n",
        "X_train, X_test, y_train, y_test = train_test_split(\n",
        "    x_scaled, y, test_size = 0.25, # must be 0.5 or less \n",
        "    random_state = 33\n",
        ")\n",
        "\n",
        "\n"
      ],
      "execution_count": 14,
      "outputs": []
    },
    {
      "cell_type": "markdown",
      "metadata": {
        "id": "sayzjT1h_bMN"
      },
      "source": [
        "## Step 2 Define the Model"
      ]
    },
    {
      "cell_type": "code",
      "metadata": {
        "id": "OJvYOLBA_gM2"
      },
      "source": [
        "from sklearn.neighbors import KNeighborsClassifier\n",
        "\n",
        "clf = KNeighborsClassifier()\n"
      ],
      "execution_count": 16,
      "outputs": []
    },
    {
      "cell_type": "markdown",
      "metadata": {
        "id": "XApagGA3AVRR"
      },
      "source": [
        "## Step 3 Train the Model"
      ]
    },
    {
      "cell_type": "code",
      "metadata": {
        "colab": {
          "base_uri": "https://localhost:8080/"
        },
        "id": "ee1A_WAFAYxg",
        "outputId": "33f52bf0-42cb-42a9-d9a1-fe23c61e70f5"
      },
      "source": [
        "clf.fit(X_train, y_train) # only fit with the training set\n",
        "\n"
      ],
      "execution_count": 18,
      "outputs": [
        {
          "output_type": "execute_result",
          "data": {
            "text/plain": [
              "KNeighborsClassifier(algorithm='auto', leaf_size=30, metric='minkowski',\n",
              "                     metric_params=None, n_jobs=None, n_neighbors=5, p=2,\n",
              "                     weights='uniform')"
            ]
          },
          "metadata": {},
          "execution_count": 18
        }
      ]
    },
    {
      "cell_type": "markdown",
      "metadata": {
        "id": "NL_hO3GlAs3n"
      },
      "source": [
        "## Step 4 Test the Model"
      ]
    },
    {
      "cell_type": "code",
      "metadata": {
        "colab": {
          "base_uri": "https://localhost:8080/",
          "height": 34
        },
        "id": "J43YBjQMAtQA",
        "outputId": "6cddf784-78f1-43f4-ffe0-14ed5e206e97"
      },
      "source": [
        "display(clf.score(X_test, y_test)) # only score with the test set\n",
        "\n",
        "# output: 0.9473684210526315\n",
        "# this output is 94.7% accurate.\n",
        "# for classification models, the accuracy will be based on percentage."
      ],
      "execution_count": 21,
      "outputs": [
        {
          "output_type": "display_data",
          "data": {
            "text/plain": [
              "0.9473684210526315"
            ]
          },
          "metadata": {}
        }
      ]
    },
    {
      "cell_type": "markdown",
      "metadata": {
        "id": "6VKtc7GuBLNx"
      },
      "source": [
        "## Step 5 Save the Model\n"
      ]
    },
    {
      "cell_type": "code",
      "metadata": {
        "colab": {
          "base_uri": "https://localhost:8080/"
        },
        "id": "Bv0nOa6KBLmf",
        "outputId": "0af169af-c9a4-469f-c9db-7ddceb3d6d09"
      },
      "source": [
        "\n",
        "import joblib # joblib can be used to export it into a file\n",
        "\n",
        "# download via Files side bar\n",
        "joblib.dump(clf,'mymodel.pkl')\n"
      ],
      "execution_count": 22,
      "outputs": [
        {
          "output_type": "execute_result",
          "data": {
            "text/plain": [
              "['mymodel.pkl']"
            ]
          },
          "metadata": {},
          "execution_count": 22
        }
      ]
    },
    {
      "cell_type": "markdown",
      "metadata": {
        "id": "VoKJguOFBoi0"
      },
      "source": [
        "## Load the Model for Inference"
      ]
    },
    {
      "cell_type": "code",
      "metadata": {
        "colab": {
          "base_uri": "https://localhost:8080/",
          "height": 34
        },
        "id": "bwTHypkOBoXZ",
        "outputId": "a93bb3b0-7c7e-4810-fc71-b66a956517c6"
      },
      "source": [
        "import joblib\n",
        "\n",
        "clf2 = joblib.load('mymodel.pkl')\n",
        "\n",
        "import numpy as np\n",
        "\n",
        "X_new = np.array([[6.7,3.1,4.7,1.5]])\n",
        "X_new = scaler.transform(X_new) # we transformed above, so now need to transform again. if not output will be different.\n",
        "y = clf2.predict(X_new)\n",
        "display(le.inverse_transform(y))"
      ],
      "execution_count": 23,
      "outputs": [
        {
          "output_type": "display_data",
          "data": {
            "text/plain": [
              "array(['versicolor'], dtype=object)"
            ]
          },
          "metadata": {}
        }
      ]
    },
    {
      "cell_type": "markdown",
      "metadata": {
        "id": "B6luX25yEXeo"
      },
      "source": [
        "## Exercise\n"
      ]
    },
    {
      "cell_type": "code",
      "metadata": {
        "colab": {
          "base_uri": "https://localhost:8080/",
          "height": 154
        },
        "id": "XJf-0yOWEfTr",
        "outputId": "22e14dfe-04c4-4c77-e719-49ece3a5c575"
      },
      "source": [
        "from sklearn.neighbors import KNeighborsClassifier\n",
        "from sklearn.linear_model import LogisticRegression, SGDClassifier\n",
        "from sklearn.svm import SVC\n",
        "from sklearn.naive_bayes import GaussianNB\n",
        "from sklearn.tree import DecisionTreeClassifier\n",
        "from sklearn.preprocessing import LabelEncoder, MinMaxScaler\n",
        "from sklearn.model_selection import train_test_split\n",
        "\n",
        "import pandas as pd\n",
        "\n",
        "dataset_path = 'https://raw.githubusercontent.com/tertiarycourses/datasets/master/iris.csv'\n",
        "\n",
        "\n",
        "x = pd.read_csv(dataset_path).dropna()\n",
        "\n",
        "# Encode the labels\n",
        "le = LabelEncoder()\n",
        "y = le.fit_transform(x.pop('species')) # keep this as le so we can use the inverse transforma at the end\n",
        "\n",
        "# Normalise / scale the features\n",
        "scaler = MinMaxScaler()\n",
        "X_scaled = pd.DataFrame(scaler.fit_transform(x), columns = x.columns)\n",
        "\n",
        "# Split and randomize data\n",
        "X_train, X_test, y_train, y_test = train_test_split(X_scaled, \n",
        "                                                    y, \n",
        "                                                    test_size = 0.25, \n",
        "                                                    random_state=33 )\n",
        "\n",
        "clf1 = KNeighborsClassifier()# KNN\n",
        "clf2 = LogisticRegression() # Logistic Regression\n",
        "clf3 = SVC() # SVM\n",
        "clf4 = GaussianNB()\n",
        "clf5 = SGDClassifier()\n",
        "clf6 = DecisionTreeClassifier()\n",
        "\n",
        "clf1.fit(X_train, y_train)\n",
        "clf2.fit(X_train, y_train)\n",
        "clf3.fit(X_train, y_train)\n",
        "clf4.fit(X_train, y_train)\n",
        "clf5.fit(X_train, y_train)\n",
        "clf6.fit(X_train, y_train)\n",
        "\n",
        "display(clf1.score(X_test, y_test))\n",
        "display(clf2.score(X_test, y_test))\n",
        "display(clf3.score(X_test, y_test))\n",
        "display(clf4.score(X_test, y_test))\n",
        "display(clf5.score(X_test, y_test))\n",
        "display(clf6.score(X_test, y_test))\n",
        "\n",
        "\"\"\"\n",
        "output\n",
        "0.9473684210526315\n",
        "0.868421052631579\n",
        "0.9473684210526315\n",
        "0.9473684210526315\n",
        "0.868421052631579\n",
        "0.8947368421052632\n",
        "\"\"\"\n"
      ],
      "execution_count": 4,
      "outputs": [
        {
          "output_type": "display_data",
          "data": {
            "text/plain": [
              "0.9473684210526315"
            ]
          },
          "metadata": {}
        },
        {
          "output_type": "display_data",
          "data": {
            "text/plain": [
              "0.868421052631579"
            ]
          },
          "metadata": {}
        },
        {
          "output_type": "display_data",
          "data": {
            "text/plain": [
              "0.9473684210526315"
            ]
          },
          "metadata": {}
        },
        {
          "output_type": "display_data",
          "data": {
            "text/plain": [
              "0.9473684210526315"
            ]
          },
          "metadata": {}
        },
        {
          "output_type": "display_data",
          "data": {
            "text/plain": [
              "0.9210526315789473"
            ]
          },
          "metadata": {}
        },
        {
          "output_type": "display_data",
          "data": {
            "text/plain": [
              "0.8947368421052632"
            ]
          },
          "metadata": {}
        },
        {
          "output_type": "execute_result",
          "data": {
            "application/vnd.google.colaboratory.intrinsic+json": {
              "type": "string"
            },
            "text/plain": [
              "'\\noutput\\n0.9473684210526315\\n0.868421052631579\\n0.9473684210526315\\n0.9473684210526315\\n0.868421052631579\\n0.8947368421052632\\n'"
            ]
          },
          "metadata": {},
          "execution_count": 4
        }
      ]
    },
    {
      "cell_type": "code",
      "metadata": {
        "colab": {
          "base_uri": "https://localhost:8080/",
          "height": 119
        },
        "id": "GR07RRfFEqVU",
        "outputId": "ee8f717f-6398-4964-8f9a-222e3300f30d"
      },
      "source": [
        "# using list comprehension\n",
        "\n",
        "clf = {\n",
        "    'KNN': KNeighborsClassifier(), # KNN\n",
        "    'LR': LogisticRegression(), # Logistic Regression\n",
        "    'SVC': SVC(),\n",
        "    'GNB': GaussianNB(),\n",
        "    'SGD': SGDClassifier(),\n",
        "    'DCT': DecisionTreeClassifier(),\n",
        "\n",
        "}\n",
        "\n",
        "# train the model\n",
        "clf = {\n",
        "    key: model.fit(X_train, y_train) for key, model in clf.items()\n",
        "}\n",
        "\n",
        "# evaluate the model\n",
        "scores = {\n",
        "    key: model.score(X_test, y_test) for key, model, in clf.items()\n",
        "}\n",
        "\n",
        "display(scores)"
      ],
      "execution_count": 38,
      "outputs": [
        {
          "output_type": "display_data",
          "data": {
            "text/plain": [
              "{'DCT': 0.8947368421052632,\n",
              " 'GNB': 0.9473684210526315,\n",
              " 'KNN': 0.9473684210526315,\n",
              " 'LR': 0.868421052631579,\n",
              " 'SGD': 0.7631578947368421,\n",
              " 'SVC': 0.9473684210526315}"
            ]
          },
          "metadata": {}
        }
      ]
    },
    {
      "cell_type": "markdown",
      "metadata": {
        "id": "6CE8qSr2LPtv"
      },
      "source": [
        "## 079 Random Forest Classifier"
      ]
    },
    {
      "cell_type": "code",
      "metadata": {
        "id": "w8LuULmALOcX"
      },
      "source": [
        "from sklearn.ensemble import RandomForestClassifier\n",
        "\n",
        "clf = RandomForestClassifier()\n"
      ],
      "execution_count": 5,
      "outputs": []
    },
    {
      "cell_type": "markdown",
      "metadata": {
        "id": "4TfVW4H7Oj1Z"
      },
      "source": [
        "## 081 Gradient Boosting Classifier"
      ]
    },
    {
      "cell_type": "code",
      "metadata": {
        "id": "ZZ_KpuNFOntF"
      },
      "source": [
        "from sklearn.ensemble import GradientBoostingClassifier\n",
        "\n",
        "clf = GradientBoostingClassifier()\n"
      ],
      "execution_count": 7,
      "outputs": []
    },
    {
      "cell_type": "markdown",
      "metadata": {
        "id": "Jb31wLeZPE6L"
      },
      "source": [
        "## 083 Stacking Classifier\n"
      ]
    },
    {
      "cell_type": "code",
      "metadata": {
        "id": "GWNkWXdHPFOZ"
      },
      "source": [
        "from sklearn.ensemble import VotingClassifier\n",
        "\n",
        "clf = VotingClassifier([], voting=\"hard\")\n",
        "\n",
        "?VotingClassifier"
      ],
      "execution_count": 24,
      "outputs": []
    },
    {
      "cell_type": "markdown",
      "metadata": {
        "id": "4MDfui2TPvYm"
      },
      "source": [
        "## Ensemble Methods Exercise"
      ]
    },
    {
      "cell_type": "code",
      "metadata": {
        "colab": {
          "base_uri": "https://localhost:8080/",
          "height": 119
        },
        "id": "_vxQVeInPvtG",
        "outputId": "acb7672c-65be-4018-cc2b-a891980bde07"
      },
      "source": [
        "from sklearn.ensemble import RandomForestClassifier, GradientBoostingClassifier\n",
        "from sklearn.tree import DecisionTreeClassifier\n",
        "\n",
        "dataset_path = 'https://raw.githubusercontent.com/tertiarycourses/datasets/master/winequality-red.csv'\n",
        "\n",
        "x = pd.read_csv(dataset_path, sep=';')\n",
        "\n",
        "# dont need to label encode because the there is no string to convert to numbers\n",
        "# unlike the example above\n",
        "y = x.pop('quality')\n",
        "\n",
        "# Normalise / scale the features\n",
        "scaler = MinMaxScaler()\n",
        "X_scaled = pd.DataFrame(scaler.fit_transform(x), columns = x.columns)\n",
        "\n",
        "# Split and randomize data\n",
        "X_train, X_test, y_train, y_test = train_test_split(X_scaled, \n",
        "                                                    y, \n",
        "                                                    test_size = 0.25, \n",
        "                                                    random_state=33 )\n",
        "\n",
        "base = [\n",
        "        ('lr', LogisticRegression()),\n",
        "        ('rf', RandomForestClassifier()),\n",
        "        ('gnb', GaussianNB())\n",
        "]\n",
        "\n",
        "clf = {\n",
        "    'DT': DecisionTreeClassifier(),\n",
        "    'RF': RandomForestClassifier(),\n",
        "    'GB': GradientBoostingClassifier(),\n",
        "    'KNN': KNeighborsClassifier(),\n",
        "    'SVC': SVC(),\n",
        "    'Stack': VotingClassifier(base, voting= 'hard')\n",
        "}\n",
        "\n",
        "# train the model\n",
        "clf = {\n",
        "    key: model.fit(X_train, y_train) for key, model in clf.items()\n",
        "}\n",
        "\n",
        "# evaluate the model\n",
        "scores = {\n",
        "    key: model.score(X_test, y_test) for key, model, in clf.items()\n",
        "}\n",
        "\n",
        "display(scores)\n",
        "\n",
        "# output: '{'DT': 0.5575, 'GB': 0.5975, 'RF': 0.65, 'Stack': 0.615}\n",
        "# hence, all the models suck!\n"
      ],
      "execution_count": 36,
      "outputs": [
        {
          "output_type": "display_data",
          "data": {
            "text/plain": [
              "{'DT': 0.575,\n",
              " 'GB': 0.6225,\n",
              " 'KNN': 0.5325,\n",
              " 'RF': 0.685,\n",
              " 'SVC': 0.575,\n",
              " 'Stack': 0.6125}"
            ]
          },
          "metadata": {}
        }
      ]
    },
    {
      "cell_type": "markdown",
      "metadata": {
        "id": "ZbUmOEfvXHgn"
      },
      "source": [
        "## 086 confusion matrix"
      ]
    },
    {
      "cell_type": "code",
      "metadata": {
        "colab": {
          "base_uri": "https://localhost:8080/"
        },
        "id": "aYeaRKk1S--p",
        "outputId": "d51629ef-53f4-4dec-e93e-55d30f1c2a8a"
      },
      "source": [
        "from sklearn.metrics import confusion_matrix\n",
        "\n",
        "y_pred = clf['RF'].predict(X_test)\n",
        "print(confusion_matrix(y_test, y_pred))\n",
        "\n",
        "'''\n",
        "output:\n",
        "\n",
        "from sklearn.metrics import confusion_matrix\n",
        "\n",
        "y_pred = clf['RF'].predict(X_test)\n",
        "print(confusion_matrix(y_test, y_pred))\n",
        "\n",
        "'''\n",
        "output:\n",
        "[[  0   0   1   0   0   0]\n",
        " [  1   0   7   6   0   0]\n",
        " [  0   0 130  45   1   0]\n",
        " [  0   0  38 105   8   0]\n",
        " [  0   0   2  25  25   0]\n",
        " [  0   0   0   5   1   0]]\n",
        "'''"
      ],
      "execution_count": 28,
      "outputs": [
        {
          "output_type": "stream",
          "name": "stdout",
          "text": [
            "[[  0   0   1   0   0   0]\n",
            " [  1   0   7   6   0   0]\n",
            " [  0   0 130  45   1   0]\n",
            " [  0   0  38 105   8   0]\n",
            " [  0   0   2  25  25   0]\n",
            " [  0   0   0   5   1   0]]\n"
          ]
        }
      ]
    },
    {
      "cell_type": "code",
      "metadata": {
        "colab": {
          "base_uri": "https://localhost:8080/"
        },
        "id": "66lxGJTTXocA",
        "outputId": "21708d4e-f63a-45ec-a533-33894db13678"
      },
      "source": [
        "\n",
        "y_pred = clf['KNN'].predict(X_test)\n",
        "print(confusion_matrix(y_test, y_pred))\n",
        "\n",
        "# or\n",
        "\n",
        "confusion = {\n",
        "    key: confusion_matrix(y_test, model.predict(X_test)) for key, model in clf.items()\n",
        "}\n",
        "\n",
        "print(confusion)"
      ],
      "execution_count": 40,
      "outputs": [
        {
          "output_type": "stream",
          "name": "stdout",
          "text": [
            "[[  0   1   0   0   0   0]\n",
            " [  0   0   3  11   0   0]\n",
            " [  0   4 113  58   1   0]\n",
            " [  0   1  50  82  18   0]\n",
            " [  0   0   5  29  18   0]\n",
            " [  0   0   0   3   3   0]]\n",
            "{'DT': array([[  1,   0,   0,   0,   0,   0],\n",
            "       [  3,   2,   4,   3,   2,   0],\n",
            "       [  1,   4, 108,  54,   8,   1],\n",
            "       [  3,   3,  38,  92,  12,   3],\n",
            "       [  2,   1,   3,  19,  27,   0],\n",
            "       [  0,   0,   0,   4,   2,   0]]), 'RF': array([[  0,   0,   1,   0,   0,   0],\n",
            "       [  1,   0,   7,   6,   0,   0],\n",
            "       [  0,   0, 140,  35,   1,   0],\n",
            "       [  0,   0,  41, 105,   5,   0],\n",
            "       [  0,   0,   1,  22,  29,   0],\n",
            "       [  0,   0,   0,   5,   1,   0]]), 'GB': array([[  0,   0,   1,   0,   0,   0],\n",
            "       [  0,   0,   9,   4,   1,   0],\n",
            "       [  1,   3, 133,  38,   1,   0],\n",
            "       [  1,   0,  47,  93,   9,   1],\n",
            "       [  0,   0,   5,  24,  23,   0],\n",
            "       [  0,   0,   0,   5,   1,   0]]), 'KNN': array([[  0,   1,   0,   0,   0,   0],\n",
            "       [  0,   0,   3,  11,   0,   0],\n",
            "       [  0,   4, 113,  58,   1,   0],\n",
            "       [  0,   1,  50,  82,  18,   0],\n",
            "       [  0,   0,   5,  29,  18,   0],\n",
            "       [  0,   0,   0,   3,   3,   0]]), 'SVC': array([[  0,   0,   1,   0,   0,   0],\n",
            "       [  0,   0,   8,   6,   0,   0],\n",
            "       [  0,   0, 131,  44,   1,   0],\n",
            "       [  0,   0,  54,  90,   7,   0],\n",
            "       [  0,   0,   2,  41,   9,   0],\n",
            "       [  0,   0,   0,   5,   1,   0]]), 'Stack': array([[  0,   0,   1,   0,   0,   0],\n",
            "       [  1,   2,   4,   7,   0,   0],\n",
            "       [  0,   1, 125,  49,   1,   0],\n",
            "       [  0,   3,  37, 104,   7,   0],\n",
            "       [  0,   0,   5,  33,  14,   0],\n",
            "       [  0,   0,   0,   5,   1,   0]])}\n"
          ]
        }
      ]
    },
    {
      "cell_type": "markdown",
      "metadata": {
        "id": "8cmQvAxVcxAm"
      },
      "source": [
        "## 096 Individual Metrixs for Binary Classification"
      ]
    },
    {
      "cell_type": "code",
      "metadata": {
        "colab": {
          "base_uri": "https://localhost:8080/"
        },
        "id": "pvD9cyM0cxUf",
        "outputId": "e225b233-9c41-4a77-cd5c-8bfe924b2938"
      },
      "source": [
        "from sklearn.metrics import accuracy_score, precision_score, recall_score, f1_score\n",
        "from sklearn import neighbors\n",
        "\n",
        "clf = KNeighborsClassifier()\n",
        "\n",
        "\n",
        "# binary classifications can only be 1 or 0. Hence if nunique is  <= 2 there's no issues.\n",
        "# in this case, nunique is 6, hence you need to map the y_train and y_test to 1 or\n",
        "if y_train.nunique() > 2:\n",
        "  y_train = y_train.map(lambda x: 1 if x>5 else 0)\n",
        "  y_test = y_test.map(lambda x: 1 if x >5 else 0)\n",
        "clf.fit(X_train, y_train)\n",
        "\n",
        "y_pred = clf.predict(X_test)\n",
        "\n",
        "print(f'Accuracy = {accuracy_score(y_test, y_pred)}')\n",
        "print(f'Precision = {precision_score(y_test, y_pred)}')\n",
        "print(f'Recall = {recall_score(y_test, y_pred)}')\n",
        "print(f'F1 score = {f1_score(y_test, y_pred)}')\n",
        "\n"
      ],
      "execution_count": 50,
      "outputs": [
        {
          "output_type": "stream",
          "name": "stdout",
          "text": [
            "Accuracy = 0.68\n",
            "Precision = 0.6708860759493671\n",
            "Recall = 0.7607655502392344\n",
            "F1 score = 0.7130044843049328\n"
          ]
        }
      ]
    },
    {
      "cell_type": "markdown",
      "metadata": {
        "id": "2AYqj_XLfcSI"
      },
      "source": [
        "## 097 Classification report"
      ]
    },
    {
      "cell_type": "code",
      "metadata": {
        "colab": {
          "base_uri": "https://localhost:8080/"
        },
        "id": "qS3nzojhdos3",
        "outputId": "6a11e3d8-adb9-46e6-e2da-2ee1a6f794b7"
      },
      "source": [
        "from sklearn.metrics import classification_report\n",
        "\n",
        "print(classification_report(y_test, y_pred))"
      ],
      "execution_count": 52,
      "outputs": [
        {
          "output_type": "stream",
          "name": "stdout",
          "text": [
            "              precision    recall  f1-score   support\n",
            "\n",
            "           0       0.69      0.59      0.64       191\n",
            "           1       0.67      0.76      0.71       209\n",
            "\n",
            "    accuracy                           0.68       400\n",
            "   macro avg       0.68      0.68      0.68       400\n",
            "weighted avg       0.68      0.68      0.68       400\n",
            "\n"
          ]
        }
      ]
    },
    {
      "cell_type": "markdown",
      "metadata": {
        "id": "ajyz042mfvLJ"
      },
      "source": [
        "## Metrics Exercise\n"
      ]
    },
    {
      "cell_type": "code",
      "metadata": {
        "colab": {
          "base_uri": "https://localhost:8080/"
        },
        "id": "76cw1KLhfvak",
        "outputId": "834e18de-c886-436e-fcaf-0199628937dd"
      },
      "source": [
        "from sklearn.metrics import accuracy_score, precision_score, recall_score, f1_score\n",
        "from sklearn import neighbors\n",
        "from sklearn.neighbors import KNeighborsClassifier\n",
        "from sklearn.svm import SVC\n",
        "import pandas as pd\n",
        "from sklearn.preprocessing import LabelEncoder, MinMaxScaler\n",
        "from sklearn.model_selection import train_test_split\n",
        "from sklearn.metrics import classification_report\n",
        "\n",
        "dataset_path = 'https://raw.githubusercontent.com/tertiarycourses/datasets/master/winequality-red.csv'\n",
        "\n",
        "x = pd.read_csv(dataset_path, sep=';')\n",
        "\n",
        "# dont need to label encode because the there is no string to convert to numbers\n",
        "# unlike the example above\n",
        "y = x.pop('quality')\n",
        "\n",
        "# Normalise / scale the features\n",
        "scaler = MinMaxScaler()\n",
        "X_scaled = pd.DataFrame(scaler.fit_transform(x), columns = x.columns)\n",
        "\n",
        "# Split and randomize data\n",
        "X_train, X_test, y_train, y_test = train_test_split(X_scaled, \n",
        "                                                    y, \n",
        "                                                    test_size = 0.25, \n",
        "                                                    random_state=33 )\n",
        "\n",
        "\n",
        "clf = {\n",
        "    'KNN': KNeighborsClassifier(),\n",
        "    'SVC': SVC()\n",
        "}\n",
        "\n",
        "# binary classifications can only be 1 or 0. Hence if nunique is  <= 2 there's no issues.\n",
        "# in this case, nunique is 6, hence you need to map the y_train and y_test to 1 or\n",
        "if y_train.nunique() > 2:\n",
        "  y_train = y_train.map(lambda x: 1 if x>5 else 0)\n",
        "  y_test = y_test.map(lambda x: 1 if x >5 else 0)\n",
        "\n",
        "fits = {\n",
        "    \n",
        "    clf[key].fit(X_train, y_train) for key, model in clf.items()\n",
        "}\n",
        "\n",
        "for name, model in clf.items():\n",
        "  \n",
        "  model.fit(X_train, y_train)\n",
        "  y_pred = model.predict(X_test)\n",
        "  print(f'Model: {name}')\n",
        "  print(f'Accuracy = {accuracy_score(y_test, y_pred)}')\n",
        "  print(f'Precision = {precision_score(y_test, y_pred)}')\n",
        "  print(f'Recall = {recall_score(y_test, y_pred)}')\n",
        "  print(f'F1 score = {f1_score(y_test, y_pred)}')\n",
        "  print(classification_report(y_test, y_pred))\n",
        "\n"
      ],
      "execution_count": 8,
      "outputs": [
        {
          "output_type": "stream",
          "name": "stdout",
          "text": [
            "Model: KNN\n",
            "Accuracy = 0.68\n",
            "Precision = 0.6708860759493671\n",
            "Recall = 0.7607655502392344\n",
            "F1 score = 0.7130044843049328\n",
            "              precision    recall  f1-score   support\n",
            "\n",
            "           0       0.69      0.59      0.64       191\n",
            "           1       0.67      0.76      0.71       209\n",
            "\n",
            "    accuracy                           0.68       400\n",
            "   macro avg       0.68      0.68      0.68       400\n",
            "weighted avg       0.68      0.68      0.68       400\n",
            "\n",
            "Model: SVC\n",
            "Accuracy = 0.7425\n",
            "Precision = 0.7548076923076923\n",
            "Recall = 0.7511961722488039\n",
            "F1 score = 0.7529976019184652\n",
            "              precision    recall  f1-score   support\n",
            "\n",
            "           0       0.73      0.73      0.73       191\n",
            "           1       0.75      0.75      0.75       209\n",
            "\n",
            "    accuracy                           0.74       400\n",
            "   macro avg       0.74      0.74      0.74       400\n",
            "weighted avg       0.74      0.74      0.74       400\n",
            "\n"
          ]
        }
      ]
    },
    {
      "cell_type": "markdown",
      "metadata": {
        "id": "7jPhJeDUlU4J"
      },
      "source": [
        "## 100 Receiving Operating Character"
      ]
    },
    {
      "cell_type": "code",
      "metadata": {
        "colab": {
          "base_uri": "https://localhost:8080/",
          "height": 1000
        },
        "id": "9yar06LglVPx",
        "outputId": "6ad979d2-18e3-4db4-e8a9-64f6cf251f74"
      },
      "source": [
        "from sklearn.metrics import roc_curve, roc_auc_score\n",
        "from sklearn.linear_model import LogisticRegression\n",
        "\n",
        "clf = LogisticRegression()\n",
        "clf.fit(X_train, y_train)\n",
        "\n",
        "# predict probabilites\n",
        "y_probs = clf.predict_proba(X_test)\n",
        "display(y_probs)\n",
        "y_probs = y_probs[:,1]\n",
        "\n",
        "auc_score = roc_auc_score(y_test, y_probs)\n",
        "\n",
        "print(f'AUC = {auc_score}')\n",
        "fpr, tpr, threshold = roc_curve(y_test, y_probs)\n",
        "\n",
        "import matplotlib.pyplot as plt\n",
        "\n",
        "plt.plot(fpr,\n",
        "         tpr,\n",
        "         '-o'\n",
        "         )\n",
        "plt.xlabel('False Positive Rate')\n",
        "plt.ylabel('True Positive Rate')\n",
        "plt.show()\n"
      ],
      "execution_count": 16,
      "outputs": [
        {
          "output_type": "display_data",
          "data": {
            "text/plain": [
              "array([[0.75137711, 0.24862289],\n",
              "       [0.22466092, 0.77533908],\n",
              "       [0.64007802, 0.35992198],\n",
              "       [0.2637918 , 0.7362082 ],\n",
              "       [0.51948674, 0.48051326],\n",
              "       [0.90579863, 0.09420137],\n",
              "       [0.44155649, 0.55844351],\n",
              "       [0.20864793, 0.79135207],\n",
              "       [0.39334942, 0.60665058],\n",
              "       [0.62811064, 0.37188936],\n",
              "       [0.74148408, 0.25851592],\n",
              "       [0.44976714, 0.55023286],\n",
              "       [0.48984661, 0.51015339],\n",
              "       [0.35982881, 0.64017119],\n",
              "       [0.12847151, 0.87152849],\n",
              "       [0.41098714, 0.58901286],\n",
              "       [0.57191374, 0.42808626],\n",
              "       [0.61294221, 0.38705779],\n",
              "       [0.7516214 , 0.2483786 ],\n",
              "       [0.77297344, 0.22702656],\n",
              "       [0.62961349, 0.37038651],\n",
              "       [0.08286334, 0.91713666],\n",
              "       [0.59344144, 0.40655856],\n",
              "       [0.05722555, 0.94277445],\n",
              "       [0.55645771, 0.44354229],\n",
              "       [0.62849004, 0.37150996],\n",
              "       [0.15500833, 0.84499167],\n",
              "       [0.58944545, 0.41055455],\n",
              "       [0.66506775, 0.33493225],\n",
              "       [0.64564235, 0.35435765],\n",
              "       [0.18902118, 0.81097882],\n",
              "       [0.66992571, 0.33007429],\n",
              "       [0.73144485, 0.26855515],\n",
              "       [0.06884084, 0.93115916],\n",
              "       [0.34951109, 0.65048891],\n",
              "       [0.06371206, 0.93628794],\n",
              "       [0.48006832, 0.51993168],\n",
              "       [0.62148601, 0.37851399],\n",
              "       [0.1276434 , 0.8723566 ],\n",
              "       [0.63117258, 0.36882742],\n",
              "       [0.70608533, 0.29391467],\n",
              "       [0.65281596, 0.34718404],\n",
              "       [0.67881661, 0.32118339],\n",
              "       [0.42073216, 0.57926784],\n",
              "       [0.27209817, 0.72790183],\n",
              "       [0.39226129, 0.60773871],\n",
              "       [0.57132662, 0.42867338],\n",
              "       [0.56857248, 0.43142752],\n",
              "       [0.48512194, 0.51487806],\n",
              "       [0.56352419, 0.43647581],\n",
              "       [0.42787901, 0.57212099],\n",
              "       [0.77279677, 0.22720323],\n",
              "       [0.15222672, 0.84777328],\n",
              "       [0.28106045, 0.71893955],\n",
              "       [0.25457016, 0.74542984],\n",
              "       [0.30248553, 0.69751447],\n",
              "       [0.41808239, 0.58191761],\n",
              "       [0.63109811, 0.36890189],\n",
              "       [0.8185893 , 0.1814107 ],\n",
              "       [0.23035359, 0.76964641],\n",
              "       [0.34686112, 0.65313888],\n",
              "       [0.85726882, 0.14273118],\n",
              "       [0.51745285, 0.48254715],\n",
              "       [0.48791207, 0.51208793],\n",
              "       [0.13646189, 0.86353811],\n",
              "       [0.5317316 , 0.4682684 ],\n",
              "       [0.63224574, 0.36775426],\n",
              "       [0.47699872, 0.52300128],\n",
              "       [0.14344882, 0.85655118],\n",
              "       [0.41866172, 0.58133828],\n",
              "       [0.2379334 , 0.7620666 ],\n",
              "       [0.11598526, 0.88401474],\n",
              "       [0.58383752, 0.41616248],\n",
              "       [0.5412951 , 0.4587049 ],\n",
              "       [0.77376841, 0.22623159],\n",
              "       [0.64007802, 0.35992198],\n",
              "       [0.39073681, 0.60926319],\n",
              "       [0.66649571, 0.33350429],\n",
              "       [0.53407549, 0.46592451],\n",
              "       [0.43411828, 0.56588172],\n",
              "       [0.2446171 , 0.7553829 ],\n",
              "       [0.47679685, 0.52320315],\n",
              "       [0.35173845, 0.64826155],\n",
              "       [0.02735586, 0.97264414],\n",
              "       [0.1650385 , 0.8349615 ],\n",
              "       [0.75782347, 0.24217653],\n",
              "       [0.51983879, 0.48016121],\n",
              "       [0.15916673, 0.84083327],\n",
              "       [0.89472305, 0.10527695],\n",
              "       [0.68730355, 0.31269645],\n",
              "       [0.31623023, 0.68376977],\n",
              "       [0.71667768, 0.28332232],\n",
              "       [0.17134655, 0.82865345],\n",
              "       [0.38342357, 0.61657643],\n",
              "       [0.23551074, 0.76448926],\n",
              "       [0.52998668, 0.47001332],\n",
              "       [0.82023045, 0.17976955],\n",
              "       [0.75915333, 0.24084667],\n",
              "       [0.07110672, 0.92889328],\n",
              "       [0.48984661, 0.51015339],\n",
              "       [0.21734206, 0.78265794],\n",
              "       [0.34854258, 0.65145742],\n",
              "       [0.22824111, 0.77175889],\n",
              "       [0.139787  , 0.860213  ],\n",
              "       [0.52147948, 0.47852052],\n",
              "       [0.65195799, 0.34804201],\n",
              "       [0.39345191, 0.60654809],\n",
              "       [0.06332784, 0.93667216],\n",
              "       [0.21424155, 0.78575845],\n",
              "       [0.20998493, 0.79001507],\n",
              "       [0.41342534, 0.58657466],\n",
              "       [0.15989314, 0.84010686],\n",
              "       [0.74194851, 0.25805149],\n",
              "       [0.34353392, 0.65646608],\n",
              "       [0.25786974, 0.74213026],\n",
              "       [0.61198024, 0.38801976],\n",
              "       [0.66619979, 0.33380021],\n",
              "       [0.39916003, 0.60083997],\n",
              "       [0.44302781, 0.55697219],\n",
              "       [0.13711393, 0.86288607],\n",
              "       [0.55726595, 0.44273405],\n",
              "       [0.7294472 , 0.2705528 ],\n",
              "       [0.70865579, 0.29134421],\n",
              "       [0.70212776, 0.29787224],\n",
              "       [0.27764638, 0.72235362],\n",
              "       [0.6552365 , 0.3447635 ],\n",
              "       [0.75867479, 0.24132521],\n",
              "       [0.81473867, 0.18526133],\n",
              "       [0.65707769, 0.34292231],\n",
              "       [0.15783813, 0.84216187],\n",
              "       [0.34182837, 0.65817163],\n",
              "       [0.08364746, 0.91635254],\n",
              "       [0.35485592, 0.64514408],\n",
              "       [0.3647663 , 0.6352337 ],\n",
              "       [0.11374174, 0.88625826],\n",
              "       [0.13745206, 0.86254794],\n",
              "       [0.76973951, 0.23026049],\n",
              "       [0.52998668, 0.47001332],\n",
              "       [0.74892894, 0.25107106],\n",
              "       [0.165806  , 0.834194  ],\n",
              "       [0.41477739, 0.58522261],\n",
              "       [0.10768139, 0.89231861],\n",
              "       [0.8183828 , 0.1816172 ],\n",
              "       [0.58351717, 0.41648283],\n",
              "       [0.4443759 , 0.5556241 ],\n",
              "       [0.27945077, 0.72054923],\n",
              "       [0.41866172, 0.58133828],\n",
              "       [0.63266984, 0.36733016],\n",
              "       [0.2600932 , 0.7399068 ],\n",
              "       [0.56131363, 0.43868637],\n",
              "       [0.42150541, 0.57849459],\n",
              "       [0.08817108, 0.91182892],\n",
              "       [0.41768626, 0.58231374],\n",
              "       [0.61264899, 0.38735101],\n",
              "       [0.45680164, 0.54319836],\n",
              "       [0.42004987, 0.57995013],\n",
              "       [0.10472377, 0.89527623],\n",
              "       [0.42703102, 0.57296898],\n",
              "       [0.0716266 , 0.9283734 ],\n",
              "       [0.38460436, 0.61539564],\n",
              "       [0.7492218 , 0.2507782 ],\n",
              "       [0.65750797, 0.34249203],\n",
              "       [0.18136388, 0.81863612],\n",
              "       [0.56036106, 0.43963894],\n",
              "       [0.20040878, 0.79959122],\n",
              "       [0.3950208 , 0.6049792 ],\n",
              "       [0.65981433, 0.34018567],\n",
              "       [0.5341181 , 0.4658819 ],\n",
              "       [0.86321465, 0.13678535],\n",
              "       [0.11219473, 0.88780527],\n",
              "       [0.57377009, 0.42622991],\n",
              "       [0.38444941, 0.61555059],\n",
              "       [0.15012977, 0.84987023],\n",
              "       [0.2171862 , 0.7828138 ],\n",
              "       [0.77484721, 0.22515279],\n",
              "       [0.57023968, 0.42976032],\n",
              "       [0.14514077, 0.85485923],\n",
              "       [0.06884084, 0.93115916],\n",
              "       [0.57457114, 0.42542886],\n",
              "       [0.55308802, 0.44691198],\n",
              "       [0.52670849, 0.47329151],\n",
              "       [0.53568684, 0.46431316],\n",
              "       [0.09920746, 0.90079254],\n",
              "       [0.53798658, 0.46201342],\n",
              "       [0.19137481, 0.80862519],\n",
              "       [0.65640898, 0.34359102],\n",
              "       [0.11413208, 0.88586792],\n",
              "       [0.47600446, 0.52399554],\n",
              "       [0.61971772, 0.38028228],\n",
              "       [0.72441761, 0.27558239],\n",
              "       [0.27921469, 0.72078531],\n",
              "       [0.50582499, 0.49417501],\n",
              "       [0.51871808, 0.48128192],\n",
              "       [0.25551237, 0.74448763],\n",
              "       [0.57717292, 0.42282708],\n",
              "       [0.57377009, 0.42622991],\n",
              "       [0.78114015, 0.21885985],\n",
              "       [0.73250366, 0.26749634],\n",
              "       [0.54278328, 0.45721672],\n",
              "       [0.62370392, 0.37629608],\n",
              "       [0.09011358, 0.90988642],\n",
              "       [0.17613556, 0.82386444],\n",
              "       [0.59798657, 0.40201343],\n",
              "       [0.14283033, 0.85716967],\n",
              "       [0.49986965, 0.50013035],\n",
              "       [0.80505687, 0.19494313],\n",
              "       [0.51500827, 0.48499173],\n",
              "       [0.40896958, 0.59103042],\n",
              "       [0.38990248, 0.61009752],\n",
              "       [0.5126999 , 0.4873001 ],\n",
              "       [0.21027645, 0.78972355],\n",
              "       [0.78114015, 0.21885985],\n",
              "       [0.67264264, 0.32735736],\n",
              "       [0.72918117, 0.27081883],\n",
              "       [0.08975599, 0.91024401],\n",
              "       [0.44327059, 0.55672941],\n",
              "       [0.40563315, 0.59436685],\n",
              "       [0.22624312, 0.77375688],\n",
              "       [0.78353507, 0.21646493],\n",
              "       [0.60860959, 0.39139041],\n",
              "       [0.28153119, 0.71846881],\n",
              "       [0.25478325, 0.74521675],\n",
              "       [0.37829661, 0.62170339],\n",
              "       [0.56953648, 0.43046352],\n",
              "       [0.11148235, 0.88851765],\n",
              "       [0.25646094, 0.74353906],\n",
              "       [0.68573518, 0.31426482],\n",
              "       [0.06407142, 0.93592858],\n",
              "       [0.20103665, 0.79896335],\n",
              "       [0.66978157, 0.33021843],\n",
              "       [0.3264635 , 0.6735365 ],\n",
              "       [0.13123541, 0.86876459],\n",
              "       [0.69202543, 0.30797457],\n",
              "       [0.26668307, 0.73331693],\n",
              "       [0.67013597, 0.32986403],\n",
              "       [0.7301717 , 0.2698283 ],\n",
              "       [0.61530587, 0.38469413],\n",
              "       [0.52237475, 0.47762525],\n",
              "       [0.06606323, 0.93393677],\n",
              "       [0.51356318, 0.48643682],\n",
              "       [0.31074846, 0.68925154],\n",
              "       [0.74542916, 0.25457084],\n",
              "       [0.66776763, 0.33223237],\n",
              "       [0.76973951, 0.23026049],\n",
              "       [0.31623548, 0.68376452],\n",
              "       [0.84847179, 0.15152821],\n",
              "       [0.3647663 , 0.6352337 ],\n",
              "       [0.37503649, 0.62496351],\n",
              "       [0.64062794, 0.35937206],\n",
              "       [0.26047415, 0.73952585],\n",
              "       [0.64003854, 0.35996146],\n",
              "       [0.39601861, 0.60398139],\n",
              "       [0.74148118, 0.25851882],\n",
              "       [0.61478958, 0.38521042],\n",
              "       [0.46887082, 0.53112918],\n",
              "       [0.58693208, 0.41306792],\n",
              "       [0.08286334, 0.91713666],\n",
              "       [0.72216559, 0.27783441],\n",
              "       [0.14630658, 0.85369342],\n",
              "       [0.36683425, 0.63316575],\n",
              "       [0.66017657, 0.33982343],\n",
              "       [0.40563315, 0.59436685],\n",
              "       [0.17887064, 0.82112936],\n",
              "       [0.58192821, 0.41807179],\n",
              "       [0.39683043, 0.60316957],\n",
              "       [0.61394396, 0.38605604],\n",
              "       [0.3647663 , 0.6352337 ],\n",
              "       [0.49112795, 0.50887205],\n",
              "       [0.45287501, 0.54712499],\n",
              "       [0.12934711, 0.87065289],\n",
              "       [0.4930225 , 0.5069775 ],\n",
              "       [0.34237104, 0.65762896],\n",
              "       [0.60816921, 0.39183079],\n",
              "       [0.60856676, 0.39143324],\n",
              "       [0.40864989, 0.59135011],\n",
              "       [0.57550572, 0.42449428],\n",
              "       [0.81239424, 0.18760576],\n",
              "       [0.68830291, 0.31169709],\n",
              "       [0.41229613, 0.58770387],\n",
              "       [0.37000458, 0.62999542],\n",
              "       [0.04993627, 0.95006373],\n",
              "       [0.44621577, 0.55378423],\n",
              "       [0.22588318, 0.77411682],\n",
              "       [0.76615044, 0.23384956],\n",
              "       [0.17452629, 0.82547371],\n",
              "       [0.22417053, 0.77582947],\n",
              "       [0.06871416, 0.93128584],\n",
              "       [0.5393928 , 0.4606072 ],\n",
              "       [0.76985189, 0.23014811],\n",
              "       [0.63519028, 0.36480972],\n",
              "       [0.2180744 , 0.7819256 ],\n",
              "       [0.09830581, 0.90169419],\n",
              "       [0.49513559, 0.50486441],\n",
              "       [0.49523909, 0.50476091],\n",
              "       [0.51151879, 0.48848121],\n",
              "       [0.63204058, 0.36795942],\n",
              "       [0.78148053, 0.21851947],\n",
              "       [0.26843157, 0.73156843],\n",
              "       [0.47760845, 0.52239155],\n",
              "       [0.10746654, 0.89253346],\n",
              "       [0.37159517, 0.62840483],\n",
              "       [0.27517731, 0.72482269],\n",
              "       [0.39345191, 0.60654809],\n",
              "       [0.26482699, 0.73517301],\n",
              "       [0.56880105, 0.43119895],\n",
              "       [0.74280174, 0.25719826],\n",
              "       [0.32900028, 0.67099972],\n",
              "       [0.80550554, 0.19449446],\n",
              "       [0.8186715 , 0.1813285 ],\n",
              "       [0.41570088, 0.58429912],\n",
              "       [0.52405691, 0.47594309],\n",
              "       [0.46342774, 0.53657226],\n",
              "       [0.28153119, 0.71846881],\n",
              "       [0.47959514, 0.52040486],\n",
              "       [0.80951554, 0.19048446],\n",
              "       [0.21001868, 0.78998132],\n",
              "       [0.73399788, 0.26600212],\n",
              "       [0.69647049, 0.30352951],\n",
              "       [0.21320559, 0.78679441],\n",
              "       [0.73048262, 0.26951738],\n",
              "       [0.73926048, 0.26073952],\n",
              "       [0.04573071, 0.95426929],\n",
              "       [0.3990154 , 0.6009846 ],\n",
              "       [0.59107077, 0.40892923],\n",
              "       [0.32438774, 0.67561226],\n",
              "       [0.02856412, 0.97143588],\n",
              "       [0.40474743, 0.59525257],\n",
              "       [0.64003854, 0.35996146],\n",
              "       [0.71193488, 0.28806512],\n",
              "       [0.63949192, 0.36050808],\n",
              "       [0.74169361, 0.25830639],\n",
              "       [0.28093914, 0.71906086],\n",
              "       [0.61670722, 0.38329278],\n",
              "       [0.77226756, 0.22773244],\n",
              "       [0.0460269 , 0.9539731 ],\n",
              "       [0.64377909, 0.35622091],\n",
              "       [0.66576885, 0.33423115],\n",
              "       [0.60725298, 0.39274702],\n",
              "       [0.16733587, 0.83266413],\n",
              "       [0.85118498, 0.14881502],\n",
              "       [0.77598544, 0.22401456],\n",
              "       [0.16484036, 0.83515964],\n",
              "       [0.38700107, 0.61299893],\n",
              "       [0.74992963, 0.25007037],\n",
              "       [0.06541551, 0.93458449],\n",
              "       [0.74627454, 0.25372546],\n",
              "       [0.89109965, 0.10890035],\n",
              "       [0.64694135, 0.35305865],\n",
              "       [0.54634851, 0.45365149],\n",
              "       [0.60816921, 0.39183079],\n",
              "       [0.28855237, 0.71144763],\n",
              "       [0.48393317, 0.51606683],\n",
              "       [0.28585605, 0.71414395],\n",
              "       [0.6381211 , 0.3618789 ],\n",
              "       [0.66576885, 0.33423115],\n",
              "       [0.81641705, 0.18358295],\n",
              "       [0.60184049, 0.39815951],\n",
              "       [0.78487242, 0.21512758],\n",
              "       [0.63594445, 0.36405555],\n",
              "       [0.32054624, 0.67945376],\n",
              "       [0.02735586, 0.97264414],\n",
              "       [0.4945773 , 0.5054227 ],\n",
              "       [0.16836966, 0.83163034],\n",
              "       [0.12483199, 0.87516801],\n",
              "       [0.51501008, 0.48498992],\n",
              "       [0.55308802, 0.44691198],\n",
              "       [0.25510774, 0.74489226],\n",
              "       [0.46304504, 0.53695496],\n",
              "       [0.81665949, 0.18334051],\n",
              "       [0.15472876, 0.84527124],\n",
              "       [0.41400266, 0.58599734],\n",
              "       [0.39824033, 0.60175967],\n",
              "       [0.17722241, 0.82277759],\n",
              "       [0.41229613, 0.58770387],\n",
              "       [0.52349432, 0.47650568],\n",
              "       [0.77362011, 0.22637989],\n",
              "       [0.62715019, 0.37284981],\n",
              "       [0.68650061, 0.31349939],\n",
              "       [0.46247284, 0.53752716],\n",
              "       [0.40601311, 0.59398689],\n",
              "       [0.11907605, 0.88092395],\n",
              "       [0.11374174, 0.88625826],\n",
              "       [0.00897199, 0.99102801],\n",
              "       [0.72990811, 0.27009189],\n",
              "       [0.41400266, 0.58599734],\n",
              "       [0.81473867, 0.18526133],\n",
              "       [0.2426125 , 0.7573875 ],\n",
              "       [0.54408058, 0.45591942],\n",
              "       [0.10005694, 0.89994306],\n",
              "       [0.75289741, 0.24710259],\n",
              "       [0.42059052, 0.57940948],\n",
              "       [0.62292297, 0.37707703],\n",
              "       [0.81064333, 0.18935667],\n",
              "       [0.74575388, 0.25424612],\n",
              "       [0.25565637, 0.74434363],\n",
              "       [0.58101919, 0.41898081],\n",
              "       [0.25565637, 0.74434363],\n",
              "       [0.10701227, 0.89298773],\n",
              "       [0.55303095, 0.44696905],\n",
              "       [0.42346776, 0.57653224]])"
            ]
          },
          "metadata": {}
        },
        {
          "output_type": "stream",
          "name": "stdout",
          "text": [
            "AUC = 0.8016483378842155\n"
          ]
        },
        {
          "output_type": "display_data",
          "data": {
            "image/png": "[encoded data removed]",
            "text/plain": [
              "<Figure size 432x288 with 1 Axes>"
            ]
          },
          "metadata": {
            "needs_background": "light"
          }
        }
      ]
    },
    {
      "cell_type": "markdown",
      "metadata": {
        "id": "eaPxSudSq6I1"
      },
      "source": [
        "## ROC and AUC from the Iris Data Set"
      ]
    },
    {
      "cell_type": "code",
      "metadata": {
        "colab": {
          "base_uri": "https://localhost:8080/",
          "height": 942
        },
        "id": "-AnoVkTUq6aq",
        "outputId": "484d93ce-63e4-4d79-fb89-0410f566a982"
      },
      "source": [
        "\n",
        "from sklearn.preprocessing import LabelEncoder\n",
        "import pandas as pd\n",
        "\n",
        "\n",
        "dataset_path = 'https://raw.githubusercontent.com/tertiarycourses/datasets/master/iris.csv'\n",
        "\n",
        "\n",
        "x = pd.read_csv(dataset_path).dropna()\n",
        "\n",
        "# Encode the labels\n",
        "le = LabelEncoder()\n",
        "y = x.pop('species'). map(lambda x: 1 if x =='virginica' else 0)\n",
        "\n",
        "# Normalise / scale the features\n",
        "scaler = MinMaxScaler()\n",
        "X_scaled = pd.DataFrame(scaler.fit_transform(x), columns = x.columns)\n",
        "\n",
        "# Split and randomize data\n",
        "X_train, X_test, y_train, y_test = train_test_split(X_scaled, \n",
        "                                                    y, \n",
        "                                                    test_size = 0.25, \n",
        "                                                    random_state=33 )\n",
        "\n",
        "\n",
        "\n",
        "clf = LogisticRegression()\n",
        "clf.fit(X_train, y_train)\n",
        "\n",
        "# predict probabilites\n",
        "y_probs = clf.predict_proba(X_test)\n",
        "display(y_probs)\n",
        "y_probs = y_probs[:,1]\n",
        "\n",
        "auc_score = roc_auc_score(y_test, y_probs)\n",
        "\n",
        "print(f'AUC = {auc_score}')\n",
        "fpr, tpr, threshold = roc_curve(y_test, y_probs)\n",
        "\n",
        "import matplotlib.pyplot as plt\n",
        "\n",
        "plt.plot(fpr,\n",
        "         tpr,\n",
        "         '-o'\n",
        "         )\n",
        "plt.xlabel('False Positive Rate')\n",
        "plt.ylabel('True Positive Rate')\n",
        "plt.show()\n"
      ],
      "execution_count": 17,
      "outputs": [
        {
          "output_type": "display_data",
          "data": {
            "text/plain": [
              "array([[0.77257441, 0.22742559],\n",
              "       [0.64496792, 0.35503208],\n",
              "       [0.98235112, 0.01764888],\n",
              "       [0.61991855, 0.38008145],\n",
              "       [0.59586114, 0.40413886],\n",
              "       [0.2241562 , 0.7758438 ],\n",
              "       [0.97916214, 0.02083786],\n",
              "       [0.97805922, 0.02194078],\n",
              "       [0.44743772, 0.55256228],\n",
              "       [0.24610014, 0.75389986],\n",
              "       [0.23906874, 0.76093126],\n",
              "       [0.98623141, 0.01376859],\n",
              "       [0.27630108, 0.72369892],\n",
              "       [0.67577101, 0.32422899],\n",
              "       [0.29396132, 0.70603868],\n",
              "       [0.70950767, 0.29049233],\n",
              "       [0.55918898, 0.44081102],\n",
              "       [0.97894665, 0.02105335],\n",
              "       [0.59576634, 0.40423366],\n",
              "       [0.32170044, 0.67829956],\n",
              "       [0.98376021, 0.01623979],\n",
              "       [0.96821661, 0.03178339],\n",
              "       [0.29696546, 0.70303454],\n",
              "       [0.98507066, 0.01492934],\n",
              "       [0.63692195, 0.36307805],\n",
              "       [0.54074705, 0.45925295],\n",
              "       [0.68353857, 0.31646143],\n",
              "       [0.75787093, 0.24212907],\n",
              "       [0.40716501, 0.59283499],\n",
              "       [0.53985193, 0.46014807],\n",
              "       [0.78120369, 0.21879631],\n",
              "       [0.58757417, 0.41242583],\n",
              "       [0.53124608, 0.46875392],\n",
              "       [0.32018494, 0.67981506],\n",
              "       [0.24673499, 0.75326501],\n",
              "       [0.30385111, 0.69614889],\n",
              "       [0.5225416 , 0.4774584 ],\n",
              "       [0.79285375, 0.20714625]])"
            ]
          },
          "metadata": {}
        },
        {
          "output_type": "stream",
          "name": "stdout",
          "text": [
            "AUC = 0.9861495844875345\n"
          ]
        },
        {
          "output_type": "display_data",
          "data": {
            "image/png": "[encoded data removed]",
            "text/plain": [
              "<Figure size 432x288 with 1 Axes>"
            ]
          },
          "metadata": {
            "needs_background": "light"
          }
        }
      ]
    },
    {
      "cell_type": "markdown",
      "metadata": {
        "id": "WWkXDFQMsJ_G"
      },
      "source": [
        "# Topic 3 Regression"
      ]
    },
    {
      "cell_type": "code",
      "metadata": {
        "colab": {
          "base_uri": "https://localhost:8080/",
          "height": 439
        },
        "id": "LNXJ70IgsKP8",
        "outputId": "d31ec7f7-0ed9-4738-9ddc-169f408e0a10"
      },
      "source": [
        "from sklearn.datasets import load_boston\n",
        "import pandas as pd\n",
        "\n",
        "boston = load_boston()\n",
        "\n",
        "x = pd.DataFrame(boston.data, columns=boston.feature_names)\n",
        "\n",
        "display(x)\n"
      ],
      "execution_count": 22,
      "outputs": [
        {
          "output_type": "display_data",
          "data": {
            "text/html": [
              "<div>\n",
              "<style scoped>\n",
              "    .dataframe tbody tr th:only-of-type {\n",
              "        vertical-align: middle;\n",
              "    }\n",
              "\n",
              "    .dataframe tbody tr th {\n",
              "        vertical-align: top;\n",
              "    }\n",
              "\n",
              "    .dataframe thead th {\n",
              "        text-align: right;\n",
              "    }\n",
              "</style>\n",
              "<table border=\"1\" class=\"dataframe\">\n",
              "  <thead>\n",
              "    <tr style=\"text-align: right;\">\n",
              "      <th></th>\n",
              "      <th>CRIM</th>\n",
              "      <th>ZN</th>\n",
              "      <th>INDUS</th>\n",
              "      <th>CHAS</th>\n",
              "      <th>NOX</th>\n",
              "      <th>RM</th>\n",
              "      <th>AGE</th>\n",
              "      <th>DIS</th>\n",
              "      <th>RAD</th>\n",
              "      <th>TAX</th>\n",
              "      <th>PTRATIO</th>\n",
              "      <th>B</th>\n",
              "      <th>LSTAT</th>\n",
              "    </tr>\n",
              "  </thead>\n",
              "  <tbody>\n",
              "    <tr>\n",
              "      <th>0</th>\n",
              "      <td>0.00632</td>\n",
              "      <td>18.0</td>\n",
              "      <td>2.31</td>\n",
              "      <td>0.0</td>\n",
              "      <td>0.538</td>\n",
              "      <td>6.575</td>\n",
              "      <td>65.2</td>\n",
              "      <td>4.0900</td>\n",
              "      <td>1.0</td>\n",
              "      <td>296.0</td>\n",
              "      <td>15.3</td>\n",
              "      <td>396.90</td>\n",
              "      <td>4.98</td>\n",
              "    </tr>\n",
              "    <tr>\n",
              "      <th>1</th>\n",
              "      <td>0.02731</td>\n",
              "      <td>0.0</td>\n",
              "      <td>7.07</td>\n",
              "      <td>0.0</td>\n",
              "      <td>0.469</td>\n",
              "      <td>6.421</td>\n",
              "      <td>78.9</td>\n",
              "      <td>4.9671</td>\n",
              "      <td>2.0</td>\n",
              "      <td>242.0</td>\n",
              "      <td>17.8</td>\n",
              "      <td>396.90</td>\n",
              "      <td>9.14</td>\n",
              "    </tr>\n",
              "    <tr>\n",
              "      <th>2</th>\n",
              "      <td>0.02729</td>\n",
              "      <td>0.0</td>\n",
              "      <td>7.07</td>\n",
              "      <td>0.0</td>\n",
              "      <td>0.469</td>\n",
              "      <td>7.185</td>\n",
              "      <td>61.1</td>\n",
              "      <td>4.9671</td>\n",
              "      <td>2.0</td>\n",
              "      <td>242.0</td>\n",
              "      <td>17.8</td>\n",
              "      <td>392.83</td>\n",
              "      <td>4.03</td>\n",
              "    </tr>\n",
              "    <tr>\n",
              "      <th>3</th>\n",
              "      <td>0.03237</td>\n",
              "      <td>0.0</td>\n",
              "      <td>2.18</td>\n",
              "      <td>0.0</td>\n",
              "      <td>0.458</td>\n",
              "      <td>6.998</td>\n",
              "      <td>45.8</td>\n",
              "      <td>6.0622</td>\n",
              "      <td>3.0</td>\n",
              "      <td>222.0</td>\n",
              "      <td>18.7</td>\n",
              "      <td>394.63</td>\n",
              "      <td>2.94</td>\n",
              "    </tr>\n",
              "    <tr>\n",
              "      <th>4</th>\n",
              "      <td>0.06905</td>\n",
              "      <td>0.0</td>\n",
              "      <td>2.18</td>\n",
              "      <td>0.0</td>\n",
              "      <td>0.458</td>\n",
              "      <td>7.147</td>\n",
              "      <td>54.2</td>\n",
              "      <td>6.0622</td>\n",
              "      <td>3.0</td>\n",
              "      <td>222.0</td>\n",
              "      <td>18.7</td>\n",
              "      <td>396.90</td>\n",
              "      <td>5.33</td>\n",
              "    </tr>\n",
              "    <tr>\n",
              "      <th>...</th>\n",
              "      <td>...</td>\n",
              "      <td>...</td>\n",
              "      <td>...</td>\n",
              "      <td>...</td>\n",
              "      <td>...</td>\n",
              "      <td>...</td>\n",
              "      <td>...</td>\n",
              "      <td>...</td>\n",
              "      <td>...</td>\n",
              "      <td>...</td>\n",
              "      <td>...</td>\n",
              "      <td>...</td>\n",
              "      <td>...</td>\n",
              "    </tr>\n",
              "    <tr>\n",
              "      <th>501</th>\n",
              "      <td>0.06263</td>\n",
              "      <td>0.0</td>\n",
              "      <td>11.93</td>\n",
              "      <td>0.0</td>\n",
              "      <td>0.573</td>\n",
              "      <td>6.593</td>\n",
              "      <td>69.1</td>\n",
              "      <td>2.4786</td>\n",
              "      <td>1.0</td>\n",
              "      <td>273.0</td>\n",
              "      <td>21.0</td>\n",
              "      <td>391.99</td>\n",
              "      <td>9.67</td>\n",
              "    </tr>\n",
              "    <tr>\n",
              "      <th>502</th>\n",
              "      <td>0.04527</td>\n",
              "      <td>0.0</td>\n",
              "      <td>11.93</td>\n",
              "      <td>0.0</td>\n",
              "      <td>0.573</td>\n",
              "      <td>6.120</td>\n",
              "      <td>76.7</td>\n",
              "      <td>2.2875</td>\n",
              "      <td>1.0</td>\n",
              "      <td>273.0</td>\n",
              "      <td>21.0</td>\n",
              "      <td>396.90</td>\n",
              "      <td>9.08</td>\n",
              "    </tr>\n",
              "    <tr>\n",
              "      <th>503</th>\n",
              "      <td>0.06076</td>\n",
              "      <td>0.0</td>\n",
              "      <td>11.93</td>\n",
              "      <td>0.0</td>\n",
              "      <td>0.573</td>\n",
              "      <td>6.976</td>\n",
              "      <td>91.0</td>\n",
              "      <td>2.1675</td>\n",
              "      <td>1.0</td>\n",
              "      <td>273.0</td>\n",
              "      <td>21.0</td>\n",
              "      <td>396.90</td>\n",
              "      <td>5.64</td>\n",
              "    </tr>\n",
              "    <tr>\n",
              "      <th>504</th>\n",
              "      <td>0.10959</td>\n",
              "      <td>0.0</td>\n",
              "      <td>11.93</td>\n",
              "      <td>0.0</td>\n",
              "      <td>0.573</td>\n",
              "      <td>6.794</td>\n",
              "      <td>89.3</td>\n",
              "      <td>2.3889</td>\n",
              "      <td>1.0</td>\n",
              "      <td>273.0</td>\n",
              "      <td>21.0</td>\n",
              "      <td>393.45</td>\n",
              "      <td>6.48</td>\n",
              "    </tr>\n",
              "    <tr>\n",
              "      <th>505</th>\n",
              "      <td>0.04741</td>\n",
              "      <td>0.0</td>\n",
              "      <td>11.93</td>\n",
              "      <td>0.0</td>\n",
              "      <td>0.573</td>\n",
              "      <td>6.030</td>\n",
              "      <td>80.8</td>\n",
              "      <td>2.5050</td>\n",
              "      <td>1.0</td>\n",
              "      <td>273.0</td>\n",
              "      <td>21.0</td>\n",
              "      <td>396.90</td>\n",
              "      <td>7.88</td>\n",
              "    </tr>\n",
              "  </tbody>\n",
              "</table>\n",
              "<p>506 rows × 13 columns</p>\n",
              "</div>"
            ],
            "text/plain": [
              "        CRIM    ZN  INDUS  CHAS    NOX  ...  RAD    TAX  PTRATIO       B  LSTAT\n",
              "0    0.00632  18.0   2.31   0.0  0.538  ...  1.0  296.0     15.3  396.90   4.98\n",
              "1    0.02731   0.0   7.07   0.0  0.469  ...  2.0  242.0     17.8  396.90   9.14\n",
              "2    0.02729   0.0   7.07   0.0  0.469  ...  2.0  242.0     17.8  392.83   4.03\n",
              "3    0.03237   0.0   2.18   0.0  0.458  ...  3.0  222.0     18.7  394.63   2.94\n",
              "4    0.06905   0.0   2.18   0.0  0.458  ...  3.0  222.0     18.7  396.90   5.33\n",
              "..       ...   ...    ...   ...    ...  ...  ...    ...      ...     ...    ...\n",
              "501  0.06263   0.0  11.93   0.0  0.573  ...  1.0  273.0     21.0  391.99   9.67\n",
              "502  0.04527   0.0  11.93   0.0  0.573  ...  1.0  273.0     21.0  396.90   9.08\n",
              "503  0.06076   0.0  11.93   0.0  0.573  ...  1.0  273.0     21.0  396.90   5.64\n",
              "504  0.10959   0.0  11.93   0.0  0.573  ...  1.0  273.0     21.0  393.45   6.48\n",
              "505  0.04741   0.0  11.93   0.0  0.573  ...  1.0  273.0     21.0  396.90   7.88\n",
              "\n",
              "[506 rows x 13 columns]"
            ]
          },
          "metadata": {}
        }
      ]
    },
    {
      "cell_type": "markdown",
      "metadata": {
        "id": "77ZyXnbzyiqv"
      },
      "source": [
        "## 114 Prepare the Data for Training"
      ]
    },
    {
      "cell_type": "code",
      "metadata": {
        "id": "V3R7iNYhyi_M"
      },
      "source": [
        "x = x.dropna()\n",
        "\n",
        "y = boston.target\n"
      ],
      "execution_count": 28,
      "outputs": []
    },
    {
      "cell_type": "markdown",
      "metadata": {
        "id": "oTvAWMi5y8nt"
      },
      "source": [
        "## 115 Normalize/Scale the Input Data"
      ]
    },
    {
      "cell_type": "code",
      "metadata": {
        "id": "McLFiJFry85I"
      },
      "source": [
        "from sklearn.preprocessing import StandardScaler\n",
        "\n",
        "scaler = StandardScaler()\n",
        "\n",
        "x_scaled = pd.DataFrame(\n",
        "    scaler.fit_transform(x),\n",
        "    columns = x.columns\n",
        ")"
      ],
      "execution_count": 30,
      "outputs": []
    },
    {
      "cell_type": "code",
      "metadata": {
        "id": "ZF2Dr8RazzNx"
      },
      "source": [
        ""
      ],
      "execution_count": null,
      "outputs": []
    },
    {
      "cell_type": "markdown",
      "metadata": {
        "id": "LMw02uMEzg29"
      },
      "source": [
        "## 116 Split the Input Data\n",
        "\n"
      ]
    },
    {
      "cell_type": "code",
      "metadata": {
        "id": "loppWleBzhPW"
      },
      "source": [
        "from sklearn.model_selection import train_test_split\n",
        "\n",
        "\n",
        "X_train, X_test, y_train, y_test = train_test_split(\n",
        "    x_scaled,\n",
        "    y,\n",
        "    test_size = 0.3,\n",
        "    random_state = 100\n",
        ")"
      ],
      "execution_count": 41,
      "outputs": []
    },
    {
      "cell_type": "markdown",
      "metadata": {
        "id": "WAnbKyqlzzxY"
      },
      "source": [
        "## 117 Define the Linear Regression Model\n"
      ]
    },
    {
      "cell_type": "code",
      "metadata": {
        "id": "6vU4qhO8z0DQ"
      },
      "source": [
        "from sklearn.linear_model import LinearRegression\n",
        "\n",
        "lm = LinearRegression() # lm = linear model\n",
        "\n",
        "# Train the model\n",
        "\n"
      ],
      "execution_count": 42,
      "outputs": []
    },
    {
      "cell_type": "markdown",
      "metadata": {
        "id": "xSYx5BNO0I3H"
      },
      "source": [
        "## 118 Train the Model"
      ]
    },
    {
      "cell_type": "code",
      "metadata": {
        "colab": {
          "base_uri": "https://localhost:8080/"
        },
        "id": "0SFlEJnBz_sW",
        "outputId": "4bdb84ab-db87-4004-b383-f92ad2bd45f1"
      },
      "source": [
        "lm.fit(X_train, y_train)"
      ],
      "execution_count": 43,
      "outputs": [
        {
          "output_type": "execute_result",
          "data": {
            "text/plain": [
              "LinearRegression(copy_X=True, fit_intercept=True, n_jobs=None, normalize=False)"
            ]
          },
          "metadata": {},
          "execution_count": 43
        }
      ]
    },
    {
      "cell_type": "markdown",
      "metadata": {
        "id": "KKA1lqLZ0Xuj"
      },
      "source": [
        "## 120 Model Metrics"
      ]
    },
    {
      "cell_type": "code",
      "metadata": {
        "colab": {
          "base_uri": "https://localhost:8080/"
        },
        "id": "gMN320oE0YAb",
        "outputId": "368ac191-22f5-44ba-fdb7-4c5d55126d37"
      },
      "source": [
        "from sklearn.metrics import mean_squared_error, r2_score\n",
        "\n",
        "y_hat = lm.predict(X_train)\n",
        "\n",
        "mse = mean_squared_error(y_train, y_hat)\n",
        "print(f'Mean Squared Error, Training: {mse}')\n",
        "\n",
        "rsq = r2_score(y_train, y_hat)\n",
        "print(f'R-square, Training: {rsq}')\n",
        "\n",
        "y_hat = lm.predict(X_test)\n",
        "\n",
        "mse = mean_squared_error(y_test, y_hat)\n",
        "print(f'Mean Squared Error, Testing: {mse}')\n",
        "\n",
        "rsq = r2_score(y_test, y_hat)\n",
        "print(f'R-square, Testing: {rsq}')\n",
        "\n"
      ],
      "execution_count": 44,
      "outputs": [
        {
          "output_type": "stream",
          "name": "stdout",
          "text": [
            "Mean Squared Error, Training: 19.06739115538505\n",
            "R-square, Training: 0.752890983596846\n",
            "Mean Squared Error, Testing: 29.798844301478862\n",
            "R-square, Testing: 0.7057919873264537\n"
          ]
        }
      ]
    },
    {
      "cell_type": "markdown",
      "metadata": {
        "id": "lG4z2jYw18eb"
      },
      "source": [
        "## 121 Evaluate the Model"
      ]
    },
    {
      "cell_type": "code",
      "metadata": {
        "colab": {
          "base_uri": "https://localhost:8080/",
          "height": 296
        },
        "id": "IKpEB92X186L",
        "outputId": "fa2c09bb-4ff3-4bdb-d906-bba4320320b7"
      },
      "source": [
        "import matplotlib.pyplot as plt\n",
        "\n",
        "y_hat = lm.predict(X_test)\n",
        "\n",
        "plt.scatter(y_test, y_hat)\n",
        "plt.xlabel('actual house price')\n",
        "plt.ylabel('predicted price')\n",
        "plt.plot([0,50],[0,50],'r')\n"
      ],
      "execution_count": 46,
      "outputs": [
        {
          "output_type": "execute_result",
          "data": {
            "text/plain": [
              "[<matplotlib.lines.Line2D at 0x7fba16dbcb50>]"
            ]
          },
          "metadata": {},
          "execution_count": 46
        },
        {
          "output_type": "display_data",
          "data": {
            "image/png": "[encoded data removed]",
            "text/plain": [
              "<Figure size 432x288 with 1 Axes>"
            ]
          },
          "metadata": {
            "needs_background": "light"
          }
        }
      ]
    },
    {
      "cell_type": "code",
      "metadata": {
        "id": "hn87g_O_U_b6"
      },
      "source": [
        ""
      ],
      "execution_count": null,
      "outputs": []
    },
    {
      "cell_type": "markdown",
      "metadata": {
        "id": "4U88OxwtVBJ6"
      },
      "source": [
        "## 122 Predictive Regression Model Homework"
      ]
    },
    {
      "cell_type": "code",
      "metadata": {
        "colab": {
          "base_uri": "https://localhost:8080/",
          "height": 364
        },
        "id": "geJLyTKdTiPU",
        "outputId": "f56dcb9a-a5ba-458c-93b7-7247208f6bd5"
      },
      "source": [
        "import pandas as pd\n",
        "from sklearn.metrics import mean_squared_error, r2_score\n",
        "from sklearn.model_selection import train_test_split\n",
        "from sklearn.linear_model import LinearRegression\n",
        "\n",
        "# dataset\n",
        "dataset_path = 'https://raw.githubusercontent.com/tertiarycourses/datasets/master/iris.csv'\n",
        "\n",
        "X = pd.read_csv(dataset_path).drop('species', axis= 'columns')\n",
        "\n",
        "y = X.pop('sepal_width')\n",
        "\n",
        "# scale the model\n",
        "# x_scaled = pd.DataFrame(\n",
        "#     scaler.fit_transform(x), #np.array\n",
        "#     columns = x.columns\n",
        "\n",
        "# try testing with or without of X or X-scaled\n",
        "# scale should not affect for linear models\n",
        "X_train, X_test, y_train, y_test = train_test_split(\n",
        "    X, # or X_scaled\n",
        "    y,\n",
        "    test_size = 0.25,\n",
        "    random_state = 33\n",
        ")\n",
        "\n",
        "# instantiate the linear regression model\n",
        "lr = LinearRegression() \n",
        "\n",
        "# Train the model\n",
        "lr.fit(X_train, y_train)\n",
        "\n",
        "\n",
        "# MSE and RSQ for training\n",
        "y_hat = lr.predict(X_train)\n",
        "mse = mean_squared_error(y_train, y_hat)\n",
        "print(f'Mean Squared Error, Training: {mse}')\n",
        "rsq = r2_score(y_train, y_hat)\n",
        "print(f'R-square, Training: {rsq}')\n",
        "\n",
        "\n",
        "# MSE and RSQ for testing\n",
        "y_hat = lr.predict(X_test)\n",
        "\n",
        "mse = mean_squared_error(y_test, y_hat)\n",
        "print(f'Mean Squared Error, Testing: {mse}')\n",
        "rsq = r2_score(y_test, y_hat)\n",
        "print(f'R-square, Testing: {rsq}')\n",
        "\n",
        "\n",
        "# plot the graph\n",
        "\n",
        "import matplotlib.pyplot as plt\n",
        "\n",
        "plt.scatter(y_test, y_hat)\n",
        "plt.xlabel('sepal width')\n",
        "plt.ylabel('predicted width')\n",
        "plt.plot([1.75,4],[1.75,4],'r')\n",
        "# plt.axis('square')\n"
      ],
      "execution_count": 17,
      "outputs": [
        {
          "output_type": "stream",
          "name": "stdout",
          "text": [
            "Mean Squared Error, Training: 0.09472983210203452\n",
            "R-square, Training: 0.5762338937392405\n",
            "Mean Squared Error, Testing: 0.08075657040037824\n",
            "R-square, Testing: -0.031512495870377855\n"
          ]
        },
        {
          "output_type": "execute_result",
          "data": {
            "text/plain": [
              "[<matplotlib.lines.Line2D at 0x7f13250cee50>]"
            ]
          },
          "metadata": {},
          "execution_count": 17
        },
        {
          "output_type": "display_data",
          "data": {
            "image/png": "[encoded data removed]",
            "text/plain": [
              "<Figure size 432x288 with 1 Axes>"
            ]
          },
          "metadata": {
            "needs_background": "light"
          }
        }
      ]
    },
    {
      "cell_type": "markdown",
      "metadata": {
        "id": "yqBTKoKrcBxU"
      },
      "source": [
        "## Regularizations in Scikit Learn"
      ]
    },
    {
      "cell_type": "code",
      "metadata": {
        "colab": {
          "base_uri": "https://localhost:8080/"
        },
        "id": "dTgMdEJFcCDN",
        "outputId": "e33f9a97-c93f-42be-f7a1-87b43e068962"
      },
      "source": [
        "from sklearn.linear_model import Ridge, Lasso, ElasticNet\n",
        "\n",
        "rr = Ridge(alpha=0.1)\n",
        "lr = Lasso(alpha=0.1)\n",
        "# l1_ratio = 0 means ridge, l1_ratio = 1 means lasso\n",
        "er = ElasticNet(alpha=0.1, l1_ratio = 0.5) # this is a oombination of Ridge and Lasso regression\n",
        "\n",
        "rr.fit(X_train, y_train)\n",
        "lr.fit(X_train, y_train)\n",
        "er.fit(X_train, y_train)\n",
        "\n",
        "\n"
      ],
      "execution_count": 21,
      "outputs": [
        {
          "output_type": "execute_result",
          "data": {
            "text/plain": [
              "ElasticNet(alpha=0.1, copy_X=True, fit_intercept=True, l1_ratio=0.5,\n",
              "           max_iter=1000, normalize=False, positive=False, precompute=False,\n",
              "           random_state=None, selection='cyclic', tol=0.0001, warm_start=False)"
            ]
          },
          "metadata": {},
          "execution_count": 21
        }
      ]
    },
    {
      "cell_type": "markdown",
      "metadata": {
        "id": "t8nrMW3Gl_iI"
      },
      "source": [
        "# Topic 4 Clustering"
      ]
    },
    {
      "cell_type": "markdown",
      "metadata": {
        "id": "u6wjhmXHYG5r"
      },
      "source": [
        "## 136 How to Choose K"
      ]
    },
    {
      "cell_type": "code",
      "metadata": {
        "colab": {
          "base_uri": "https://localhost:8080/"
        },
        "id": "-JxI_4wGl_0Y",
        "outputId": "66ee6e34-d8d9-41d2-e029-65fa58fcb517"
      },
      "source": [
        "from sklearn.metrics import silhouette_score\n",
        "from sklearn.cluster import KMeans\n",
        "\n",
        "for i in range(2,9):\n",
        "  cluster = KMeans(n_clusters=i, random_state =10)\n",
        "  cluster.fit(X) # X is for the Iris data set\n",
        "  s = silhouette_score(X, cluster.labels_)\n",
        "  print('Cluster: ', i, 'Silhouette Score:', s)\n",
        "\n",
        "\n",
        "\"\"\"\n",
        "output:\n",
        "Cluster:  2 Silhouette Score: 0.7019459463656291\n",
        "Cluster:  3 Silhouette Score: 0.5847390326324567\n",
        "Cluster:  4 Silhouette Score: 0.5430491589976363\n",
        "Cluster:  5 Silhouette Score: 0.5463337347833246\n",
        "Cluster:  6 Silhouette Score: 0.5363674900325149\n",
        "Cluster:  7 Silhouette Score: 0.3919694090435893\n",
        "Cluster:  8 Silhouette Score: 0.3857227051281268\n",
        "\n",
        "\"\"\""
      ],
      "execution_count": 26,
      "outputs": [
        {
          "output_type": "stream",
          "name": "stdout",
          "text": [
            "Cluster:  2 Silhouette Score: 0.7019459463656291\n",
            "Cluster:  3 Silhouette Score: 0.5847390326324567\n",
            "Cluster:  4 Silhouette Score: 0.5430491589976363\n",
            "Cluster:  5 Silhouette Score: 0.5463337347833246\n",
            "Cluster:  6 Silhouette Score: 0.5363674900325149\n",
            "Cluster:  7 Silhouette Score: 0.3919694090435893\n",
            "Cluster:  8 Silhouette Score: 0.3857227051281268\n"
          ]
        }
      ]
    },
    {
      "cell_type": "markdown",
      "metadata": {
        "id": "qvSrxklNnGMH"
      },
      "source": [
        "## 137 K-Means Clustering Steps\n"
      ]
    },
    {
      "cell_type": "code",
      "metadata": {
        "colab": {
          "base_uri": "https://localhost:8080/",
          "height": 265
        },
        "id": "obWd2Lqhm55q",
        "outputId": "efd0b25e-e48d-4eb0-b840-dedd4dd6f034"
      },
      "source": [
        "# step 1 model\n",
        "\n",
        "from sklearn.cluster import KMeans\n",
        "cluster = KMeans(n_clusters = 2)\n",
        "\n",
        "#step 2 training\n",
        "cluster.fit(X) # unsupervised learning only train X\n",
        "\n",
        "# step 3 evaluation\n",
        "import matplotlib.pyplot as plt\n",
        "\n",
        "plt.scatter(X['sepal_length'],\n",
        "            X['petal_length'],\n",
        "            c = cluster.labels_)\n",
        "\n",
        "plt.show()\n",
        "\n"
      ],
      "execution_count": 146,
      "outputs": [
        {
          "output_type": "display_data",
          "data": {
            "image/png": "[encoded data removed]",
            "text/plain": [
              "<Figure size 432x288 with 1 Axes>"
            ]
          },
          "metadata": {
            "needs_background": "light"
          }
        }
      ]
    },
    {
      "cell_type": "markdown",
      "metadata": {
        "id": "Nae7fZOWoPiu"
      },
      "source": [
        "## Clustering Output"
      ]
    },
    {
      "cell_type": "code",
      "metadata": {
        "colab": {
          "base_uri": "https://localhost:8080/",
          "height": 170
        },
        "id": "FujLB6ZJoTmS",
        "outputId": "8463e6a1-57f9-40eb-f045-2b59c1f61a68"
      },
      "source": [
        "display(cluster.cluster_centers_)\n",
        "display(cluster.labels_)\n",
        "\n",
        "\"\"\"\n",
        "output:\n",
        "the cluster centers (centroids) are in a 3D space, but we only plotted a 2D diagram above.\n",
        "\n",
        "array([[5.00555556, 1.59814815, 0.30185185],\n",
        "       [6.31458333, 4.97395833, 1.703125  ]])\n",
        "array([0, 0, 0, 0, 0, 0, 0, 0, 0, 0, 0, 0, 0, 0, 0, 0, 0, 0, 0, 0, 0, 0,\n",
        "       0, 0, 0, 0, 0, 0, 0, 0, 0, 0, 0, 0, 0, 0, 0, 0, 0, 0, 0, 0, 0, 0,\n",
        "       0, 0, 0, 0, 0, 0, 1, 1, 1, 1, 1, 1, 1, 0, 1, 1, 0, 1, 1, 1, 1, 1,\n",
        "       1, 1, 1, 1, 1, 1, 1, 1, 1, 1, 1, 1, 1, 1, 1, 1, 1, 1, 1, 1, 1, 1,\n",
        "       1, 1, 1, 1, 1, 0, 1, 1, 1, 1, 0, 1, 1, 1, 1, 1, 1, 1, 1, 1, 1, 1,\n",
        "       1, 1, 1, 1, 1, 1, 1, 1, 1, 1, 1, 1, 1, 1, 1, 1, 1, 1, 1, 1, 1, 1,\n",
        "       1, 1, 1, 1, 1, 1, 1, 1, 1, 1, 1, 1, 1, 1, 1, 1, 1, 1], dtype=int32)\n",
        "\"\"\""
      ],
      "execution_count": 34,
      "outputs": [
        {
          "output_type": "display_data",
          "data": {
            "text/plain": [
              "array([[5.00555556, 1.59814815, 0.30185185],\n",
              "       [6.31458333, 4.97395833, 1.703125  ]])"
            ]
          },
          "metadata": {}
        },
        {
          "output_type": "display_data",
          "data": {
            "text/plain": [
              "array([0, 0, 0, 0, 0, 0, 0, 0, 0, 0, 0, 0, 0, 0, 0, 0, 0, 0, 0, 0, 0, 0,\n",
              "       0, 0, 0, 0, 0, 0, 0, 0, 0, 0, 0, 0, 0, 0, 0, 0, 0, 0, 0, 0, 0, 0,\n",
              "       0, 0, 0, 0, 0, 0, 1, 1, 1, 1, 1, 1, 1, 0, 1, 1, 0, 1, 1, 1, 1, 1,\n",
              "       1, 1, 1, 1, 1, 1, 1, 1, 1, 1, 1, 1, 1, 1, 1, 1, 1, 1, 1, 1, 1, 1,\n",
              "       1, 1, 1, 1, 1, 0, 1, 1, 1, 1, 0, 1, 1, 1, 1, 1, 1, 1, 1, 1, 1, 1,\n",
              "       1, 1, 1, 1, 1, 1, 1, 1, 1, 1, 1, 1, 1, 1, 1, 1, 1, 1, 1, 1, 1, 1,\n",
              "       1, 1, 1, 1, 1, 1, 1, 1, 1, 1, 1, 1, 1, 1, 1, 1, 1, 1], dtype=int32)"
            ]
          },
          "metadata": {}
        }
      ]
    },
    {
      "cell_type": "markdown",
      "metadata": {
        "id": "KUrEbV95otrG"
      },
      "source": [
        "139 K Means Clustering Demo"
      ]
    },
    {
      "cell_type": "code",
      "metadata": {
        "colab": {
          "base_uri": "https://localhost:8080/",
          "height": 584
        },
        "id": "QvkzG-Vcot2o",
        "outputId": "37bc20cc-8100-4e81-f334-2cebc7e1d67a"
      },
      "source": [
        "from sklearn.datasets import make_blobs\n",
        "\n",
        "centers = [[1, 1], [1.5, 1.5], [2, 2]] #centroids\n",
        "X, y = make_blobs(n_samples=100, centers = centers, cluster_std=0.1)\n",
        "\n",
        "import matplotlib.pyplot as plt\n",
        "plt.scatter(X[:, 0], X[:, 1])\n",
        "plt.show()\n",
        "\n",
        "from sklearn.cluster import KMeans\n",
        "\n",
        "cluster = KMeans(n_clusters=3, random_state=10)\n",
        "\n",
        "cluster.fit(X) #unsupervised: there's no y\n",
        "\n",
        "plt.figure(figsize=(10, 5))\n",
        "plt.subplot(1, 2, 1)\n",
        "plt.scatter(X[:, 0], X[:, 1], c=y)\n",
        "plt.title(\"Actual\")\n",
        "plt.subplot(1, 2, 2)\n",
        "plt.scatter(X[:, 0], X[:, 1], c=cluster.labels_)\n",
        "plt.title(\"Prediction\")\n",
        "plt.show()"
      ],
      "execution_count": 35,
      "outputs": [
        {
          "output_type": "display_data",
          "data": {
            "image/png": "[encoded data removed]",
            "text/plain": [
              "<Figure size 432x288 with 1 Axes>"
            ]
          },
          "metadata": {
            "needs_background": "light"
          }
        },
        {
          "output_type": "display_data",
          "data": {
            "image/png": "[encoded data removed]",
            "text/plain": [
              "<Figure size 720x360 with 2 Axes>"
            ]
          },
          "metadata": {
            "needs_background": "light"
          }
        }
      ]
    },
    {
      "cell_type": "markdown",
      "metadata": {
        "id": "T04xQmgnpUQG"
      },
      "source": [
        "## 140 K-Means Clsutering Iris"
      ]
    },
    {
      "cell_type": "code",
      "metadata": {
        "colab": {
          "base_uri": "https://localhost:8080/",
          "height": 655
        },
        "id": "NwWberfspUtJ",
        "outputId": "68dcb5b5-b44f-4c17-87c9-ceadee3d19f5"
      },
      "source": [
        "from sklearn.cluster import KMeans\n",
        "\n",
        "\n",
        "# dataset\n",
        "dataset_path = 'https://raw.githubusercontent.com/tertiarycourses/datasets/master/iris.csv'\n",
        "\n",
        "X = pd.read_csv(dataset_path).drop('species', axis= 'columns')\n",
        "\n",
        "y = X.pop('sepal_width')\n",
        "\n",
        "X_train, X_test, y_train, y_test = train_test_split(\n",
        "    X,\n",
        "    y,\n",
        "    test_size = 0.25,\n",
        "    random_state = 33\n",
        ")\n",
        "\n",
        "from sklearn.cluster import KMeans\n",
        "\n",
        "cluster = KMeans(n_clusters = 3)\n",
        "\n",
        "#step 2 training\n",
        "cluster.fit(X) # unsupervised learning only train X\n",
        "\n",
        "# step 3 evaluation\n",
        "import matplotlib.pyplot as plt\n",
        "\n",
        "plt.figure(figsize=(10, 5))\n",
        "plt.subplot(1, 2, 1)\n",
        "plt.annotate\n",
        "plt.scatter(Y['petal_length'],\n",
        "            Y['petal_width'],\n",
        "            c = cluster.labels_)\n",
        "plt.title(\"Predicted\")\n",
        "\n",
        "plt.show()\n",
        "\n",
        "\n",
        "from sklearn.preprocessing import LabelEncoder\n",
        "\n",
        "dataset_path = 'https://raw.githubusercontent.com/tertiarycourses/datasets/master/iris.csv'\n",
        "\n",
        "Y = pd.read_csv(dataset_path)\n",
        "le = LabelEncoder()\n",
        "y = le.fit_transform(Y.pop('species'))\n",
        "\n",
        "\n",
        "from sklearn.cluster import KMeans\n",
        "\n",
        "cluster = KMeans(n_clusters=3, random_state=10)\n",
        "\n",
        "cluster.fit(Y) #unsupervised: there's no y\n",
        "\n",
        "plt.figure(figsize=(10, 5))\n",
        "plt.subplot(1, 2, 1)\n",
        "plt.scatter(Y['petal_length'], Y['petal_width'], c=y)\n",
        "plt.title(\"Actual\")\n",
        "\n",
        "plt.show()\n"
      ],
      "execution_count": 54,
      "outputs": [
        {
          "output_type": "display_data",
          "data": {
            "image/png": "[encoded data removed]",
            "text/plain": [
              "<Figure size 720x360 with 1 Axes>"
            ]
          },
          "metadata": {
            "needs_background": "light"
          }
        },
        {
          "output_type": "display_data",
          "data": {
            "image/png": "[encoded data removed]",
            "text/plain": [
              "<Figure size 720x360 with 1 Axes>"
            ]
          },
          "metadata": {
            "needs_background": "light"
          }
        }
      ]
    },
    {
      "cell_type": "markdown",
      "metadata": {
        "id": "lQugOZlDvuRT"
      },
      "source": [
        "## 143 Dendrogram"
      ]
    },
    {
      "cell_type": "code",
      "metadata": {
        "colab": {
          "base_uri": "https://localhost:8080/",
          "height": 282
        },
        "id": "eFNZAdnlv30y",
        "outputId": "b4334122-e193-4ca9-d99a-884bdedcd052"
      },
      "source": [
        "from scipy.cluster.hierarchy import dendrogram, linkage\n",
        "\n",
        "Z = linkage(X)\n",
        "d = dendrogram(Z)\n",
        "plt.plot()\n",
        "\n"
      ],
      "execution_count": 57,
      "outputs": [
        {
          "output_type": "execute_result",
          "data": {
            "text/plain": [
              "[]"
            ]
          },
          "metadata": {},
          "execution_count": 57
        },
        {
          "output_type": "display_data",
          "data": {
            "image/png": "[encoded data removed]",
            "text/plain": [
              "<Figure size 432x288 with 1 Axes>"
            ]
          },
          "metadata": {
            "needs_background": "light"
          }
        }
      ]
    },
    {
      "cell_type": "markdown",
      "metadata": {
        "id": "XCdF2AzKw6lM"
      },
      "source": [
        "## 144 Dendrogram Demo"
      ]
    },
    {
      "cell_type": "code",
      "metadata": {
        "colab": {
          "base_uri": "https://localhost:8080/",
          "height": 626
        },
        "id": "KnCLzBUzvura",
        "outputId": "a7193e32-3b2f-4b45-bccd-e4f56bf52c9d"
      },
      "source": [
        "from sklearn.datasets.samples_generator import make_blobs\n",
        "from scipy.cluster.hierarchy import dendrogram, linkage\n",
        "\n",
        "centers = [[1, 1], [1.5, 1.5], [2, 2], [2.5, 2.5]] #centroids\n",
        "X, y = make_blobs(n_samples=100, centers = centers, cluster_std=0.1)\n",
        "Z = linkage(X)\n",
        "plt.figure(figsize=(10, 5))\n",
        "plt.subplot(1, 2, 1)\n",
        "plt.scatter(X[:,0], X[:,1])\n",
        "plt.subplot(1, 2, 2)\n",
        "d = dendrogram(Z)\n",
        "plt.show()\n",
        "\n",
        "\n",
        "?dendrogram\n",
        "\n",
        "centers = [[1, 1], [1.5, 1.5], [2, 2], [2.5, 2.5], [5, 5]] #centroids\n",
        "X, y = make_blobs(n_samples=100, centers = centers, cluster_std=0.1)\n",
        "Z = linkage(X)\n",
        "plt.figure(figsize=(10, 5))\n",
        "plt.subplot(1, 2, 1)\n",
        "plt.scatter(X[:,0], X[:,1])\n",
        "plt.subplot(1, 2, 2)\n",
        "d = dendrogram(Z)\n",
        "plt.show()"
      ],
      "execution_count": 59,
      "outputs": [
        {
          "output_type": "display_data",
          "data": {
            "image/png": "[encoded data removed]",
            "text/plain": [
              "<Figure size 720x360 with 2 Axes>"
            ]
          },
          "metadata": {
            "needs_background": "light"
          }
        },
        {
          "output_type": "display_data",
          "data": {
            "image/png": "[encoded data removed]",
            "text/plain": [
              "<Figure size 720x360 with 2 Axes>"
            ]
          },
          "metadata": {
            "needs_background": "light"
          }
        }
      ]
    },
    {
      "cell_type": "markdown",
      "metadata": {
        "id": "LjQhWZLmyBQS"
      },
      "source": [
        "## 145 Hierarchical Clustering "
      ]
    },
    {
      "cell_type": "code",
      "metadata": {
        "colab": {
          "base_uri": "https://localhost:8080/",
          "height": 732
        },
        "id": "phNr6YlByBgK",
        "outputId": "cfc91509-d601-4d04-89d9-c51b3bce4c9a"
      },
      "source": [
        "from sklearn.datasets.samples_generator import make_blobs\n",
        "\n",
        "centers = [[1, 1], [1.5, 1.5], [2, 2]]\n",
        "X, y = make_blobs(n_samples=100,centers = centers,cluster_std=0.1)\n",
        "\n",
        "from sklearn.cluster import AgglomerativeClustering\n",
        "\n",
        "Z = linkage(X)\n",
        "d = dendrogram(Z, p=200) # p to set distance of cut\n",
        "plt.show()\n",
        "\n",
        "\n",
        "cluster = AgglomerativeClustering(n_clusters=3) #cut into 3 groups\n",
        "cluster.fit(X)\n",
        "\n",
        "#X is a matrix\n",
        "f, (ax1, ax2) = plt.subplots(1, 2, figsize=(20, 15))\n",
        "ax1.scatter(X[:, 0], X[:, 1], c=y)\n",
        "ax1.set_title('Actual')\n",
        "ax2.scatter(X[:, 0], X[:, 1], c=cluster.labels_)\n",
        "ax2.set_title('Prediction')\n",
        "plt.show()"
      ],
      "execution_count": 69,
      "outputs": [
        {
          "output_type": "display_data",
          "data": {
            "image/png": "[encoded data removed]",
            "text/plain": [
              "<Figure size 432x288 with 1 Axes>"
            ]
          },
          "metadata": {
            "needs_background": "light"
          }
        },
        {
          "output_type": "display_data",
          "data": {
            "image/png": "[encoded data removed]",
            "text/plain": [
              "<Figure size 1440x1080 with 2 Axes>"
            ]
          },
          "metadata": {
            "needs_background": "light"
          }
        }
      ]
    },
    {
      "cell_type": "markdown",
      "metadata": {
        "id": "ZoC_fL5tzcey"
      },
      "source": [
        ""
      ]
    },
    {
      "cell_type": "code",
      "metadata": {
        "colab": {
          "base_uri": "https://localhost:8080/",
          "height": 529
        },
        "id": "DJvgkPwvzc0H",
        "outputId": "60407f5b-db93-4794-d1c2-77400826cd10"
      },
      "source": [
        "from sklearn.cluster import KMeans\n",
        "\n",
        "# dataset\n",
        "dataset_path = 'https://raw.githubusercontent.com/tertiarycourses/datasets/master/iris.csv'\n",
        "\n",
        "X = pd.read_csv(dataset_path)\n",
        "\n",
        "y = le.fit_transform(X.pop('species'))\n",
        "\n",
        "from sklearn.cluster import AgglomerativeClustering\n",
        "\n",
        "Z = linkage(X)\n",
        "d = dendrogram(Z) # p to set distance of cut\n",
        "plt.show()\n",
        "\n",
        "cluster = AgglomerativeClustering(n_clusters=3) #cut into 3 groups\n",
        "cluster.fit(X)\n",
        "\n",
        "import matplotlib.pyplot as plt\n",
        "\n",
        "f, (ax1, ax2) = plt.subplots(1, 2)\n",
        "ax1.scatter(Y['petal_length'], Y['petal_width'], c=y)\n",
        "ax1.set_title('Actual')\n",
        "ax2.scatter(Y['petal_length'], Y['petal_width'], c=cluster.labels_)\n",
        "ax2.set_title('Prediction')\n",
        "plt.show()"
      ],
      "execution_count": 84,
      "outputs": [
        {
          "output_type": "display_data",
          "data": {
            "image/png": "[encoded data removed]",
            "text/plain": [
              "<Figure size 432x288 with 1 Axes>"
            ]
          },
          "metadata": {
            "needs_background": "light"
          }
        },
        {
          "output_type": "display_data",
          "data": {
            "image/png": "[encoded data removed]",
            "text/plain": [
              "<Figure size 432x288 with 2 Axes>"
            ]
          },
          "metadata": {
            "needs_background": "light"
          }
        }
      ]
    },
    {
      "cell_type": "markdown",
      "metadata": {
        "id": "BDgXGfFgDwgV"
      },
      "source": [
        "# Topic 5 Dimension Reduction"
      ]
    },
    {
      "cell_type": "markdown",
      "metadata": {
        "id": "2CatzKVUHuAR"
      },
      "source": [
        "## 153 PCA methodology\n"
      ]
    },
    {
      "cell_type": "code",
      "metadata": {
        "colab": {
          "base_uri": "https://localhost:8080/",
          "height": 136
        },
        "id": "WiUDkrKsHrd9",
        "outputId": "ac429108-647b-4ebd-ca94-a96725afb514"
      },
      "source": [
        "import numpy as np\n",
        "\n",
        "M = np.array([[1.36,-2.35], [-2.35,4.18]])\n",
        "display(M)\n",
        "values, vectors = np.linalg.eig(M) # calculate eigenvectors and eigenvalues\n",
        "\n",
        "display(values)\n",
        "\n",
        "display(vectors)\n",
        "display(vectors[:,1])\n",
        "\n",
        "M@vectors[:,1] # @ numpy matrix multiplication\n",
        "\n"
      ],
      "execution_count": 92,
      "outputs": [
        {
          "output_type": "display_data",
          "data": {
            "text/plain": [
              "array([[ 1.36, -2.35],\n",
              "       [-2.35,  4.18]])"
            ]
          },
          "metadata": {}
        },
        {
          "output_type": "display_data",
          "data": {
            "text/plain": [
              "array([0.02945261, 5.51054739])"
            ]
          },
          "metadata": {}
        },
        {
          "output_type": "display_data",
          "data": {
            "text/plain": [
              "array([[-0.87019991,  0.49269881],\n",
              "       [-0.49269881, -0.87019991]])"
            ]
          },
          "metadata": {}
        },
        {
          "output_type": "display_data",
          "data": {
            "text/plain": [
              "array([ 0.49269881, -0.87019991])"
            ]
          },
          "metadata": {}
        },
        {
          "output_type": "execute_result",
          "data": {
            "text/plain": [
              "array([ 2.71504017, -4.79527783])"
            ]
          },
          "metadata": {},
          "execution_count": 92
        }
      ]
    },
    {
      "cell_type": "code",
      "metadata": {
        "id": "5_5NEbZNJOjC"
      },
      "source": [
        ""
      ],
      "execution_count": null,
      "outputs": []
    },
    {
      "cell_type": "code",
      "metadata": {
        "id": "k-JRqlkhDwvK"
      },
      "source": [
        ""
      ],
      "execution_count": null,
      "outputs": []
    },
    {
      "cell_type": "markdown",
      "metadata": {
        "id": "WPMxHoHvJIOI"
      },
      "source": [
        "## 156 PCA Simple Demo\n",
        "\n"
      ]
    },
    {
      "cell_type": "code",
      "metadata": {
        "colab": {
          "base_uri": "https://localhost:8080/",
          "height": 321
        },
        "id": "RUdG0s5UJPOl",
        "outputId": "91bb5bad-d901-4211-8d44-e0b149e4a262"
      },
      "source": [
        "X = np.array([[-1,-1],\n",
        "              [-2,-2],\n",
        "              [-3,-2],\n",
        "              [1,1],\n",
        "              [2,1],\n",
        "              [3,2]\n",
        "])\n",
        "\n",
        "display(X.shape[1])\n",
        "\n",
        "from sklearn.decomposition import PCA\n",
        "\n",
        "pca = PCA(n_components = 2)\n",
        "X_new = pca.fit_transform(X)\n",
        "\n",
        "import matplotlib.pyplot as plt\n",
        "\n",
        "plt.subplot(1,2,1)\n",
        "plt.scatter(X[:,0], X[:,1])\n",
        "plt.axis('square')\n",
        "plt.title('before')\n",
        "plt.subplot(1,2,2)\n",
        "plt.scatter(X_new[:,0], X_new[:,1])\n",
        "plt.axis('square')\n",
        "plt.title('after')\n",
        "plt.show()\n",
        "\n",
        "# your data will be centered around zero after putting it through PCA\n",
        "\n",
        "\n",
        "print(f\"Variance along X axis is: {X[:,0].var(ddof=1)}, Variance along Y axis is {X[:,1].var(ddof=1)}\")\n",
        "print(f\"Variance along X axis is: {X_new[:,0].var(ddof=1)}, Variance along Y axis is {X_new[:,1].var(ddof=1)}\")\n",
        "\n",
        "# the below sum of variables at before and after should be same \n",
        "# ddof = degrees of freedom. This is set to 1 because you're finding sample variance (n-1)\n",
        "print(f\"sum of variances before PCA: {X[:,0].var(ddof=1) + X[:,1].var(ddof=1)}\")\n",
        "print(f\"sum of variances after PCA: {X_new[:,0].var(ddof=1) + X_new[:,1].var(ddof=1)}\")"
      ],
      "execution_count": 112,
      "outputs": [
        {
          "output_type": "display_data",
          "data": {
            "text/plain": [
              "2"
            ]
          },
          "metadata": {}
        },
        {
          "output_type": "display_data",
          "data": {
            "image/png": "[encoded data removed]",
            "text/plain": [
              "<Figure size 432x288 with 2 Axes>"
            ]
          },
          "metadata": {
            "needs_background": "light"
          }
        },
        {
          "output_type": "stream",
          "name": "stdout",
          "text": [
            "Variance along X axis is: 5.6, Variance along Y axis is 2.9666666666666663\n",
            "Variance along X axis is: 8.494462767476994, Variance along Y axis is 0.07220389918967231\n",
            "sum of variances before PCA: 8.566666666666666\n",
            "sum of variances after PCA: 8.566666666666666\n"
          ]
        }
      ]
    },
    {
      "cell_type": "markdown",
      "metadata": {
        "id": "2na65E4IOu4X"
      },
      "source": [
        "## 157 Principal Component Analysis\n"
      ]
    },
    {
      "cell_type": "code",
      "metadata": {
        "colab": {
          "base_uri": "https://localhost:8080/",
          "height": 102
        },
        "id": "XQpX2h7tOvKo",
        "outputId": "eff17e23-9e84-45ce-9122-e9be31d936c3"
      },
      "source": [
        "display(pca.explained_variance_) # uses sample variance.\n",
        "display(pca.explained_variance_ratio_) # this shows the available principal components\n",
        "display(pca.components_)\n",
        "display(pca.n_components_)\n",
        "\n",
        "\n"
      ],
      "execution_count": 111,
      "outputs": [
        {
          "output_type": "display_data",
          "data": {
            "text/plain": [
              "array([8.49446277, 0.0722039 ])"
            ]
          },
          "metadata": {}
        },
        {
          "output_type": "display_data",
          "data": {
            "text/plain": [
              "array([0.99157153, 0.00842847])"
            ]
          },
          "metadata": {}
        },
        {
          "output_type": "display_data",
          "data": {
            "text/plain": [
              "array([[ 0.81014306,  0.58623223],\n",
              "       [-0.58623223,  0.81014306]])"
            ]
          },
          "metadata": {}
        },
        {
          "output_type": "display_data",
          "data": {
            "text/plain": [
              "2"
            ]
          },
          "metadata": {}
        }
      ]
    },
    {
      "cell_type": "markdown",
      "metadata": {
        "id": "MGdaPtwQRQr3"
      },
      "source": [
        ""
      ]
    },
    {
      "cell_type": "markdown",
      "metadata": {
        "id": "1fANTPq6RCyC"
      },
      "source": [
        "## Exercise on Iris dataset"
      ]
    },
    {
      "cell_type": "code",
      "metadata": {
        "colab": {
          "base_uri": "https://localhost:8080/",
          "height": 485
        },
        "id": "iN-UpDclRDIM",
        "outputId": "fbf0e0e8-f589-4d38-b808-4a15a8e01561"
      },
      "source": [
        "from sklearn.decomposition import PCA\n",
        "import pandas as pd\n",
        "\n",
        "# dataset\n",
        "dataset_path = 'https://raw.githubusercontent.com/tertiarycourses/datasets/master/iris.csv'\n",
        "\n",
        "X = pd.read_csv(dataset_path).drop('species', axis= 'columns')\n",
        "\n",
        "pca = PCA(n_components = 2)\n",
        "X_new = pca.fit_transform(X)\n",
        "\n",
        "# cumsum is cumulative sum\n",
        "display(pca.explained_variance_ratio_.cumsum())\n",
        "\n",
        "import matplotlib.pyplot as plt\n",
        "\n",
        "# plt.subplot(1,2,1)\n",
        "# plt.scatter(X[:,0], X[:,1])\n",
        "# plt.axis('square')\n",
        "# plt.title('before')\n",
        "plt.subplot(1,2,1)\n",
        "plt.scatter(X_new[:,0], X_new[:,1])\n",
        "plt.axis('square')\n",
        "plt.title('after')\n",
        "plt.show()\n",
        "\n",
        "\n",
        "################################\n",
        "\n",
        "from sklearn.cluster import KMeans\n",
        "cluster = KMeans(n_clusters = 2)\n",
        "\n",
        "\n",
        "\n",
        "#step 2 training\n",
        "cluster.fit(X_new) # unsupervised learning only train X\n",
        "\n",
        "# step 3 evaluation\n",
        "import matplotlib.pyplot as plt\n",
        "\n",
        "plt.scatter(X_new[:,0],\n",
        "            X_new[:,1],\n",
        "            c = cluster.labels_)\n",
        "\n",
        "plt.show()\n"
      ],
      "execution_count": 145,
      "outputs": [
        {
          "output_type": "display_data",
          "data": {
            "text/plain": [
              "array([0.92461621, 0.97763178])"
            ]
          },
          "metadata": {}
        },
        {
          "output_type": "display_data",
          "data": {
            "image/png": "[encoded data removed]",
            "text/plain": [
              "<Figure size 432x288 with 1 Axes>"
            ]
          },
          "metadata": {
            "needs_background": "light"
          }
        },
        {
          "output_type": "display_data",
          "data": {
            "image/png": "[encoded data removed]",
            "text/plain": [
              "<Figure size 432x288 with 1 Axes>"
            ]
          },
          "metadata": {
            "needs_background": "light"
          }
        }
      ]
    },
    {
      "cell_type": "markdown",
      "metadata": {
        "id": "xhG1aMdzJISd"
      },
      "source": [
        "\n"
      ]
    }
  ]
}