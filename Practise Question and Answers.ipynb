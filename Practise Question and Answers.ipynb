{
  "nbformat": 4,
  "nbformat_minor": 0,
  "metadata": {
    "colab": {
      "name": "Practise.ipynb",
      "provenance": [],
      "collapsed_sections": [],
      "authorship_tag": "ABX9TyOTks1F4JjLybqxVniVZine"
    },
    "kernelspec": {
      "name": "python3",
      "display_name": "Python 3"
    },
    "language_info": {
      "name": "python"
    }
  },
  "cells": [
    {
      "cell_type": "markdown",
      "metadata": {
        "id": "A4c-_3s9rzhi"
      },
      "source": [
        "# Practise questions\n",
        "\n",
        "A trading company has engaged you to perform data analysis on the product data using machine learning algorithm.\n",
        "\n",
        "## Part 1 Classification Model\n",
        "\n",
        "Create a classification model to predict the outcome of white wine quality based on wine white features .\n",
        "\n",
        "The white wine dataset can be download from\n",
        "https://raw.githubusercontent.com/tertiarycourses/datasets/master/winequality-white.csv\n",
        "\n",
        "The wine quality ranges from 1 to 10. Re-label the quality below 5 (1 to 5) as 0 (poor) and the quality above 5 (6 to 10) as 1 (good)\n",
        "\n",
        "- Import the data\n",
        "- Extract the features and target of the data. The target is the quality\n",
        "- Scale the features\n",
        "- Split and randomise the data into training and testing dataset\n",
        "- Define a binary classification model\n",
        "- Train the model\n",
        "- Display the confusion matrix\n",
        "- Compute the accuracy, precision, recall and f1 score\n",
        "- Display the ROC curve and compute the AUC\n",
        "\n",
        "Hint\n",
        "import pandas as pd\n",
        "dataset_path = \"https://raw.githubusercontent.com/tertiarycourses/datasets/master/winequality-white.csv&quot;\n",
        "X = pd.read_csv(dataset_path,sep=\";\")\n",
        "\n",
        "X = X.dropna()\n",
        "y = X.pop('quality')\n",
        "\n",
        "y[y<=5] = 0\n",
        "y[y>5] = 1\n",
        "\n",
        "## Part 2 Regression Model\n",
        "\n",
        "Build a regression predictive model to predict the amount of alcohol on the same white wine dataset\n",
        "\n",
        "- Import the data\n",
        "- Extract the features and target of the data. The target is the alcohol\n",
        "- Scale the features\n",
        "- Split and randomise the data into training and testing dataset\n",
        "- Define a linear regression model\n",
        "- Train the model\n",
        "- Compute the MSE and R2 of the model\n",
        "- Plot the actual vs the predict alcohol level\n",
        "\n",
        "Hint\n",
        "X = X.dropna()\n",
        "y = X.pop('alcohol')\n",
        "\n",
        "## Part 3 Clustering\n",
        "\n",
        "Perform a clustering analysis on the wholesale customer data.\n",
        "\n",
        "- Import the data\n",
        "- Extract the features and target of the data. Remove the 'Channel'\n",
        "- Scale the features\n",
        "- Perform Silhouette analysis\n",
        "- Perform a K-Mean clustering analysis of 2 cluster on the wholesale dataset\n",
        "- Plot Milk vs Frozen and color by the Channel\n",
        "- Plot Milk vs Frozen and color by the clustering_labels\n",
        "\n",
        "Hint\n",
        "import pandas as pd\n",
        "dataset_path = \"https://raw.githubusercontent.com/tertiarycourses/datasets/master/wholesale_customers_data.csv&quot;\n",
        "X = pd.read_csv(dataset_path)\n",
        "\n",
        "X = X.dropna()\n",
        "y = X.pop('Channel')\n",
        "\n",
        "## Part 4 Dimensional Reduction\n",
        "\n",
        "- Perform a PCA with two components follow by Hierarchical Clustering on the above wholesale customer data\n",
        "- Compute the explained_variance_ratio\n",
        "- Plot component 1 vs component 2 and color by the cluster_labels"
      ]
    },
    {
      "cell_type": "markdown",
      "metadata": {
        "id": "HJO7Po-EshN-"
      },
      "source": [
        "# Part 1 Classification Model"
      ]
    },
    {
      "cell_type": "code",
      "metadata": {
        "colab": {
          "base_uri": "https://localhost:8080/",
          "height": 483
        },
        "id": "LtqRSfcGbeZD",
        "outputId": "49f8628e-4d27-4b17-ed92-72a5e29b4488"
      },
      "source": [
        "from sklearn.preprocessing import LabelEncoder, MinMaxScaler\n",
        "from sklearn.model_selection import train_test_split\n",
        "import pandas as pd\n",
        "from sklearn.metrics import accuracy_score, precision_score, recall_score, f1_score\n",
        "from sklearn import neighbors\n",
        "from sklearn.neighbors import KNeighborsClassifier\n",
        "from sklearn.metrics import classification_report\n",
        "from sklearn.metrics import confusion_matrix\n",
        "from sklearn.metrics import roc_curve, roc_auc_score\n",
        "\n",
        "\n",
        "\n",
        "# import and read dataset\n",
        "dataset = 'https://raw.githubusercontent.com/tertiarycourses/datasets/master/winequality-white.csv'\n",
        "x = pd.read_csv(dataset, sep=';')\n",
        "x['quality'] = x['quality'].map(lambda x: 0 if x <= 5 else 1)\n",
        "\n",
        "\n",
        "# Encode the labels\n",
        "le = LabelEncoder()\n",
        "y = le.fit_transform(x.pop('quality'))\n",
        "\n",
        "# Normalise / scale the features\n",
        "scaler = MinMaxScaler()\n",
        "X_scaled = pd.DataFrame(scaler.fit_transform(x), columns = x.columns)\n",
        "\n",
        "# Split and randomize data\n",
        "X_train, X_test, y_train, y_test = train_test_split(X_scaled,\n",
        "                                                    y, \n",
        "                                                    test_size = 0.25, \n",
        "                                                    random_state=33 )\n",
        "\n",
        "# Define the model\n",
        "clf = KNeighborsClassifier()\n",
        "\n",
        "# Train the model\n",
        "clf.fit(X_train, y_train)\n",
        "\n",
        "# confusion matrix\n",
        "print(confusion_matrix(y_test, y_pred))\n",
        "\n",
        "# classification report\n",
        "y_pred = clf.predict(X_test)\n",
        "print(classification_report(y_test, y_pred))\n",
        "\n",
        "\n",
        "# display ROC and AUC curve\n",
        "y_probs = clf.predict_proba(X_test)\n",
        "y_probs = y_probs[:,1]\n",
        "\n",
        "auc_score = roc_auc_score(y_test, y_probs)\n",
        "\n",
        "print(f'AUC = {auc_score}')\n",
        "fpr, tpr, threshold = roc_curve(y_test, y_probs)\n",
        "\n",
        "import matplotlib.pyplot as plt\n",
        "\n",
        "plt.plot(fpr,\n",
        "         tpr,\n",
        "         '-o'\n",
        "         )\n",
        "plt.xlabel('False Positive Rate')\n",
        "plt.ylabel('True Positive Rate')\n",
        "plt.show()\n"
      ],
      "execution_count": null,
      "outputs": [
        {
          "output_type": "stream",
          "name": "stdout",
          "text": [
            "[[243 182]\n",
            " [125 675]]\n",
            "              precision    recall  f1-score   support\n",
            "\n",
            "           0       0.66      0.57      0.61       425\n",
            "           1       0.79      0.84      0.81       800\n",
            "\n",
            "    accuracy                           0.75      1225\n",
            "   macro avg       0.72      0.71      0.71      1225\n",
            "weighted avg       0.74      0.75      0.74      1225\n",
            "\n",
            "AUC = 0.7934647058823528\n"
          ]
        },
        {
          "output_type": "display_data",
          "data": {
            "image/png": "[encoded data removed]",
            "text/plain": [
              "<Figure size 432x288 with 1 Axes>"
            ]
          },
          "metadata": {
            "needs_background": "light"
          }
        }
      ]
    },
    {
      "cell_type": "markdown",
      "metadata": {
        "id": "SZp85YWqii-_"
      },
      "source": [
        "# Part 2 Regression Model"
      ]
    },
    {
      "cell_type": "code",
      "metadata": {
        "colab": {
          "base_uri": "https://localhost:8080/",
          "height": 366
        },
        "id": "hhps-c1piOsP",
        "outputId": "8ef09712-dadc-4a6f-af95-10787b4c50d6"
      },
      "source": [
        "import pandas as pd\n",
        "from sklearn.preprocessing import StandardScaler\n",
        "\n",
        "\n",
        "# prepare the data\n",
        "dataset = 'https://raw.githubusercontent.com/tertiarycourses/datasets/master/winequality-white.csv'\n",
        "x = pd.read_csv(dataset, sep=';') # imports as a DataFrame\n",
        "\n",
        "# extract the target, alcohol\n",
        "y = x.pop('alcohol')\n",
        "\n",
        "# normalise and scale the input data\n",
        "scaler = StandardScaler()\n",
        "\n",
        "x_scaled = pd.DataFrame(\n",
        "    scaler.fit_transform(x),\n",
        "    columns = x.columns\n",
        ")\n",
        "\n",
        "# split and randomize data\n",
        "X_train, X_test, y_train, y_test = train_test_split(\n",
        "    x_scaled,\n",
        "    y,\n",
        "    test_size = 0.3,\n",
        "    random_state = 100\n",
        ")\n",
        "\n",
        "# define model\n",
        "from sklearn.linear_model import LinearRegression\n",
        "lm = LinearRegression() \n",
        "\n",
        "# train the model\n",
        "lm.fit(X_train, y_train)\n",
        "\n",
        "# compute MSE and R2\n",
        "from sklearn.metrics import mean_squared_error, r2_score\n",
        "\n",
        "y_hat = lm.predict(X_train)\n",
        "\n",
        "mse = mean_squared_error(y_train, y_hat)\n",
        "print(f'Mean Squared Error, Training: {mse}')\n",
        "\n",
        "rsq = r2_score(y_train, y_hat)\n",
        "print(f'R-square, Training: {rsq}')\n",
        "\n",
        "y_hat = lm.predict(X_test)\n",
        "\n",
        "mse = mean_squared_error(y_test, y_hat)\n",
        "print(f'Mean Squared Error, Testing: {mse}')\n",
        "\n",
        "rsq = r2_score(y_test, y_hat)\n",
        "print(f'R-square, Testing: {rsq}')\n",
        "\n",
        "# plot the actual vs predicted\n",
        "\n",
        "plt.scatter(y_test, y_hat)\n",
        "plt.xlabel('actual alcohol')\n",
        "plt.ylabel('predicted alcohol')\n",
        "plt.plot([5,17.5],[5,17.5],'r')\n",
        "\n"
      ],
      "execution_count": null,
      "outputs": [
        {
          "output_type": "stream",
          "name": "stdout",
          "text": [
            "Mean Squared Error, Training: 0.21224863251734818\n",
            "R-square, Training: 0.860318183879338\n",
            "Mean Squared Error, Testing: 0.15520638131919545\n",
            "R-square, Testing: 0.8966346041606659\n"
          ]
        },
        {
          "output_type": "execute_result",
          "data": {
            "text/plain": [
              "[<matplotlib.lines.Line2D at 0x7f9e09e377d0>]"
            ]
          },
          "metadata": {},
          "execution_count": 43
        },
        {
          "output_type": "display_data",
          "data": {
            "image/png": "[encoded data removed]",
            "text/plain": [
              "<Figure size 432x288 with 1 Axes>"
            ]
          },
          "metadata": {
            "needs_background": "light"
          }
        }
      ]
    },
    {
      "cell_type": "markdown",
      "metadata": {
        "id": "4huuJDhpkcKD"
      },
      "source": [
        "# Part 3 Clustering\n",
        "\n"
      ]
    },
    {
      "cell_type": "code",
      "metadata": {
        "colab": {
          "base_uri": "https://localhost:8080/",
          "height": 632
        },
        "id": "Leleu0WCkccs",
        "outputId": "0f85508a-7180-48c4-b5bc-d2f3033320fe"
      },
      "source": [
        "import pandas as pd\n",
        "from sklearn.cluster import KMeans\n",
        "from sklearn.preprocessing import StandardScaler\n",
        "from sklearn.metrics import silhouette_score\n",
        "from sklearn.cluster import KMeans\n",
        "\n",
        "dataset_path = \"https://raw.githubusercontent.com/tertiarycourses/datasets/master/wholesale_customers_data.csv\"\n",
        "\n",
        "X = pd.read_csv(dataset_path).dropna()\n",
        "y = X.pop('Channel')\n",
        "\n",
        "# scale the features\n",
        "scaler = StandardScaler()\n",
        "X_scaled = pd.DataFrame(\n",
        "    scaler.fit_transform(X),\n",
        "    columns = X.columns\n",
        ")\n",
        "\n",
        "# perform silhouette analysis\n",
        "for i in range(2,9):\n",
        "  cluster = KMeans(n_clusters=i, random_state =10)\n",
        "  cluster.fit(X) # X is for the Iris data set\n",
        "  s = silhouette_score(X, cluster.labels_)\n",
        "  print('Cluster: ', i, 'Silhouette Score:', s)\n",
        "\n",
        "\n",
        "# perform K means clustering with 2 clusters\n",
        "cluster = KMeans(n_clusters = 2)\n",
        "\n",
        "cluster.fit(X) # training the model\n",
        "\n",
        "# plot milk vs frozen by channel\n",
        "plt.scatter(X_scaled['Frozen'],\n",
        "            X_scaled['Milk'],\n",
        "            c = y)\n",
        "plt.show()\n",
        "\n",
        "# plot milk vs frozen by cluster labels\n",
        "plt.scatter(X_scaled['Frozen'],\n",
        "            X_scaled['Milk'],\n",
        "            c = cluster.labels_)\n",
        "\n",
        "plt.show()\n",
        "\n"
      ],
      "execution_count": null,
      "outputs": [
        {
          "output_type": "stream",
          "name": "stdout",
          "text": [
            "Cluster:  2 Silhouette Score: 0.5115333886055933\n",
            "Cluster:  3 Silhouette Score: 0.47640890896206367\n",
            "Cluster:  4 Silhouette Score: 0.3866313676375216\n",
            "Cluster:  5 Silhouette Score: 0.37871584570479966\n",
            "Cluster:  6 Silhouette Score: 0.37824418906721047\n",
            "Cluster:  7 Silhouette Score: 0.33130005630169185\n",
            "Cluster:  8 Silhouette Score: 0.3350036868032084\n"
          ]
        },
        {
          "output_type": "display_data",
          "data": {
            "image/png": "[encoded data removed]",
            "text/plain": [
              "<Figure size 432x288 with 1 Axes>"
            ]
          },
          "metadata": {
            "needs_background": "light"
          }
        },
        {
          "output_type": "display_data",
          "data": {
            "image/png": "[encoded data removed]",
            "text/plain": [
              "<Figure size 432x288 with 1 Axes>"
            ]
          },
          "metadata": {
            "needs_background": "light"
          }
        }
      ]
    },
    {
      "cell_type": "markdown",
      "metadata": {
        "id": "cEDGJSaxm81h"
      },
      "source": [
        "# Part 4 Dimensional Reduction"
      ]
    },
    {
      "cell_type": "code",
      "metadata": {
        "colab": {
          "base_uri": "https://localhost:8080/",
          "height": 418
        },
        "id": "XFkEa3iYm9L7",
        "outputId": "242b6863-d598-4a1f-a054-51ac89ff2bbc"
      },
      "source": [
        "from sklearn.decomposition import PCA\n",
        "import pandas as pd\n",
        "from sklearn.cluster import AgglomerativeClustering\n",
        "\n",
        "\n",
        "# import dataset\n",
        "dataset_path = \"https://raw.githubusercontent.com/tertiarycourses/datasets/master/wholesale_customers_data.csv\"\n",
        "X = pd.read_csv(dataset_path).dropna()\n",
        "y = X.pop('Channel')\n",
        "\n",
        "# perform PCA with 2 components using scaled data\n",
        "pca = PCA(n_components = 2)\n",
        "X_new = pca.fit_transform(X_scaled)\n",
        "\n",
        "# carry out hierarchical clustering\n",
        "scores = {}\n",
        "for i in range(2, 10):\n",
        "  cluster = AgglomerativeClustering(n_clusters=i)\n",
        "  cluster.fit(X_new)\n",
        "  s = silhouette_score(X_new, cluster.labels_)\n",
        "  print(f'Cluster: {i}, Silhouette Score: {s}')\n",
        "  scores[i] = s\n",
        "\n",
        "# clustering with n_clusters = 2 as it is the best\n",
        "cluster = AgglomerativeClustering(n_clusters=2) #cut into 3 groups\n",
        "cluster.fit(X_new)\n",
        "\n",
        "# computer the explained_variance_ratio\n",
        "display(pca.explained_variance_ratio_)\n",
        "\n",
        "# Plot component 1 vs component 2 and color by the cluster_labels\n",
        "plt.scatter(X_new[:, 0], X_new[:, 1], c=cluster.labels_)\n",
        "plt.axis('square')\n",
        "plt.show()\n",
        "\n"
      ],
      "execution_count": null,
      "outputs": [
        {
          "output_type": "stream",
          "name": "stdout",
          "text": [
            "Cluster: 2, Silhouette Score: 0.673215322646299\n",
            "Cluster: 3, Silhouette Score: 0.6532689548766267\n",
            "Cluster: 4, Silhouette Score: 0.3567245746713204\n",
            "Cluster: 5, Silhouette Score: 0.39467910617024654\n",
            "Cluster: 6, Silhouette Score: 0.40288184318591463\n",
            "Cluster: 7, Silhouette Score: 0.40346869241197797\n",
            "Cluster: 8, Silhouette Score: 0.3454722290921536\n",
            "Cluster: 9, Silhouette Score: 0.3492426856337364\n"
          ]
        },
        {
          "output_type": "display_data",
          "data": {
            "text/plain": [
              "array([0.37795265, 0.24356898])"
            ]
          },
          "metadata": {}
        },
        {
          "output_type": "display_data",
          "data": {
            "image/png": "[encoded data removed]",
            "text/plain": [
              "<Figure size 432x288 with 1 Axes>"
            ]
          },
          "metadata": {
            "needs_background": "light"
          }
        }
      ]
    }
  ]
}