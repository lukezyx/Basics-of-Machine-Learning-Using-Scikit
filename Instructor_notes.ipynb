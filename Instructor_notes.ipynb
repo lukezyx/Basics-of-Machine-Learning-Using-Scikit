{
  "nbformat": 4,
  "nbformat_minor": 0,
  "metadata": {
    "colab": {
      "name": "Copy of ScikitLearn-20210508.ipynb",
      "provenance": [],
      "collapsed_sections": [
        "MXtb7zWeX0Zu",
        "MXRIc7poYfOL",
        "PRAg_IBjZmzg",
        "tqwEIqN2aStS",
        "CQb2V0jOcX6_",
        "0WNWvfiRcxXH",
        "rEGR_FoHc7jl",
        "OjYDVFBFdKVi",
        "ViXbTGsDd5-j",
        "C5wtkRXSkLb6",
        "09ORjUYMoMRT",
        "0fE9swNlpMuz",
        "7gTo_gFAqUR6",
        "7ikxk455wS6x",
        "08FfdpgwxL8K",
        "0UFwPDHczdEM",
        "Rg6AGQh647QN",
        "kyt1tP1L5nA_",
        "Lh-cJxsm_UPT",
        "S6h0Qrn1Hcon",
        "11hNIRzQHvlz",
        "exKSOCXJIObT",
        "Om0uEeKbI4yk",
        "oRvsXZ8tJhys",
        "H6NaH8ayJv14"
      ]
    },
    "kernelspec": {
      "name": "python3",
      "display_name": "Python 3"
    },
    "language_info": {
      "name": "python"
    }
  },
  "cells": [
    {
      "cell_type": "markdown",
      "metadata": {
        "id": "x1fBY1XVq9U9"
      },
      "source": [
        "# Topic 1 Overview of Machine Learning and Scikit Learn"
      ]
    },
    {
      "cell_type": "markdown",
      "metadata": {
        "id": "AHErxyBl4Vtl"
      },
      "source": [
        "## 43 Checking your installation"
      ]
    },
    {
      "cell_type": "code",
      "metadata": {
        "id": "GN3Sx8Stoo7Z"
      },
      "source": [
        "import sklearn"
      ],
      "execution_count": null,
      "outputs": []
    },
    {
      "cell_type": "markdown",
      "metadata": {
        "id": "2O--o1R05L8W"
      },
      "source": [
        "# Topic 2 Classification"
      ]
    },
    {
      "cell_type": "markdown",
      "metadata": {
        "id": "abO7oxSr8v2k"
      },
      "source": [
        "## 049 KNN Classifier"
      ]
    },
    {
      "cell_type": "code",
      "metadata": {
        "id": "HCdYwAcXpBiR"
      },
      "source": [
        "from sklearn.neighbors import KNeighborsClassifier\n",
        "\n",
        "clf = KNeighborsClassifier()"
      ],
      "execution_count": null,
      "outputs": []
    },
    {
      "cell_type": "markdown",
      "metadata": {
        "id": "XujA2vMLCFza"
      },
      "source": [
        "## 051 Logisitic Regression Classifier"
      ]
    },
    {
      "cell_type": "code",
      "metadata": {
        "id": "FDhFWFICpI6A"
      },
      "source": [
        "from sklearn.linear_model import LogisticRegression\n",
        "\n",
        "clf = LogisticRegression()"
      ],
      "execution_count": null,
      "outputs": []
    },
    {
      "cell_type": "markdown",
      "metadata": {
        "id": "xVVqzzkfCSRS"
      },
      "source": [
        "## 055 SVM Classifier"
      ]
    },
    {
      "cell_type": "code",
      "metadata": {
        "id": "fzzn76tEpMjl"
      },
      "source": [
        "from sklearn.svm import SVC\n",
        "\n",
        "clf = SVC()"
      ],
      "execution_count": null,
      "outputs": []
    },
    {
      "cell_type": "markdown",
      "metadata": {
        "id": "WfjUHQLJFU-d"
      },
      "source": [
        "## 059 GNB Classifier"
      ]
    },
    {
      "cell_type": "code",
      "metadata": {
        "colab": {
          "base_uri": "https://localhost:8080/",
          "height": 416
        },
        "id": "qqWwkun0CaRI",
        "outputId": "42c9054b-08a9-4bda-ac7d-c9d614553342"
      },
      "source": [
        "import pandas as pd\n",
        "\n",
        "from sklearn.naive_bayes import GaussianNB\n",
        "\n",
        "clf = GaussianNB()\n",
        "\n",
        "sexes = pd.DataFrame({\n",
        "  'Person': ['male'] * 4 + ['female'] * 4,\n",
        "  'height': [6, 5.92, 5.58, 5.92, 5, 5.5, 5.42, 5.75],\n",
        "  'weight': [180, 190, 170, 165, 100, 150, 130, 150],\n",
        "  'foot size': [12, 11, 12, 10, 6, 8, 7, 9]\n",
        "})\n",
        "\n",
        "display(sexes)\n",
        "\n",
        "y = sexes.pop('Person')\n",
        "\n",
        "model = clf.fit(sexes, y)\n",
        "print(model.theta_)\n",
        "print(model.sigma_) #population variance\n",
        "print(model.classes_)\n",
        "example = pd.DataFrame({\n",
        "  'height': [6],\n",
        "  'weight': [130],\n",
        "  'foot size': [8]\n",
        "})\n",
        "print(model.predict_proba(example)) #consider this as odds\n",
        "print(model.predict(example)) #in practice you do this directly"
      ],
      "execution_count": null,
      "outputs": [
        {
          "output_type": "display_data",
          "data": {
            "text/html": [
              "<div>\n",
              "<style scoped>\n",
              "    .dataframe tbody tr th:only-of-type {\n",
              "        vertical-align: middle;\n",
              "    }\n",
              "\n",
              "    .dataframe tbody tr th {\n",
              "        vertical-align: top;\n",
              "    }\n",
              "\n",
              "    .dataframe thead th {\n",
              "        text-align: right;\n",
              "    }\n",
              "</style>\n",
              "<table border=\"1\" class=\"dataframe\">\n",
              "  <thead>\n",
              "    <tr style=\"text-align: right;\">\n",
              "      <th></th>\n",
              "      <th>Person</th>\n",
              "      <th>height</th>\n",
              "      <th>weight</th>\n",
              "      <th>foot size</th>\n",
              "    </tr>\n",
              "  </thead>\n",
              "  <tbody>\n",
              "    <tr>\n",
              "      <th>0</th>\n",
              "      <td>male</td>\n",
              "      <td>6.00</td>\n",
              "      <td>180</td>\n",
              "      <td>12</td>\n",
              "    </tr>\n",
              "    <tr>\n",
              "      <th>1</th>\n",
              "      <td>male</td>\n",
              "      <td>5.92</td>\n",
              "      <td>190</td>\n",
              "      <td>11</td>\n",
              "    </tr>\n",
              "    <tr>\n",
              "      <th>2</th>\n",
              "      <td>male</td>\n",
              "      <td>5.58</td>\n",
              "      <td>170</td>\n",
              "      <td>12</td>\n",
              "    </tr>\n",
              "    <tr>\n",
              "      <th>3</th>\n",
              "      <td>male</td>\n",
              "      <td>5.92</td>\n",
              "      <td>165</td>\n",
              "      <td>10</td>\n",
              "    </tr>\n",
              "    <tr>\n",
              "      <th>4</th>\n",
              "      <td>female</td>\n",
              "      <td>5.00</td>\n",
              "      <td>100</td>\n",
              "      <td>6</td>\n",
              "    </tr>\n",
              "    <tr>\n",
              "      <th>5</th>\n",
              "      <td>female</td>\n",
              "      <td>5.50</td>\n",
              "      <td>150</td>\n",
              "      <td>8</td>\n",
              "    </tr>\n",
              "    <tr>\n",
              "      <th>6</th>\n",
              "      <td>female</td>\n",
              "      <td>5.42</td>\n",
              "      <td>130</td>\n",
              "      <td>7</td>\n",
              "    </tr>\n",
              "    <tr>\n",
              "      <th>7</th>\n",
              "      <td>female</td>\n",
              "      <td>5.75</td>\n",
              "      <td>150</td>\n",
              "      <td>9</td>\n",
              "    </tr>\n",
              "  </tbody>\n",
              "</table>\n",
              "</div>"
            ],
            "text/plain": [
              "   Person  height  weight  foot size\n",
              "0    male    6.00     180         12\n",
              "1    male    5.92     190         11\n",
              "2    male    5.58     170         12\n",
              "3    male    5.92     165         10\n",
              "4  female    5.00     100          6\n",
              "5  female    5.50     150          8\n",
              "6  female    5.42     130          7\n",
              "7  female    5.75     150          9"
            ]
          },
          "metadata": {
            "tags": []
          }
        },
        {
          "output_type": "stream",
          "text": [
            "[[  5.4175 132.5      7.5   ]\n",
            " [  5.855  176.25    11.25  ]]\n",
            "[[7.29194840e-02 4.18750001e+02 1.25000073e+00]\n",
            " [2.62757340e-02 9.21875007e+01 6.87500734e-01]]\n",
            "['female' 'male']\n",
            "[[9.99999846e-01 1.54426632e-07]]\n",
            "['female']\n"
          ],
          "name": "stdout"
        }
      ]
    },
    {
      "cell_type": "markdown",
      "metadata": {
        "id": "-iBBeViwJRWW"
      },
      "source": [
        "## 061 SGD Classifier"
      ]
    },
    {
      "cell_type": "code",
      "metadata": {
        "id": "3SXp4DwfJMrT"
      },
      "source": [
        "from sklearn.linear_model import SGDClassifier\n",
        "\n",
        "clf = SGDClassifier()"
      ],
      "execution_count": null,
      "outputs": []
    },
    {
      "cell_type": "markdown",
      "metadata": {
        "id": "LyGSVmp0LuVP"
      },
      "source": [
        "## 063 Decision Tree Classifier"
      ]
    },
    {
      "cell_type": "code",
      "metadata": {
        "id": "ZCXAAemBFcVH"
      },
      "source": [
        "from sklearn.tree import DecisionTreeClassifier\n",
        "\n",
        "clf = DecisionTreeClassifier()"
      ],
      "execution_count": null,
      "outputs": []
    },
    {
      "cell_type": "markdown",
      "metadata": {
        "id": "MXtb7zWeX0Zu"
      },
      "source": [
        "## 066 Step 1 Prepare the Data"
      ]
    },
    {
      "cell_type": "code",
      "metadata": {
        "colab": {
          "base_uri": "https://localhost:8080/"
        },
        "id": "TiOSCZJbL11L",
        "outputId": "65624fe0-e251-4cdc-ae6e-7fd280b44d95"
      },
      "source": [
        "import pandas as pd\n",
        "\n",
        "dataset_path = 'https://raw.githubusercontent.com/tertiarycourses/datasets/master/iris.csv'\n",
        "\n",
        "X = pd.read_csv(dataset_path)\n",
        "\n",
        "# Drop any missing data\n",
        "X = X.dropna()\n",
        "\n",
        "display(X)"
      ],
      "execution_count": null,
      "outputs": [
        {
          "output_type": "display_data",
          "data": {
            "text/html": [
              "<div>\n",
              "<style scoped>\n",
              "    .dataframe tbody tr th:only-of-type {\n",
              "        vertical-align: middle;\n",
              "    }\n",
              "\n",
              "    .dataframe tbody tr th {\n",
              "        vertical-align: top;\n",
              "    }\n",
              "\n",
              "    .dataframe thead th {\n",
              "        text-align: right;\n",
              "    }\n",
              "</style>\n",
              "<table border=\"1\" class=\"dataframe\">\n",
              "  <thead>\n",
              "    <tr style=\"text-align: right;\">\n",
              "      <th></th>\n",
              "      <th>sepal_length</th>\n",
              "      <th>sepal_width</th>\n",
              "      <th>petal_length</th>\n",
              "      <th>petal_width</th>\n",
              "      <th>species</th>\n",
              "    </tr>\n",
              "  </thead>\n",
              "  <tbody>\n",
              "    <tr>\n",
              "      <th>0</th>\n",
              "      <td>5.1</td>\n",
              "      <td>3.5</td>\n",
              "      <td>1.4</td>\n",
              "      <td>0.2</td>\n",
              "      <td>setosa</td>\n",
              "    </tr>\n",
              "    <tr>\n",
              "      <th>1</th>\n",
              "      <td>4.9</td>\n",
              "      <td>3.0</td>\n",
              "      <td>1.4</td>\n",
              "      <td>0.2</td>\n",
              "      <td>setosa</td>\n",
              "    </tr>\n",
              "    <tr>\n",
              "      <th>2</th>\n",
              "      <td>4.7</td>\n",
              "      <td>3.2</td>\n",
              "      <td>1.3</td>\n",
              "      <td>0.2</td>\n",
              "      <td>setosa</td>\n",
              "    </tr>\n",
              "    <tr>\n",
              "      <th>3</th>\n",
              "      <td>4.6</td>\n",
              "      <td>3.1</td>\n",
              "      <td>1.5</td>\n",
              "      <td>0.2</td>\n",
              "      <td>setosa</td>\n",
              "    </tr>\n",
              "    <tr>\n",
              "      <th>4</th>\n",
              "      <td>5.0</td>\n",
              "      <td>3.6</td>\n",
              "      <td>1.4</td>\n",
              "      <td>0.2</td>\n",
              "      <td>setosa</td>\n",
              "    </tr>\n",
              "    <tr>\n",
              "      <th>...</th>\n",
              "      <td>...</td>\n",
              "      <td>...</td>\n",
              "      <td>...</td>\n",
              "      <td>...</td>\n",
              "      <td>...</td>\n",
              "    </tr>\n",
              "    <tr>\n",
              "      <th>145</th>\n",
              "      <td>6.7</td>\n",
              "      <td>3.0</td>\n",
              "      <td>5.2</td>\n",
              "      <td>2.3</td>\n",
              "      <td>virginica</td>\n",
              "    </tr>\n",
              "    <tr>\n",
              "      <th>146</th>\n",
              "      <td>6.3</td>\n",
              "      <td>2.5</td>\n",
              "      <td>5.0</td>\n",
              "      <td>1.9</td>\n",
              "      <td>virginica</td>\n",
              "    </tr>\n",
              "    <tr>\n",
              "      <th>147</th>\n",
              "      <td>6.5</td>\n",
              "      <td>3.0</td>\n",
              "      <td>5.2</td>\n",
              "      <td>2.0</td>\n",
              "      <td>virginica</td>\n",
              "    </tr>\n",
              "    <tr>\n",
              "      <th>148</th>\n",
              "      <td>6.2</td>\n",
              "      <td>3.4</td>\n",
              "      <td>5.4</td>\n",
              "      <td>2.3</td>\n",
              "      <td>virginica</td>\n",
              "    </tr>\n",
              "    <tr>\n",
              "      <th>149</th>\n",
              "      <td>5.9</td>\n",
              "      <td>3.0</td>\n",
              "      <td>5.1</td>\n",
              "      <td>1.8</td>\n",
              "      <td>virginica</td>\n",
              "    </tr>\n",
              "  </tbody>\n",
              "</table>\n",
              "<p>150 rows × 5 columns</p>\n",
              "</div>"
            ],
            "text/plain": [
              "     sepal_length  sepal_width  petal_length  petal_width    species\n",
              "0             5.1          3.5           1.4          0.2     setosa\n",
              "1             4.9          3.0           1.4          0.2     setosa\n",
              "2             4.7          3.2           1.3          0.2     setosa\n",
              "3             4.6          3.1           1.5          0.2     setosa\n",
              "4             5.0          3.6           1.4          0.2     setosa\n",
              "..            ...          ...           ...          ...        ...\n",
              "145           6.7          3.0           5.2          2.3  virginica\n",
              "146           6.3          2.5           5.0          1.9  virginica\n",
              "147           6.5          3.0           5.2          2.0  virginica\n",
              "148           6.2          3.4           5.4          2.3  virginica\n",
              "149           5.9          3.0           5.1          1.8  virginica\n",
              "\n",
              "[150 rows x 5 columns]"
            ]
          },
          "metadata": {
            "tags": []
          }
        }
      ]
    },
    {
      "cell_type": "markdown",
      "metadata": {
        "id": "MXRIc7poYfOL"
      },
      "source": [
        "## 067 Extract Features and Target"
      ]
    },
    {
      "cell_type": "code",
      "metadata": {
        "colab": {
          "base_uri": "https://localhost:8080/"
        },
        "id": "RC4DYY_BYPap",
        "outputId": "3f1c6c80-598c-4c2e-d70f-015cffeb2530"
      },
      "source": [
        "y = X.pop('species')\n",
        "\n",
        "# Encode the Labels\n",
        "from sklearn.preprocessing import LabelEncoder\n",
        "le = LabelEncoder()\n",
        "\n",
        "display(y)\n",
        "y = le.fit_transform(y)\n",
        "display(y)"
      ],
      "execution_count": null,
      "outputs": [
        {
          "output_type": "display_data",
          "data": {
            "text/plain": [
              "0         setosa\n",
              "1         setosa\n",
              "2         setosa\n",
              "3         setosa\n",
              "4         setosa\n",
              "         ...    \n",
              "145    virginica\n",
              "146    virginica\n",
              "147    virginica\n",
              "148    virginica\n",
              "149    virginica\n",
              "Name: species, Length: 150, dtype: object"
            ]
          },
          "metadata": {
            "tags": []
          }
        },
        {
          "output_type": "display_data",
          "data": {
            "text/plain": [
              "array([0, 0, 0, 0, 0, 0, 0, 0, 0, 0, 0, 0, 0, 0, 0, 0, 0, 0, 0, 0, 0, 0,\n",
              "       0, 0, 0, 0, 0, 0, 0, 0, 0, 0, 0, 0, 0, 0, 0, 0, 0, 0, 0, 0, 0, 0,\n",
              "       0, 0, 0, 0, 0, 0, 1, 1, 1, 1, 1, 1, 1, 1, 1, 1, 1, 1, 1, 1, 1, 1,\n",
              "       1, 1, 1, 1, 1, 1, 1, 1, 1, 1, 1, 1, 1, 1, 1, 1, 1, 1, 1, 1, 1, 1,\n",
              "       1, 1, 1, 1, 1, 1, 1, 1, 1, 1, 1, 1, 2, 2, 2, 2, 2, 2, 2, 2, 2, 2,\n",
              "       2, 2, 2, 2, 2, 2, 2, 2, 2, 2, 2, 2, 2, 2, 2, 2, 2, 2, 2, 2, 2, 2,\n",
              "       2, 2, 2, 2, 2, 2, 2, 2, 2, 2, 2, 2, 2, 2, 2, 2, 2, 2])"
            ]
          },
          "metadata": {
            "tags": []
          }
        }
      ]
    },
    {
      "cell_type": "markdown",
      "metadata": {
        "id": "PRAg_IBjZmzg"
      },
      "source": [
        "## 068 Normalize/Scale the Features"
      ]
    },
    {
      "cell_type": "code",
      "metadata": {
        "colab": {
          "base_uri": "https://localhost:8080/"
        },
        "id": "Kg2Ha5guYzHq",
        "outputId": "af067e68-e4a2-4f1d-a761-2445bd22a1b6"
      },
      "source": [
        "from sklearn.preprocessing import MinMaxScaler\n",
        "\n",
        "scaler = MinMaxScaler()\n",
        "\n",
        "X_scaled = pd.DataFrame(scaler.fit_transform(X), columns=X.columns)\n",
        "\n",
        "display(X_scaled)"
      ],
      "execution_count": null,
      "outputs": [
        {
          "output_type": "display_data",
          "data": {
            "text/html": [
              "<div>\n",
              "<style scoped>\n",
              "    .dataframe tbody tr th:only-of-type {\n",
              "        vertical-align: middle;\n",
              "    }\n",
              "\n",
              "    .dataframe tbody tr th {\n",
              "        vertical-align: top;\n",
              "    }\n",
              "\n",
              "    .dataframe thead th {\n",
              "        text-align: right;\n",
              "    }\n",
              "</style>\n",
              "<table border=\"1\" class=\"dataframe\">\n",
              "  <thead>\n",
              "    <tr style=\"text-align: right;\">\n",
              "      <th></th>\n",
              "      <th>sepal_length</th>\n",
              "      <th>sepal_width</th>\n",
              "      <th>petal_length</th>\n",
              "      <th>petal_width</th>\n",
              "    </tr>\n",
              "  </thead>\n",
              "  <tbody>\n",
              "    <tr>\n",
              "      <th>0</th>\n",
              "      <td>0.222222</td>\n",
              "      <td>0.625000</td>\n",
              "      <td>0.067797</td>\n",
              "      <td>0.041667</td>\n",
              "    </tr>\n",
              "    <tr>\n",
              "      <th>1</th>\n",
              "      <td>0.166667</td>\n",
              "      <td>0.416667</td>\n",
              "      <td>0.067797</td>\n",
              "      <td>0.041667</td>\n",
              "    </tr>\n",
              "    <tr>\n",
              "      <th>2</th>\n",
              "      <td>0.111111</td>\n",
              "      <td>0.500000</td>\n",
              "      <td>0.050847</td>\n",
              "      <td>0.041667</td>\n",
              "    </tr>\n",
              "    <tr>\n",
              "      <th>3</th>\n",
              "      <td>0.083333</td>\n",
              "      <td>0.458333</td>\n",
              "      <td>0.084746</td>\n",
              "      <td>0.041667</td>\n",
              "    </tr>\n",
              "    <tr>\n",
              "      <th>4</th>\n",
              "      <td>0.194444</td>\n",
              "      <td>0.666667</td>\n",
              "      <td>0.067797</td>\n",
              "      <td>0.041667</td>\n",
              "    </tr>\n",
              "    <tr>\n",
              "      <th>...</th>\n",
              "      <td>...</td>\n",
              "      <td>...</td>\n",
              "      <td>...</td>\n",
              "      <td>...</td>\n",
              "    </tr>\n",
              "    <tr>\n",
              "      <th>145</th>\n",
              "      <td>0.666667</td>\n",
              "      <td>0.416667</td>\n",
              "      <td>0.711864</td>\n",
              "      <td>0.916667</td>\n",
              "    </tr>\n",
              "    <tr>\n",
              "      <th>146</th>\n",
              "      <td>0.555556</td>\n",
              "      <td>0.208333</td>\n",
              "      <td>0.677966</td>\n",
              "      <td>0.750000</td>\n",
              "    </tr>\n",
              "    <tr>\n",
              "      <th>147</th>\n",
              "      <td>0.611111</td>\n",
              "      <td>0.416667</td>\n",
              "      <td>0.711864</td>\n",
              "      <td>0.791667</td>\n",
              "    </tr>\n",
              "    <tr>\n",
              "      <th>148</th>\n",
              "      <td>0.527778</td>\n",
              "      <td>0.583333</td>\n",
              "      <td>0.745763</td>\n",
              "      <td>0.916667</td>\n",
              "    </tr>\n",
              "    <tr>\n",
              "      <th>149</th>\n",
              "      <td>0.444444</td>\n",
              "      <td>0.416667</td>\n",
              "      <td>0.694915</td>\n",
              "      <td>0.708333</td>\n",
              "    </tr>\n",
              "  </tbody>\n",
              "</table>\n",
              "<p>150 rows × 4 columns</p>\n",
              "</div>"
            ],
            "text/plain": [
              "     sepal_length  sepal_width  petal_length  petal_width\n",
              "0        0.222222     0.625000      0.067797     0.041667\n",
              "1        0.166667     0.416667      0.067797     0.041667\n",
              "2        0.111111     0.500000      0.050847     0.041667\n",
              "3        0.083333     0.458333      0.084746     0.041667\n",
              "4        0.194444     0.666667      0.067797     0.041667\n",
              "..            ...          ...           ...          ...\n",
              "145      0.666667     0.416667      0.711864     0.916667\n",
              "146      0.555556     0.208333      0.677966     0.750000\n",
              "147      0.611111     0.416667      0.711864     0.791667\n",
              "148      0.527778     0.583333      0.745763     0.916667\n",
              "149      0.444444     0.416667      0.694915     0.708333\n",
              "\n",
              "[150 rows x 4 columns]"
            ]
          },
          "metadata": {
            "tags": []
          }
        }
      ]
    },
    {
      "cell_type": "markdown",
      "metadata": {
        "id": "tqwEIqN2aStS"
      },
      "source": [
        "## 069 Split and Randomize Data"
      ]
    },
    {
      "cell_type": "code",
      "metadata": {
        "id": "XQC7O6eQZ2a-"
      },
      "source": [
        "from sklearn.model_selection import train_test_split\n",
        "\n",
        "X_train, X_test, y_train, y_test = train_test_split(X_scaled, y, test_size=0.25, random_state=33)"
      ],
      "execution_count": null,
      "outputs": []
    },
    {
      "cell_type": "markdown",
      "metadata": {
        "id": "CQb2V0jOcX6_"
      },
      "source": [
        "## 070 Step 2 Define the Model"
      ]
    },
    {
      "cell_type": "code",
      "metadata": {
        "id": "WQOtr-DWbk5n"
      },
      "source": [
        "from sklearn.neighbors import KNeighborsClassifier\n",
        "\n",
        "clf = KNeighborsClassifier(n_neighbors=5) #n_neighbors is option"
      ],
      "execution_count": null,
      "outputs": []
    },
    {
      "cell_type": "markdown",
      "metadata": {
        "id": "0WNWvfiRcxXH"
      },
      "source": [
        "## 071 Step 3 Train the Model"
      ]
    },
    {
      "cell_type": "code",
      "metadata": {
        "colab": {
          "base_uri": "https://localhost:8080/"
        },
        "id": "2ZuBC5TLcjkM",
        "outputId": "9f2cb688-4116-49aa-a423-255b176f1932"
      },
      "source": [
        "clf.fit(X_train, y_train)"
      ],
      "execution_count": null,
      "outputs": [
        {
          "output_type": "execute_result",
          "data": {
            "text/plain": [
              "KNeighborsClassifier(algorithm='auto', leaf_size=30, metric='minkowski',\n",
              "                     metric_params=None, n_jobs=None, n_neighbors=5, p=2,\n",
              "                     weights='uniform')"
            ]
          },
          "metadata": {
            "tags": []
          },
          "execution_count": 13
        }
      ]
    },
    {
      "cell_type": "markdown",
      "metadata": {
        "id": "rEGR_FoHc7jl"
      },
      "source": [
        "## 072 Step 4 Evaluate the Model"
      ]
    },
    {
      "cell_type": "code",
      "metadata": {
        "colab": {
          "base_uri": "https://localhost:8080/"
        },
        "id": "ZMDtrec0c9jr",
        "outputId": "85a314b7-b497-48c3-d9f7-af721f4dbceb"
      },
      "source": [
        "clf.score(X_test, y_test) #always score on the test set"
      ],
      "execution_count": null,
      "outputs": [
        {
          "output_type": "execute_result",
          "data": {
            "text/plain": [
              "0.9473684210526315"
            ]
          },
          "metadata": {
            "tags": []
          },
          "execution_count": 14
        }
      ]
    },
    {
      "cell_type": "markdown",
      "metadata": {
        "id": "OjYDVFBFdKVi"
      },
      "source": [
        "## 073 Step 5 Save the Model"
      ]
    },
    {
      "cell_type": "code",
      "metadata": {
        "colab": {
          "base_uri": "https://localhost:8080/"
        },
        "id": "LPT98oY9dJuj",
        "outputId": "29217814-bfc9-4e13-9323-ee45f9972eb5"
      },
      "source": [
        "import joblib\n",
        "\n",
        "joblib.dump(clf, 'mymodel.pkl')\n",
        "joblib.dump(le, 'le.pkl')\n",
        "joblib.dump(scaler, 'scaler.pkl')"
      ],
      "execution_count": null,
      "outputs": [
        {
          "output_type": "execute_result",
          "data": {
            "text/plain": [
              "['scaler.pkl']"
            ]
          },
          "metadata": {
            "tags": []
          },
          "execution_count": 15
        }
      ]
    },
    {
      "cell_type": "markdown",
      "metadata": {
        "id": "ViXbTGsDd5-j"
      },
      "source": [
        "## 074 Step 6 Load the Model for Inference"
      ]
    },
    {
      "cell_type": "code",
      "metadata": {
        "colab": {
          "base_uri": "https://localhost:8080/"
        },
        "id": "JaZRmfR-c3vz",
        "outputId": "d0b8d2c4-fe6c-41fe-eb18-6fe08b39f1f8"
      },
      "source": [
        "import joblib\n",
        "\n",
        "clf2 = joblib.load('mymodel.pkl')\n",
        "scaler2 = joblib.load('scaler.pkl')\n",
        "le2 = joblib.load('le.pkl')\n",
        "\n",
        "import numpy as np\n",
        "\n",
        "X_new = np.array([[6.7, 3.1, 4.7, 1.5]])\n",
        "\n",
        "X_new = scaler2.transform(X_new)\n",
        "\n",
        "y = le2.inverse_transform(clf2.predict(X_new))\n",
        "\n",
        "print(f'The flower is {y[0]}')"
      ],
      "execution_count": null,
      "outputs": [
        {
          "output_type": "stream",
          "text": [
            "The flower is versicolor\n"
          ],
          "name": "stdout"
        }
      ]
    },
    {
      "cell_type": "markdown",
      "metadata": {
        "id": "C5wtkRXSkLb6"
      },
      "source": [
        "## 075 Ex: Classification"
      ]
    },
    {
      "cell_type": "code",
      "metadata": {
        "colab": {
          "base_uri": "https://localhost:8080/"
        },
        "id": "0n2S30i0c_DQ",
        "outputId": "97f8b62d-2193-4b59-bd14-669227b830ec"
      },
      "source": [
        "import pandas as pd\n",
        "from sklearn.model_selection import train_test_split\n",
        "from sklearn.preprocessing import LabelEncoder, MinMaxScaler\n",
        "\n",
        "# Step 1\n",
        "\n",
        "dataset_path = 'https://raw.githubusercontent.com/tertiarycourses/datasets/master/iris.csv'\n",
        "X = pd.read_csv(dataset_path).dropna() #import as pandas DataFrame and clean\n",
        "le = LabelEncoder()\n",
        "y = le.fit_transform(X.pop('species')) #remove species column from X and assign to y\n",
        "scaler = MinMaxScaler()\n",
        "X_scaled = pd.DataFrame(scaler.fit_transform(X), columns=X.columns)\n",
        "\n",
        "X_train, X_test, y_train, y_test = train_test_split(X_scaled, y, test_size=0.25, random_state=33)\n",
        "\n",
        "#Step 2\n",
        "from sklearn.neighbors import KNeighborsClassifier\n",
        "from sklearn.linear_model import LogisticRegression, SGDClassifier\n",
        "from sklearn.svm import SVC\n",
        "from sklearn.naive_bayes import GaussianNB\n",
        "from sklearn.tree import DecisionTreeClassifier\n",
        "\n",
        "clf = {\n",
        "  'KNN': KNeighborsClassifier(n_neighbors=5),\n",
        "  'LogReg': LogisticRegression(),\n",
        "  'SVM': SVC(),\n",
        "  'GNB': GaussianNB(),\n",
        "  'SGD': SGDClassifier(),\n",
        "  'DT': DecisionTreeClassifier()\n",
        "}\n",
        "\n",
        "#Step 3\n",
        "clf = {key: model.fit(X_train, y_train) for key, model in clf.items()}\n",
        "\n",
        "#Step 4\n",
        "scores = {key: model.score(X_test, y_test) for key, model in clf.items()}\n",
        "\n",
        "for key, score in scores.items():\n",
        "  print(f'{key}: {score}')"
      ],
      "execution_count": null,
      "outputs": [
        {
          "output_type": "stream",
          "text": [
            "KNN: 0.9473684210526315\n",
            "LogReg: 0.868421052631579\n",
            "SVM: 0.9473684210526315\n",
            "GNB: 0.9473684210526315\n",
            "SGD: 0.631578947368421\n",
            "DT: 0.8947368421052632\n"
          ],
          "name": "stdout"
        }
      ]
    },
    {
      "cell_type": "markdown",
      "metadata": {
        "id": "09ORjUYMoMRT"
      },
      "source": [
        "## 079 Random Forest Classifier"
      ]
    },
    {
      "cell_type": "code",
      "metadata": {
        "id": "HbPhZphRkOaj"
      },
      "source": [
        "from sklearn.ensemble import RandomForestClassifier\n",
        "\n",
        "clf = RandomForestClassifier()"
      ],
      "execution_count": null,
      "outputs": []
    },
    {
      "cell_type": "markdown",
      "metadata": {
        "id": "0fE9swNlpMuz"
      },
      "source": [
        "## 081 Gradient Boosting Classifier"
      ]
    },
    {
      "cell_type": "code",
      "metadata": {
        "id": "lc8vTAQ9oLU6"
      },
      "source": [
        "from sklearn.ensemble import GradientBoostingClassifier\n",
        "\n",
        "clf = GradientBoostingClassifier()"
      ],
      "execution_count": null,
      "outputs": []
    },
    {
      "cell_type": "markdown",
      "metadata": {
        "id": "7gTo_gFAqUR6"
      },
      "source": [
        "## 083 Stacking Classifier"
      ]
    },
    {
      "cell_type": "code",
      "metadata": {
        "id": "FBhKGMrzpT4e"
      },
      "source": [
        "from sklearn.ensemble import VotingClassifier\n",
        "\n",
        "estimators = [] #fill up with models\n",
        "clf = VotingClassifier(estimators, voting='hard')"
      ],
      "execution_count": null,
      "outputs": []
    },
    {
      "cell_type": "markdown",
      "metadata": {
        "id": "7ikxk455wS6x"
      },
      "source": [
        "## 084 Ex: Ensemble Methods"
      ]
    },
    {
      "cell_type": "code",
      "metadata": {
        "colab": {
          "base_uri": "https://localhost:8080/"
        },
        "id": "cTypi1K-qgUO",
        "outputId": "6305a76a-ac6b-4627-837d-5406d03498cc"
      },
      "source": [
        "#Step 1\n",
        "dataset_path = 'https://raw.githubusercontent.com/tertiarycourses/datasets/master/winequality-red.csv'\n",
        "\n",
        "X = pd.read_csv(dataset_path, sep=';').dropna()\n",
        "\n",
        "le = LabelEncoder()\n",
        "y = le.fit_transform(X.pop('quality')) #remove species column from X and assign to y\n",
        "scaler = MinMaxScaler()\n",
        "X_scaled = pd.DataFrame(scaler.fit_transform(X), columns=X.columns)\n",
        "\n",
        "X_train, X_test, y_train, y_test = train_test_split(X_scaled, y, test_size=0.25, random_state=33)\n",
        "\n",
        "#Step 2\n",
        "from sklearn.tree import DecisionTreeClassifier\n",
        "from sklearn.linear_model import LogisticRegression\n",
        "from sklearn.naive_bayes import GaussianNB\n",
        "from sklearn.ensemble import RandomForestClassifier, GradientBoostingClassifier, VotingClassifier\n",
        "\n",
        "base = [\n",
        "  ('lr', LogisticRegression()),\n",
        "  ('rf', RandomForestClassifier()),\n",
        "  ('gnb', GaussianNB())\n",
        "]\n",
        "\n",
        "clf = {\n",
        "  'DT': DecisionTreeClassifier(),\n",
        "  'RF': RandomForestClassifier(),\n",
        "  'GBoost': GradientBoostingClassifier(),\n",
        "  'Stack': VotingClassifier(base, voting='hard')\n",
        "}\n",
        "\n",
        "#Step 3\n",
        "clf = {key: model.fit(X_train, y_train) for key, model in clf.items()}\n",
        "\n",
        "#Step 4\n",
        "scores = {key: model.score(X_test, y_test) for key, model in clf.items()}\n",
        "\n",
        "for key, score in scores.items():\n",
        "  print(f'{key}: {score}')"
      ],
      "execution_count": null,
      "outputs": [
        {
          "output_type": "stream",
          "text": [
            "DT: 0.57\n",
            "RF: 0.6475\n",
            "GBoost: 0.6225\n",
            "Stack: 0.6125\n"
          ],
          "name": "stdout"
        }
      ]
    },
    {
      "cell_type": "markdown",
      "metadata": {
        "id": "08FfdpgwxL8K"
      },
      "source": [
        "## 086 Confusion Matrix"
      ]
    },
    {
      "cell_type": "code",
      "metadata": {
        "colab": {
          "base_uri": "https://localhost:8080/"
        },
        "id": "kPD6LHVmtsW_",
        "outputId": "b5e8230b-78dd-4e01-947e-3530ffba6ac4"
      },
      "source": [
        "from sklearn.metrics import confusion_matrix\n",
        "\n",
        "y_pred = clf['RF'].predict(X_test)\n",
        "display(confusion_matrix(y_test, y_pred))"
      ],
      "execution_count": null,
      "outputs": [
        {
          "output_type": "display_data",
          "data": {
            "text/plain": [
              "array([[  0,   0,   1,   0,   0,   0],\n",
              "       [  1,   0,   6,   7,   0,   0],\n",
              "       [  0,   0, 131,  44,   1,   0],\n",
              "       [  0,   0,  42, 102,   6,   1],\n",
              "       [  0,   0,   2,  24,  26,   0],\n",
              "       [  0,   0,   0,   5,   1,   0]])"
            ]
          },
          "metadata": {
            "tags": []
          }
        }
      ]
    },
    {
      "cell_type": "markdown",
      "metadata": {
        "id": "0UFwPDHczdEM"
      },
      "source": [
        "## 087 Ex: Confusion Matrix"
      ]
    },
    {
      "cell_type": "code",
      "metadata": {
        "colab": {
          "base_uri": "https://localhost:8080/"
        },
        "id": "62MZjtTYv1Ef",
        "outputId": "6a88ff72-135a-40e4-c111-53f85f5b0b77"
      },
      "source": [
        "#Step 1\n",
        "dataset_path = 'https://raw.githubusercontent.com/tertiarycourses/datasets/master/winequality-red.csv'\n",
        "\n",
        "X = pd.read_csv(dataset_path, sep=';').dropna()\n",
        "\n",
        "le = LabelEncoder()\n",
        "y = le.fit_transform(X.pop('quality')) #remove species column from X and assign to y\n",
        "scaler = MinMaxScaler()\n",
        "X_scaled = pd.DataFrame(scaler.fit_transform(X), columns=X.columns)\n",
        "\n",
        "X_train, X_test, y_train, y_test = train_test_split(X_scaled, y, test_size=0.25, random_state=33)\n",
        "\n",
        "#Step 2\n",
        "from sklearn.neighbors import KNeighborsClassifier\n",
        "from sklearn.svm import SVC\n",
        "\n",
        "clf = {\n",
        "    'KNN': KNeighborsClassifier(),\n",
        "    'SVM': SVC()\n",
        "}\n",
        "\n",
        "#Step 3\n",
        "clf = {key: model.fit(X_train, y_train) for key, model in clf.items()}\n",
        "y_pred = {key: model.predict(X_test) for key, model in clf.items()}\n",
        "\n",
        "#Step 4\n",
        "from sklearn.metrics import confusion_matrix\n",
        "matrix = {key: confusion_matrix(y_test, value) for key, value in y_pred.items()}\n",
        "for key, value in matrix.items():\n",
        "  print(f'{key}:\\n{value}')\n",
        "\n",
        "a = matrix['SVM']"
      ],
      "execution_count": null,
      "outputs": [
        {
          "output_type": "stream",
          "text": [
            "KNN:\n",
            "[[  0   1   0   0   0   0]\n",
            " [  0   0   3  11   0   0]\n",
            " [  0   4 113  58   1   0]\n",
            " [  0   1  50  82  18   0]\n",
            " [  0   0   5  29  18   0]\n",
            " [  0   0   0   3   3   0]]\n",
            "SVM:\n",
            "[[  0   0   1   0   0   0]\n",
            " [  0   0   8   6   0   0]\n",
            " [  0   0 131  44   1   0]\n",
            " [  0   0  54  90   7   0]\n",
            " [  0   0   2  41   9   0]\n",
            " [  0   0   0   5   1   0]]\n"
          ],
          "name": "stdout"
        }
      ]
    },
    {
      "cell_type": "markdown",
      "metadata": {
        "id": "Rg6AGQh647QN"
      },
      "source": [
        "## 096 Individual Metrics for Binary Classification"
      ]
    },
    {
      "cell_type": "code",
      "metadata": {
        "colab": {
          "base_uri": "https://localhost:8080/"
        },
        "id": "s82Lk-nR0hiH",
        "outputId": "89272913-ffe5-4c86-f6e8-a6e2541b6c8a"
      },
      "source": [
        "from sklearn.metrics import accuracy_score, precision_score, recall_score, f1_score\n",
        "\n",
        "dataset_path = \"https://raw.githubusercontent.com/tertiarycourses/datasets/master/iris.csv\"\n",
        "X = pd.read_csv(dataset_path)[50:] # drop first 50 rows to remove all setosa examples\n",
        "X = X.dropna()\n",
        "y = X.pop('species')\n",
        "# Encode the Labels\n",
        "le = LabelEncoder()\n",
        "y = le.fit_transform(y)\n",
        "\n",
        "from sklearn.neighbors import KNeighborsClassifier\n",
        "clf = KNeighborsClassifier()\n",
        "clf.fit(X, y)\n",
        "\n",
        "y_pred = clf.predict(X)\n",
        "print(f'Accuracy = {accuracy_score(y, y_pred)}')\n",
        "#the following only works with binary classification\n",
        "print(f'Precision = {precision_score(y, y_pred)}')\n",
        "print(f'Recall = {recall_score(y, y_pred)}')\n",
        "print(f'F1 Score = {f1_score(y, y_pred)}')"
      ],
      "execution_count": null,
      "outputs": [
        {
          "output_type": "stream",
          "text": [
            "Accuracy = 0.95\n",
            "Precision = 0.9411764705882353\n",
            "Recall = 0.96\n",
            "F1 Score = 0.9504950495049505\n"
          ],
          "name": "stdout"
        }
      ]
    },
    {
      "cell_type": "markdown",
      "metadata": {
        "id": "kyt1tP1L5nA_"
      },
      "source": [
        "## 097 Classification Report"
      ]
    },
    {
      "cell_type": "code",
      "metadata": {
        "colab": {
          "base_uri": "https://localhost:8080/"
        },
        "id": "RtdUOagK0mWp",
        "outputId": "b36c8fc2-b4a8-4888-fd5d-df3dc0044495"
      },
      "source": [
        "from sklearn.metrics import classification_report\n",
        "\n",
        "print(classification_report(y, y_pred))"
      ],
      "execution_count": null,
      "outputs": [
        {
          "output_type": "stream",
          "text": [
            "              precision    recall  f1-score   support\n",
            "\n",
            "           0       0.96      0.94      0.95        50\n",
            "           1       0.94      0.96      0.95        50\n",
            "\n",
            "    accuracy                           0.95       100\n",
            "   macro avg       0.95      0.95      0.95       100\n",
            "weighted avg       0.95      0.95      0.95       100\n",
            "\n"
          ],
          "name": "stdout"
        }
      ]
    },
    {
      "cell_type": "markdown",
      "metadata": {
        "id": "Lh-cJxsm_UPT"
      },
      "source": [
        "## 102 ROC and AUC"
      ]
    },
    {
      "cell_type": "code",
      "metadata": {
        "colab": {
          "base_uri": "https://localhost:8080/"
        },
        "id": "Kojw3NJH5uyR",
        "outputId": "1221728b-cf09-4e11-c6ab-4d728fba413f"
      },
      "source": [
        "from sklearn.metrics import roc_curve, roc_auc_score\n",
        "from sklearn.linear_model import LogisticRegression\n",
        "\n",
        "dataset_path = \"https://raw.githubusercontent.com/tertiarycourses/datasets/master/iris.csv\"\n",
        "X = pd.read_csv(dataset_path)[50:] # drop first 50 rows to remove all setosa examples\n",
        "X = X.dropna()\n",
        "y = X.pop('species')\n",
        "# Encode the Labels\n",
        "le = LabelEncoder()\n",
        "y = le.fit_transform(y)\n",
        "\n",
        "clf = LogisticRegression()\n",
        "clf.fit(X, y)\n",
        "\n",
        "#predict probabilities\n",
        "y_probs = clf.predict_proba(X)[:, 1] #retain 2nd column only\n",
        "\n",
        "auc_score = roc_auc_score(y, y_probs)\n",
        "print(f'AUC = {auc_score}')\n",
        "fpr, tpr, threshold = roc_curve(y, y_probs)\n",
        "\n",
        "import matplotlib.pyplot as plt\n",
        "\n",
        "plt.plot(fpr, tpr) #plot ROC curve\n",
        "plt.show()\n",
        "print(fpr, tpr)\n",
        "print(threshold)"
      ],
      "execution_count": null,
      "outputs": [
        {
          "output_type": "stream",
          "text": [
            "AUC = 0.9952000000000001\n"
          ],
          "name": "stdout"
        },
        {
          "output_type": "display_data",
          "data": {
            "image/png": "[encoded data removed]",
            "text/plain": [
              "<Figure size 432x288 with 1 Axes>"
            ]
          },
          "metadata": {
            "tags": [],
            "needs_background": "light"
          }
        },
        {
          "output_type": "stream",
          "text": [
            "[0.   0.   0.   0.   0.   0.02 0.02 0.04 0.04 0.08 0.08 1.  ] [0.   0.02 0.74 0.78 0.86 0.86 0.94 0.94 0.98 0.98 1.   1.  ]\n",
            "[1.99906959e+00 9.99069585e-01 8.21361632e-01 8.07659536e-01\n",
            " 7.31008441e-01 6.52687677e-01 5.54659072e-01 5.37285790e-01\n",
            " 5.20258090e-01 4.47035575e-01 4.13541729e-01 1.88003893e-03]\n"
          ],
          "name": "stdout"
        }
      ]
    },
    {
      "cell_type": "markdown",
      "metadata": {
        "id": "FqhbaaTOChE9"
      },
      "source": [
        "# Topic 3 Regression"
      ]
    },
    {
      "cell_type": "markdown",
      "metadata": {
        "id": "S6h0Qrn1Hcon"
      },
      "source": [
        "## 113 Import the Data"
      ]
    },
    {
      "cell_type": "code",
      "metadata": {
        "colab": {
          "base_uri": "https://localhost:8080/"
        },
        "id": "5XZxr6SzHb5N",
        "outputId": "105ad89f-8f00-41a1-e01e-fede2971ef1a"
      },
      "source": [
        "import pandas as pd\n",
        "\n",
        "dataset_path = 'https://raw.githubusercontent.com/selva86/datasets/master/BostonHousing.csv'\n",
        "\n",
        "X = pd.read_csv(dataset_path)\n",
        "display(X)"
      ],
      "execution_count": null,
      "outputs": [
        {
          "output_type": "display_data",
          "data": {
            "text/html": [
              "<div>\n",
              "<style scoped>\n",
              "    .dataframe tbody tr th:only-of-type {\n",
              "        vertical-align: middle;\n",
              "    }\n",
              "\n",
              "    .dataframe tbody tr th {\n",
              "        vertical-align: top;\n",
              "    }\n",
              "\n",
              "    .dataframe thead th {\n",
              "        text-align: right;\n",
              "    }\n",
              "</style>\n",
              "<table border=\"1\" class=\"dataframe\">\n",
              "  <thead>\n",
              "    <tr style=\"text-align: right;\">\n",
              "      <th></th>\n",
              "      <th>crim</th>\n",
              "      <th>zn</th>\n",
              "      <th>indus</th>\n",
              "      <th>chas</th>\n",
              "      <th>nox</th>\n",
              "      <th>rm</th>\n",
              "      <th>age</th>\n",
              "      <th>dis</th>\n",
              "      <th>rad</th>\n",
              "      <th>tax</th>\n",
              "      <th>ptratio</th>\n",
              "      <th>b</th>\n",
              "      <th>lstat</th>\n",
              "      <th>medv</th>\n",
              "    </tr>\n",
              "  </thead>\n",
              "  <tbody>\n",
              "    <tr>\n",
              "      <th>0</th>\n",
              "      <td>0.00632</td>\n",
              "      <td>18.0</td>\n",
              "      <td>2.31</td>\n",
              "      <td>0</td>\n",
              "      <td>0.538</td>\n",
              "      <td>6.575</td>\n",
              "      <td>65.2</td>\n",
              "      <td>4.0900</td>\n",
              "      <td>1</td>\n",
              "      <td>296</td>\n",
              "      <td>15.3</td>\n",
              "      <td>396.90</td>\n",
              "      <td>4.98</td>\n",
              "      <td>24.0</td>\n",
              "    </tr>\n",
              "    <tr>\n",
              "      <th>1</th>\n",
              "      <td>0.02731</td>\n",
              "      <td>0.0</td>\n",
              "      <td>7.07</td>\n",
              "      <td>0</td>\n",
              "      <td>0.469</td>\n",
              "      <td>6.421</td>\n",
              "      <td>78.9</td>\n",
              "      <td>4.9671</td>\n",
              "      <td>2</td>\n",
              "      <td>242</td>\n",
              "      <td>17.8</td>\n",
              "      <td>396.90</td>\n",
              "      <td>9.14</td>\n",
              "      <td>21.6</td>\n",
              "    </tr>\n",
              "    <tr>\n",
              "      <th>2</th>\n",
              "      <td>0.02729</td>\n",
              "      <td>0.0</td>\n",
              "      <td>7.07</td>\n",
              "      <td>0</td>\n",
              "      <td>0.469</td>\n",
              "      <td>7.185</td>\n",
              "      <td>61.1</td>\n",
              "      <td>4.9671</td>\n",
              "      <td>2</td>\n",
              "      <td>242</td>\n",
              "      <td>17.8</td>\n",
              "      <td>392.83</td>\n",
              "      <td>4.03</td>\n",
              "      <td>34.7</td>\n",
              "    </tr>\n",
              "    <tr>\n",
              "      <th>3</th>\n",
              "      <td>0.03237</td>\n",
              "      <td>0.0</td>\n",
              "      <td>2.18</td>\n",
              "      <td>0</td>\n",
              "      <td>0.458</td>\n",
              "      <td>6.998</td>\n",
              "      <td>45.8</td>\n",
              "      <td>6.0622</td>\n",
              "      <td>3</td>\n",
              "      <td>222</td>\n",
              "      <td>18.7</td>\n",
              "      <td>394.63</td>\n",
              "      <td>2.94</td>\n",
              "      <td>33.4</td>\n",
              "    </tr>\n",
              "    <tr>\n",
              "      <th>4</th>\n",
              "      <td>0.06905</td>\n",
              "      <td>0.0</td>\n",
              "      <td>2.18</td>\n",
              "      <td>0</td>\n",
              "      <td>0.458</td>\n",
              "      <td>7.147</td>\n",
              "      <td>54.2</td>\n",
              "      <td>6.0622</td>\n",
              "      <td>3</td>\n",
              "      <td>222</td>\n",
              "      <td>18.7</td>\n",
              "      <td>396.90</td>\n",
              "      <td>5.33</td>\n",
              "      <td>36.2</td>\n",
              "    </tr>\n",
              "    <tr>\n",
              "      <th>...</th>\n",
              "      <td>...</td>\n",
              "      <td>...</td>\n",
              "      <td>...</td>\n",
              "      <td>...</td>\n",
              "      <td>...</td>\n",
              "      <td>...</td>\n",
              "      <td>...</td>\n",
              "      <td>...</td>\n",
              "      <td>...</td>\n",
              "      <td>...</td>\n",
              "      <td>...</td>\n",
              "      <td>...</td>\n",
              "      <td>...</td>\n",
              "      <td>...</td>\n",
              "    </tr>\n",
              "    <tr>\n",
              "      <th>501</th>\n",
              "      <td>0.06263</td>\n",
              "      <td>0.0</td>\n",
              "      <td>11.93</td>\n",
              "      <td>0</td>\n",
              "      <td>0.573</td>\n",
              "      <td>6.593</td>\n",
              "      <td>69.1</td>\n",
              "      <td>2.4786</td>\n",
              "      <td>1</td>\n",
              "      <td>273</td>\n",
              "      <td>21.0</td>\n",
              "      <td>391.99</td>\n",
              "      <td>9.67</td>\n",
              "      <td>22.4</td>\n",
              "    </tr>\n",
              "    <tr>\n",
              "      <th>502</th>\n",
              "      <td>0.04527</td>\n",
              "      <td>0.0</td>\n",
              "      <td>11.93</td>\n",
              "      <td>0</td>\n",
              "      <td>0.573</td>\n",
              "      <td>6.120</td>\n",
              "      <td>76.7</td>\n",
              "      <td>2.2875</td>\n",
              "      <td>1</td>\n",
              "      <td>273</td>\n",
              "      <td>21.0</td>\n",
              "      <td>396.90</td>\n",
              "      <td>9.08</td>\n",
              "      <td>20.6</td>\n",
              "    </tr>\n",
              "    <tr>\n",
              "      <th>503</th>\n",
              "      <td>0.06076</td>\n",
              "      <td>0.0</td>\n",
              "      <td>11.93</td>\n",
              "      <td>0</td>\n",
              "      <td>0.573</td>\n",
              "      <td>6.976</td>\n",
              "      <td>91.0</td>\n",
              "      <td>2.1675</td>\n",
              "      <td>1</td>\n",
              "      <td>273</td>\n",
              "      <td>21.0</td>\n",
              "      <td>396.90</td>\n",
              "      <td>5.64</td>\n",
              "      <td>23.9</td>\n",
              "    </tr>\n",
              "    <tr>\n",
              "      <th>504</th>\n",
              "      <td>0.10959</td>\n",
              "      <td>0.0</td>\n",
              "      <td>11.93</td>\n",
              "      <td>0</td>\n",
              "      <td>0.573</td>\n",
              "      <td>6.794</td>\n",
              "      <td>89.3</td>\n",
              "      <td>2.3889</td>\n",
              "      <td>1</td>\n",
              "      <td>273</td>\n",
              "      <td>21.0</td>\n",
              "      <td>393.45</td>\n",
              "      <td>6.48</td>\n",
              "      <td>22.0</td>\n",
              "    </tr>\n",
              "    <tr>\n",
              "      <th>505</th>\n",
              "      <td>0.04741</td>\n",
              "      <td>0.0</td>\n",
              "      <td>11.93</td>\n",
              "      <td>0</td>\n",
              "      <td>0.573</td>\n",
              "      <td>6.030</td>\n",
              "      <td>80.8</td>\n",
              "      <td>2.5050</td>\n",
              "      <td>1</td>\n",
              "      <td>273</td>\n",
              "      <td>21.0</td>\n",
              "      <td>396.90</td>\n",
              "      <td>7.88</td>\n",
              "      <td>11.9</td>\n",
              "    </tr>\n",
              "  </tbody>\n",
              "</table>\n",
              "<p>506 rows × 14 columns</p>\n",
              "</div>"
            ],
            "text/plain": [
              "        crim    zn  indus  chas    nox  ...  tax  ptratio       b  lstat  medv\n",
              "0    0.00632  18.0   2.31     0  0.538  ...  296     15.3  396.90   4.98  24.0\n",
              "1    0.02731   0.0   7.07     0  0.469  ...  242     17.8  396.90   9.14  21.6\n",
              "2    0.02729   0.0   7.07     0  0.469  ...  242     17.8  392.83   4.03  34.7\n",
              "3    0.03237   0.0   2.18     0  0.458  ...  222     18.7  394.63   2.94  33.4\n",
              "4    0.06905   0.0   2.18     0  0.458  ...  222     18.7  396.90   5.33  36.2\n",
              "..       ...   ...    ...   ...    ...  ...  ...      ...     ...    ...   ...\n",
              "501  0.06263   0.0  11.93     0  0.573  ...  273     21.0  391.99   9.67  22.4\n",
              "502  0.04527   0.0  11.93     0  0.573  ...  273     21.0  396.90   9.08  20.6\n",
              "503  0.06076   0.0  11.93     0  0.573  ...  273     21.0  396.90   5.64  23.9\n",
              "504  0.10959   0.0  11.93     0  0.573  ...  273     21.0  393.45   6.48  22.0\n",
              "505  0.04741   0.0  11.93     0  0.573  ...  273     21.0  396.90   7.88  11.9\n",
              "\n",
              "[506 rows x 14 columns]"
            ]
          },
          "metadata": {
            "tags": []
          }
        }
      ]
    },
    {
      "cell_type": "markdown",
      "metadata": {
        "id": "11hNIRzQHvlz"
      },
      "source": [
        "## 114 Prepare the Data for Training"
      ]
    },
    {
      "cell_type": "code",
      "metadata": {
        "id": "U6SupIb9_VgW"
      },
      "source": [
        "#Remove missing data\n",
        "X = X.dropna()\n",
        "\n",
        "#Create input and output\n",
        "\n",
        "y = X.pop('medv')"
      ],
      "execution_count": null,
      "outputs": []
    },
    {
      "cell_type": "markdown",
      "metadata": {
        "id": "exKSOCXJIObT"
      },
      "source": [
        "## 115 Normalize/Scale the Input Data"
      ]
    },
    {
      "cell_type": "code",
      "metadata": {
        "id": "HqoRPlpCH7np"
      },
      "source": [
        "from sklearn.preprocessing import MinMaxScaler\n",
        "\n",
        "scaler = MinMaxScaler()\n",
        "\n",
        "#scaler.fit(X).transform(X)\n",
        "#scaler.fit_transform(X)\n",
        "\n",
        "X_scaled = pd.DataFrame(scaler.fit_transform(X), columns=X.columns)"
      ],
      "execution_count": null,
      "outputs": []
    },
    {
      "cell_type": "markdown",
      "metadata": {
        "id": "Om0uEeKbI4yk"
      },
      "source": [
        "## 116 Split the Input Data"
      ]
    },
    {
      "cell_type": "code",
      "metadata": {
        "id": "TIdisyTzIcsl"
      },
      "source": [
        "from sklearn.model_selection import train_test_split\n",
        "\n",
        "X_train, X_test, y_train, y_test = train_test_split(X_scaled, y, test_size=0.3, random_state=100)"
      ],
      "execution_count": null,
      "outputs": []
    },
    {
      "cell_type": "markdown",
      "metadata": {
        "id": "oRvsXZ8tJhys"
      },
      "source": [
        "## 117 Define the Linear Regression Model"
      ]
    },
    {
      "cell_type": "code",
      "metadata": {
        "id": "cCfl-rcLJE_1"
      },
      "source": [
        "from sklearn.linear_model import LinearRegression\n",
        "\n",
        "lm = LinearRegression()"
      ],
      "execution_count": null,
      "outputs": []
    },
    {
      "cell_type": "markdown",
      "metadata": {
        "id": "H6NaH8ayJv14"
      },
      "source": [
        "## 118 Train the Model"
      ]
    },
    {
      "cell_type": "code",
      "metadata": {
        "colab": {
          "base_uri": "https://localhost:8080/"
        },
        "id": "FIpg7S9sJsJR",
        "outputId": "88f70df7-3035-4bd0-8f78-da305c44a224"
      },
      "source": [
        "lm.fit(X_train, y_train) #y is included only for supervised algorithms"
      ],
      "execution_count": null,
      "outputs": [
        {
          "output_type": "execute_result",
          "data": {
            "text/plain": [
              "LinearRegression(copy_X=True, fit_intercept=True, n_jobs=None, normalize=False)"
            ]
          },
          "metadata": {
            "tags": []
          },
          "execution_count": 32
        }
      ]
    },
    {
      "cell_type": "markdown",
      "metadata": {
        "id": "GNRNdbVNK_dC"
      },
      "source": [
        "#120 Model Metrics"
      ]
    },
    {
      "cell_type": "code",
      "metadata": {
        "colab": {
          "base_uri": "https://localhost:8080/"
        },
        "id": "s8VqT9_WLA2q",
        "outputId": "be8dbbc7-1d50-4d7d-dd0c-39a1c8b4def8"
      },
      "source": [
        "from sklearn.metrics import mean_squared_error, r2_score\n",
        "\n",
        "yhat = lm.predict(X_train)\n",
        "mse = mean_squared_error(y_train, yhat)\n",
        "print(f'Mean Squared Error, Training: {mse}')\n",
        "rsq = r2_score(y_train, yhat)\n",
        "print(f'R-square, Training: {rsq}')\n",
        "\n",
        "yhat = lm.predict(X_test)\n",
        "mse = mean_squared_error(y_test, yhat)\n",
        "print(f'Mean Squared Error, Training: {mse}')\n",
        "rsq = r2_score(y_test, yhat)\n",
        "print(f'R-square, Test: {rsq}')\n",
        "\n",
        "print('Raw calculation:', 1 - np.power(y_test - yhat, 2).sum()/np.power(y_test - y_test.mean(), 2).sum())"
      ],
      "execution_count": null,
      "outputs": [
        {
          "output_type": "stream",
          "text": [
            "Mean Squared Error, Training: 19.067391155385046\n",
            "R-square, Training: 0.752890983596846\n",
            "Mean Squared Error, Training: 29.798844301478802\n",
            "R-square, Test: 0.7057919873264542\n",
            "Raw calculation: 0.7057919873264542\n"
          ],
          "name": "stdout"
        }
      ]
    },
    {
      "cell_type": "markdown",
      "metadata": {
        "id": "7ILoOTVUMm2F"
      },
      "source": [
        "## 121 Evaluate the Model"
      ]
    },
    {
      "cell_type": "code",
      "metadata": {
        "colab": {
          "base_uri": "https://localhost:8080/",
          "height": 279
        },
        "id": "3Un5eBpJLBNr",
        "outputId": "6505d8d0-52b4-428d-b81a-cb79fa7547cd"
      },
      "source": [
        "import matplotlib.pyplot as plt\n",
        "\n",
        "yhat = lm.predict(X_test)\n",
        "plt.scatter(y_test, yhat)\n",
        "plt.xlabel('Actual Housing Price')\n",
        "plt.ylabel('Predicted Price')\n",
        "\n",
        "plt.plot([0, 50], [0, 50], 'r')\n",
        "plt.axis('square')\n",
        "plt.show()"
      ],
      "execution_count": null,
      "outputs": [
        {
          "output_type": "display_data",
          "data": {
            "image/png": "[encoded data removed]",
            "text/plain": [
              "<Figure size 432x288 with 1 Axes>"
            ]
          },
          "metadata": {
            "tags": [],
            "needs_background": "light"
          }
        }
      ]
    },
    {
      "cell_type": "code",
      "metadata": {
        "colab": {
          "base_uri": "https://localhost:8080/",
          "height": 346
        },
        "id": "dfV9nyGDM4C4",
        "outputId": "898a8127-d1de-48cf-c398-17873a09b69d"
      },
      "source": [
        "import pandas as pd\n",
        "from sklearn.model_selection import train_test_split\n",
        "from sklearn.linear_model import LinearRegression\n",
        "from sklearn.metrics import mean_squared_error, r2_score\n",
        "import matplotlib.pyplot as plt\n",
        "from sklearn.preprocessing import MinMaxScaler\n",
        "\n",
        "#point 1\n",
        "dataset_path = 'https://raw.githubusercontent.com/tertiarycourses/datasets/master/iris.csv'\n",
        "\n",
        "X = pd.read_csv(dataset_path) #import as pandas DataFrame\n",
        "#drop any missing data\n",
        "X = X.dropna() #returns new DataFrame\n",
        "X.pop('species') #throw away this column\n",
        "y = X.pop('sepal_width')\n",
        "\n",
        "\n",
        "scaler = MinMaxScaler()\n",
        "X_scaled = pd.DataFrame(scaler.fit_transform(X), columns=X.columns)\n",
        "\n",
        "X_train, X_test, y_train, y_test = train_test_split(X_scaled, y, test_size=0.3, random_state=100)\n",
        "\n",
        "#point 2\n",
        "lm = LinearRegression()\n",
        "\n",
        "#point 3\n",
        "lm.fit(X_train, y_train)\n",
        "\n",
        "#point 4\n",
        "yhat = lm.predict(X_train)\n",
        "mse = mean_squared_error(y_train, yhat)\n",
        "print(f'Mean Squared Error, Training: {mse}')\n",
        "rsq = r2_score(y_train, yhat)\n",
        "print(f'R-square, Training: {rsq}')\n",
        "\n",
        "yhat = lm.predict(X_test)\n",
        "mse = mean_squared_error(y_test, yhat)\n",
        "print(f'Mean Squared Error, Test: {mse}')\n",
        "rsq = r2_score(y_test, yhat)\n",
        "print(f'R-square, Test: {rsq}')\n",
        "\n",
        "yhat = lm.predict(X_test)\n",
        "plt.scatter(y_test, yhat)\n",
        "plt.xlabel('Actual Sepal Width')\n",
        "plt.ylabel('Predicted Sepal Width')\n",
        "\n",
        "plt.plot([2, 5], [2, 5], 'r') #r for red line\n",
        "plt.axis('square') #based on what's plotted right before this\n",
        "plt.show()"
      ],
      "execution_count": null,
      "outputs": [
        {
          "output_type": "stream",
          "text": [
            "Mean Squared Error, Training: 0.08104218238470283\n",
            "R-square, Training: 0.5329231127001638\n",
            "Mean Squared Error, Test: 0.10980387289057192\n",
            "R-square, Test: 0.4954095161725409\n"
          ],
          "name": "stdout"
        },
        {
          "output_type": "display_data",
          "data": {
            "image/png": "[encoded data removed]",
            "text/plain": [
              "<Figure size 432x288 with 1 Axes>"
            ]
          },
          "metadata": {
            "tags": [],
            "needs_background": "light"
          }
        }
      ]
    },
    {
      "cell_type": "markdown",
      "metadata": {
        "id": "4YgGsxW00dku"
      },
      "source": [
        "## 126 Regularizations in Scikit-Learn"
      ]
    },
    {
      "cell_type": "code",
      "metadata": {
        "id": "tvHMI6ttQvWn",
        "colab": {
          "base_uri": "https://localhost:8080/"
        },
        "outputId": "032b7a2a-5ced-4657-82e0-1c063d0e6c62"
      },
      "source": [
        "from sklearn.linear_model import Ridge, Lasso, ElasticNet\n",
        "\n",
        "rr = Ridge(alpha=0.01)\n",
        "lr = Lasso(alpha=0.01)\n",
        "er = ElasticNet(alpha=0.01, l1_ratio=0.5)\n",
        "\n",
        "#these are supervised, due to the need to provide the outcome\n",
        "print(rr.fit(X_train, y_train))\n",
        "print(lr.fit(X_train, y_train))\n",
        "print(er.fit(X_train, y_train))"
      ],
      "execution_count": null,
      "outputs": [
        {
          "output_type": "stream",
          "text": [
            "Ridge(alpha=0.01, copy_X=True, fit_intercept=True, max_iter=None,\n",
            "      normalize=False, random_state=None, solver='auto', tol=0.001)\n",
            "Lasso(alpha=0.01, copy_X=True, fit_intercept=True, max_iter=1000,\n",
            "      normalize=False, positive=False, precompute=False, random_state=None,\n",
            "      selection='cyclic', tol=0.0001, warm_start=False)\n",
            "ElasticNet(alpha=0.01, copy_X=True, fit_intercept=True, l1_ratio=0.5,\n",
            "           max_iter=1000, normalize=False, positive=False, precompute=False,\n",
            "           random_state=None, selection='cyclic', tol=0.0001, warm_start=False)\n"
          ],
          "name": "stdout"
        }
      ]
    },
    {
      "cell_type": "markdown",
      "metadata": {
        "id": "9pUzldo215wp"
      },
      "source": [
        "# Topic 4 Clustering"
      ]
    },
    {
      "cell_type": "markdown",
      "metadata": {
        "id": "P8Hqi2Dc-_R0"
      },
      "source": [
        "## 136 How to Choose K"
      ]
    },
    {
      "cell_type": "code",
      "metadata": {
        "colab": {
          "base_uri": "https://localhost:8080/"
        },
        "id": "jrMFavo-0lS0",
        "outputId": "d130aba9-d9ab-4f69-83fe-eeb0365cc9f8"
      },
      "source": [
        "from sklearn.metrics import silhouette_score\n",
        "from sklearn.cluster import KMeans\n",
        "\n",
        "for i in range(2, 10):\n",
        "  cluster = KMeans(n_clusters=i, random_state=10)\n",
        "  cluster.fit(X)\n",
        "  s = silhouette_score(X, cluster.labels_)\n",
        "  print(f'Cluster: {i}, Silhouette Score: {s}')"
      ],
      "execution_count": null,
      "outputs": [
        {
          "output_type": "stream",
          "text": [
            "Cluster: 2, Silhouette Score: 0.7019459463656291\n",
            "Cluster: 3, Silhouette Score: 0.5847390326324567\n",
            "Cluster: 4, Silhouette Score: 0.5430491589976363\n",
            "Cluster: 5, Silhouette Score: 0.5463337347833246\n",
            "Cluster: 6, Silhouette Score: 0.5363674900325149\n",
            "Cluster: 7, Silhouette Score: 0.3919694090435893\n",
            "Cluster: 8, Silhouette Score: 0.3857227051281268\n",
            "Cluster: 9, Silhouette Score: 0.3894293833828106\n"
          ],
          "name": "stdout"
        }
      ]
    },
    {
      "cell_type": "markdown",
      "metadata": {
        "id": "7rf0c_B-CRJj"
      },
      "source": [
        "## 137 K-Means Clustering Steps"
      ]
    },
    {
      "cell_type": "code",
      "metadata": {
        "colab": {
          "base_uri": "https://localhost:8080/",
          "height": 265
        },
        "id": "DCEj5akG_pyN",
        "outputId": "265f8188-9945-4d56-c739-1a17edee944c"
      },
      "source": [
        "# Step 1 Model\n",
        "from sklearn.cluster import KMeans\n",
        "cluster = KMeans(n_clusters=2)\n",
        "\n",
        "# Step 2 Training\n",
        "cluster.fit(X)\n",
        "\n",
        "# Step 3 Evaluation\n",
        "# no .transform(), no .predict(), use .labels_ directly\n",
        "plt.scatter(X.loc[:, X.columns[0]], X.loc[:, X.columns[1]], c=cluster.labels_)\n",
        "plt.axis('square')\n",
        "plt.show()"
      ],
      "execution_count": null,
      "outputs": [
        {
          "output_type": "display_data",
          "data": {
            "image/png": "[encoded data removed]",
            "text/plain": [
              "<Figure size 432x288 with 1 Axes>"
            ]
          },
          "metadata": {
            "tags": [],
            "needs_background": "light"
          }
        }
      ]
    },
    {
      "cell_type": "markdown",
      "metadata": {
        "id": "gZwhwrpeDsCd"
      },
      "source": [
        "## 138 Clustering Output"
      ]
    },
    {
      "cell_type": "code",
      "metadata": {
        "colab": {
          "base_uri": "https://localhost:8080/"
        },
        "id": "_rrT0cf-CrHh",
        "outputId": "e9ca3eb3-4465-4846-a13f-e3ca2aa15763"
      },
      "source": [
        "print(cluster.cluster_centers_)\n",
        "print(cluster.labels_)"
      ],
      "execution_count": null,
      "outputs": [
        {
          "output_type": "stream",
          "text": [
            "[[5.00555556 1.59814815 0.30185185]\n",
            " [6.31458333 4.97395833 1.703125  ]]\n",
            "[0 0 0 0 0 0 0 0 0 0 0 0 0 0 0 0 0 0 0 0 0 0 0 0 0 0 0 0 0 0 0 0 0 0 0 0 0\n",
            " 0 0 0 0 0 0 0 0 0 0 0 0 0 1 1 1 1 1 1 1 0 1 1 0 1 1 1 1 1 1 1 1 1 1 1 1 1\n",
            " 1 1 1 1 1 1 1 1 1 1 1 1 1 1 1 1 1 1 1 0 1 1 1 1 0 1 1 1 1 1 1 1 1 1 1 1 1\n",
            " 1 1 1 1 1 1 1 1 1 1 1 1 1 1 1 1 1 1 1 1 1 1 1 1 1 1 1 1 1 1 1 1 1 1 1 1 1\n",
            " 1 1]\n"
          ],
          "name": "stdout"
        }
      ]
    },
    {
      "cell_type": "markdown",
      "metadata": {
        "id": "h_WIseOIEwtK"
      },
      "source": [
        "## 139 K-Means Clustering Demo"
      ]
    },
    {
      "cell_type": "code",
      "metadata": {
        "colab": {
          "base_uri": "https://localhost:8080/",
          "height": 638
        },
        "id": "_TG-odB2DyFs",
        "outputId": "0343c9fd-f20d-4254-9488-4d7ecc725735"
      },
      "source": [
        "from sklearn.datasets.samples_generator import make_blobs\n",
        "\n",
        "centers = [[1, 1], [1.5, 1.5], [2, 2]] #centroids\n",
        "X, y = make_blobs(n_samples=100, centers = centers, cluster_std=0.1)\n",
        "\n",
        "import matplotlib.pyplot as plt\n",
        "plt.scatter(X[:,0], X[:,1])\n",
        "plt.show()\n",
        "\n",
        "from sklearn.cluster import KMeans\n",
        "\n",
        "cluster = KMeans(n_clusters=3,random_state=10)\n",
        "\n",
        "cluster.fit(X) #unsupervised: there's no y\n",
        "\n",
        "plt.figure(figsize=(10,5))\n",
        "plt.subplot(1,2,1)\n",
        "plt.scatter(X[:,0],X[:,1],c=y)\n",
        "plt.title(\"Actual\")\n",
        "plt.subplot(1,2,2)\n",
        "plt.scatter(X[:,0],X[:,1],c=cluster.labels_)\n",
        "plt.title(\"Prediction\")\n",
        "plt.show()"
      ],
      "execution_count": null,
      "outputs": [
        {
          "output_type": "stream",
          "text": [
            "/usr/local/lib/python3.7/dist-packages/sklearn/utils/deprecation.py:144: FutureWarning: The sklearn.datasets.samples_generator module is  deprecated in version 0.22 and will be removed in version 0.24. The corresponding classes / functions should instead be imported from sklearn.datasets. Anything that cannot be imported from sklearn.datasets is now part of the private API.\n",
            "  warnings.warn(message, FutureWarning)\n"
          ],
          "name": "stderr"
        },
        {
          "output_type": "display_data",
          "data": {
            "image/png": "[encoded data removed]",
            "text/plain": [
              "<Figure size 432x288 with 1 Axes>"
            ]
          },
          "metadata": {
            "tags": [],
            "needs_background": "light"
          }
        },
        {
          "output_type": "display_data",
          "data": {
            "image/png": "[encoded data removed]",
            "text/plain": [
              "<Figure size 720x360 with 2 Axes>"
            ]
          },
          "metadata": {
            "tags": [],
            "needs_background": "light"
          }
        }
      ]
    },
    {
      "cell_type": "markdown",
      "metadata": {
        "id": "YDKkr92EHnPb"
      },
      "source": [
        "## 140 Ex: K-Means Cluster"
      ]
    },
    {
      "cell_type": "code",
      "metadata": {
        "colab": {
          "base_uri": "https://localhost:8080/",
          "height": 336
        },
        "id": "a2KoZ-iZEz2e",
        "outputId": "0153f4d7-5558-4778-abf0-bc6dc90baf29"
      },
      "source": [
        "import pandas as pd\n",
        "from sklearn.model_selection import train_test_split\n",
        "from sklearn.preprocessing import LabelEncoder, MinMaxScaler\n",
        "from sklearn.cluster import KMeans\n",
        "\n",
        "# Step 1\n",
        "dataset_path = 'https://raw.githubusercontent.com/tertiarycourses/datasets/master/iris.csv'\n",
        "\n",
        "X = pd.read_csv(dataset_path)\n",
        "le = LabelEncoder()\n",
        "X['species'] = le.fit_transform(X['species'])\n",
        "\n",
        "#Step 2\n",
        "cluster = KMeans(n_clusters=3) #hyperparameter k=3\n",
        "cluster.fit(X[X.columns[:4]]) #unsupervised\n",
        "X['cluster'] = cluster.labels_\n",
        "\n",
        "plt.figure(figsize=(10, 5))\n",
        "plt.subplot(1, 2, 1)\n",
        "plt.scatter(X['petal_length'], X['petal_width'], c=X['species']) #color according to actual\n",
        "plt.title(\"Actual\")\n",
        "plt.subplot(1, 2, 2)\n",
        "plt.scatter(X['petal_length'], X['petal_width'], c=X['cluster']) #color according to cluster\n",
        "plt.title(\"Prediction\")\n",
        "plt.show()"
      ],
      "execution_count": null,
      "outputs": [
        {
          "output_type": "display_data",
          "data": {
            "image/png": "[encoded data removed]",
            "text/plain": [
              "<Figure size 720x360 with 2 Axes>"
            ]
          },
          "metadata": {
            "tags": [],
            "needs_background": "light"
          }
        }
      ]
    },
    {
      "cell_type": "markdown",
      "metadata": {
        "id": "xszl_Z63M58q"
      },
      "source": [
        "## 143 Dendrogram"
      ]
    },
    {
      "cell_type": "code",
      "metadata": {
        "colab": {
          "base_uri": "https://localhost:8080/",
          "height": 262
        },
        "id": "pMbE2DV9FyKx",
        "outputId": "ba8d2f82-e135-40a6-eed9-08ad18bddacd"
      },
      "source": [
        "from sklearn.datasets.samples_generator import make_blobs\n",
        "\n",
        "centers = [[1, 1], [1.5, 1.5], [2, 2]] #centroids\n",
        "X, y = make_blobs(n_samples=100, centers = centers, cluster_std=0.1)\n",
        "\n",
        "from scipy.cluster.hierarchy import dendrogram, linkage\n",
        "\n",
        "Z = linkage(X)\n",
        "d = dendrogram(Z)\n",
        "plt.show()"
      ],
      "execution_count": null,
      "outputs": [
        {
          "output_type": "display_data",
          "data": {
            "image/png": "[encoded data removed]",
            "text/plain": [
              "<Figure size 432x288 with 1 Axes>"
            ]
          },
          "metadata": {
            "tags": [],
            "needs_background": "light"
          }
        }
      ]
    },
    {
      "cell_type": "markdown",
      "metadata": {
        "id": "5kjmX-cHOux9"
      },
      "source": [
        "## 145 Hierarchical Clustering"
      ]
    },
    {
      "cell_type": "code",
      "metadata": {
        "colab": {
          "base_uri": "https://localhost:8080/",
          "height": 1000
        },
        "id": "79dOIQgULC6N",
        "outputId": "426d54d8-2204-4b90-82bc-8b1e676eedc1"
      },
      "source": [
        "from sklearn.datasets.samples_generator import make_blobs\n",
        "\n",
        "centers = [[1, 1], [1.5, 1.5], [2, 2]]\n",
        "X, y = make_blobs(n_samples=100,centers = centers,cluster_std=0.1)\n",
        "\n",
        "from sklearn.cluster import AgglomerativeClustering\n",
        "\n",
        "Z = linkage(X)\n",
        "d = dendrogram(Z)\n",
        "plt.show()\n",
        "\n",
        "cluster = AgglomerativeClustering(n_clusters=3) #cut into 3 groups\n",
        "cluster.fit(X)\n",
        "\n",
        "#X is a matrix\n",
        "f, (ax1, ax2) = plt.subplots(1, 2, figsize=(20, 15))\n",
        "ax1.scatter(X[:, 0], X[:, 1], c=y)\n",
        "ax1.set_title('Actual')\n",
        "ax2.scatter(X[:, 0], X[:, 1], c=cluster.labels_)\n",
        "ax2.set_title('Prediction')\n",
        "plt.show()"
      ],
      "execution_count": null,
      "outputs": [
        {
          "output_type": "display_data",
          "data": {
            "image/png": "[encoded data removed]",
            "text/plain": [
              "<Figure size 432x288 with 1 Axes>"
            ]
          },
          "metadata": {
            "tags": [],
            "needs_background": "light"
          }
        },
        {
          "output_type": "display_data",
          "data": {
            "image/png": "[encoded data removed]",
            "text/plain": [
              "<Figure size 1440x1080 with 2 Axes>"
            ]
          },
          "metadata": {
            "tags": [],
            "needs_background": "light"
          }
        }
      ]
    },
    {
      "cell_type": "markdown",
      "metadata": {
        "id": "El6YGxYHSAIz"
      },
      "source": [
        "## 146 Ex: Hierarchical Clustering"
      ]
    },
    {
      "cell_type": "code",
      "metadata": {
        "colab": {
          "base_uri": "https://localhost:8080/",
          "height": 1000
        },
        "id": "SQg-q8YXOw3B",
        "outputId": "80f9f717-3dd5-4735-d67f-ec748563e6b5"
      },
      "source": [
        "from sklearn.cluster import AgglomerativeClustering\n",
        "import pandas as pd\n",
        "\n",
        "dataset_path = 'https://raw.githubusercontent.com/tertiarycourses/datasets/master/iris.csv'\n",
        "X = pd.read_csv(dataset_path).dropna() #import as pandas DataFrame and clean\n",
        "le = LabelEncoder()\n",
        "y = le.fit_transform(X.pop('species'))\n",
        "\n",
        "Z = linkage(X)\n",
        "d = dendrogram(Z)\n",
        "plt.show()\n",
        "\n",
        "cluster = AgglomerativeClustering(n_clusters=3) #cut into 3 groups\n",
        "cluster.fit(X)\n",
        "#X is a Pandas DataFrame\n",
        "f, (ax1, ax2) = plt.subplots(1, 2, figsize=(20, 15))\n",
        "ax1.scatter(X.iloc[:, 2], X.iloc[:, 3], c=y)\n",
        "ax1.set_title('Actual')\n",
        "ax2.scatter(X.iloc[:, 2], X.iloc[:, 3], c=cluster.labels_)\n",
        "ax2.set_title('Prediction')\n",
        "plt.show()"
      ],
      "execution_count": null,
      "outputs": [
        {
          "output_type": "display_data",
          "data": {
            "image/png": "[encoded data removed]",
            "text/plain": [
              "<Figure size 432x288 with 1 Axes>"
            ]
          },
          "metadata": {
            "tags": [],
            "needs_background": "light"
          }
        },
        {
          "output_type": "display_data",
          "data": {
            "image/png": "[encoded data removed]",
            "text/plain": [
              "<Figure size 1440x1080 with 2 Axes>"
            ]
          },
          "metadata": {
            "tags": [],
            "needs_background": "light"
          }
        }
      ]
    },
    {
      "cell_type": "markdown",
      "metadata": {
        "id": "rvKJgX2Tlcdy"
      },
      "source": [
        "# Topic 5 Dimension Reduction"
      ]
    },
    {
      "cell_type": "markdown",
      "metadata": {
        "id": "ewQ5fVtIlfKR"
      },
      "source": [
        "## 156 PCA Simple Demo"
      ]
    },
    {
      "cell_type": "code",
      "metadata": {
        "colab": {
          "base_uri": "https://localhost:8080/",
          "height": 282
        },
        "id": "hUZHBmdvSFD_",
        "outputId": "e7a9639c-28c3-4529-972f-fc4be081b778"
      },
      "source": [
        "import numpy as np\n",
        "\n",
        "X = np.array([\n",
        "  [-1, -1], [-2, -1], [-3, -2],\n",
        "  [1, 1], [2, 1], [3, 2]\n",
        "])\n",
        "\n",
        "print(len(X.shape)) #count dimensions\n",
        "\n",
        "from sklearn.decomposition import PCA\n",
        "\n",
        "pca = PCA(n_components=2)\n",
        "pca.fit(X)\n",
        "\n",
        "import matplotlib.pyplot as plt\n",
        "\n",
        "plt.scatter(X[:, 0], X[:, 1])\n",
        "plt.axis('square')\n",
        "plt.show()"
      ],
      "execution_count": null,
      "outputs": [
        {
          "output_type": "stream",
          "text": [
            "2\n"
          ],
          "name": "stdout"
        },
        {
          "output_type": "display_data",
          "data": {
            "image/png": "[encoded data removed]",
            "text/plain": [
              "<Figure size 432x288 with 1 Axes>"
            ]
          },
          "metadata": {
            "tags": [],
            "needs_background": "light"
          }
        }
      ]
    },
    {
      "cell_type": "markdown",
      "metadata": {
        "id": "v9Ex-1tymRt8"
      },
      "source": [
        "## 157 Principal Component Analysis"
      ]
    },
    {
      "cell_type": "code",
      "metadata": {
        "colab": {
          "base_uri": "https://localhost:8080/"
        },
        "id": "CJwam-AMli4e",
        "outputId": "124cb8bf-98be-479b-8356-5a47698f983b"
      },
      "source": [
        "X_t = pca.fit_transform(X)\n",
        "\n",
        "print(pca.explained_variance_)\n",
        "print(pca.explained_variance_ratio_)"
      ],
      "execution_count": null,
      "outputs": [
        {
          "output_type": "stream",
          "text": [
            "[7.93954312 0.06045688]\n",
            "[0.99244289 0.00755711]\n"
          ],
          "name": "stdout"
        }
      ]
    },
    {
      "cell_type": "code",
      "metadata": {
        "colab": {
          "base_uri": "https://localhost:8080/"
        },
        "id": "dF8DUw2_maQN",
        "outputId": "ecb0e1e8-b5ab-4fe7-f836-d4924d199209"
      },
      "source": [
        "import numpy as np\n",
        "\n",
        "\n",
        "print(np.linalg.det(pca.components_))\n",
        "\n",
        "print(np.dot(pca.components_[0,:], pca.components_[0,:]))\n",
        "\n",
        "print(np.dot(pca.components_[1,:], pca.components_[1,:]))\n",
        "\n",
        "print('Rotation matrix rotates by the following degrees:')\n",
        "print(np.arctan2(pca.components_[0,0], pca.components_[0,1])/np.pi*180)"
      ],
      "execution_count": null,
      "outputs": [
        {
          "output_type": "stream",
          "text": [
            "1.0\n",
            "1.0\n",
            "1.0\n",
            "Rotation matrix rotates by the following degrees:\n",
            "-123.01875551271091\n"
          ],
          "name": "stdout"
        }
      ]
    },
    {
      "cell_type": "code",
      "metadata": {
        "colab": {
          "base_uri": "https://localhost:8080/",
          "height": 546
        },
        "id": "xSvwHwnhxHUJ",
        "outputId": "c788063e-d008-4dc4-b3fe-f61a38764ae5"
      },
      "source": [
        "import matplotlib.pyplot as plt\n",
        "import pandas as pd\n",
        "from sklearn.cluster import KMeans\n",
        "from sklearn.decomposition import PCA\n",
        "from sklearn.preprocessing import StandardScaler\n",
        "\n",
        "dataset_path = 'https://raw.githubusercontent.com/tertiarycourses/datasets/master/iris.csv'\n",
        "X = pd.read_csv(dataset_path).dropna() #import as pandas DataFrame and clean\n",
        "y = X.pop('species') \n",
        "\n",
        "scaler = StandardScaler()\n",
        "X = scaler.fit_transform(X) #retain as matrix\n",
        "\n",
        "pca = PCA(n_components=4)\n",
        "X_t = pca.fit_transform(X)\n",
        "\n",
        "print(pca.explained_variance_)\n",
        "print(pca.explained_variance_ratio_)\n",
        "\n",
        "km1 = KMeans(n_clusters=2)\n",
        "km2 = KMeans(n_clusters=2)\n",
        "\n",
        "y1 = km1.fit(X).predict(X)\n",
        "y2 = km2.fit(X_t).predict(X_t)\n",
        "\n",
        "plt.scatter(X[:, 0], X[:, 1], c=y1)\n",
        "plt.show()\n",
        "\n",
        "plt.scatter(X_t[:, 0], X_t[:, 1], c=y2)\n",
        "plt.show()"
      ],
      "execution_count": null,
      "outputs": [
        {
          "output_type": "stream",
          "text": [
            "[2.93035378 0.92740362 0.14834223 0.02074601]\n",
            "[0.72770452 0.23030523 0.03683832 0.00515193]\n"
          ],
          "name": "stdout"
        },
        {
          "output_type": "display_data",
          "data": {
            "image/png": "[encoded data removed]",
            "text/plain": [
              "<Figure size 432x288 with 1 Axes>"
            ]
          },
          "metadata": {
            "tags": [],
            "needs_background": "light"
          }
        },
        {
          "output_type": "display_data",
          "data": {
            "image/png": "[encoded data removed]",
            "text/plain": [
              "<Figure size 432x288 with 1 Axes>"
            ]
          },
          "metadata": {
            "tags": [],
            "needs_background": "light"
          }
        }
      ]
    },
    {
      "cell_type": "code",
      "metadata": {
        "id": "fTjBnlukxH8R"
      },
      "source": [
        ""
      ],
      "execution_count": null,
      "outputs": []
    }
  ]
}